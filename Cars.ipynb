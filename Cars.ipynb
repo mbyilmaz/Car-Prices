{
 "cells": [
  {
   "cell_type": "markdown",
   "metadata": {},
   "source": [
    "# Used Car Prices\n",
    "\n",
    "We will study the sales prices posted for used cars at an online website. In particular, we will focus on the Cars.com and the Turkish website sahibinden.com. In order to get meaningful statistics, we will focus on car models that are popular with high number of posts."
   ]
  },
  {
   "cell_type": "code",
   "execution_count": 239,
   "metadata": {},
   "outputs": [],
   "source": [
    "import requests\n",
    "from bs4 import BeautifulSoup\n",
    "import json\n",
    "import string\n",
    "import numpy as np\n",
    "import pandas as pd\n",
    "from matplotlib import pyplot as plt\n",
    "import seaborn as sns"
   ]
  },
  {
   "cell_type": "code",
   "execution_count": 2,
   "metadata": {},
   "outputs": [],
   "source": [
    "#Helper functions to navigate the JSON object converted into python dictionary. Note that\n",
    "#the dictionary has additional subdictionaries  and lists so the functions handle both.\n",
    "def searchinlist(l,key):\n",
    "    for value in l:\n",
    "        res=None\n",
    "        if isinstance(value,dict):\n",
    "            res=findkey(value,key)\n",
    "        elif isinstance(value,list):\n",
    "            res=searchinlist(value,key)\n",
    "        if res!=None:\n",
    "            return res\n",
    "    return None        \n",
    "\n",
    "def findkey(d,key):\n",
    "    for k in d:\n",
    "        value=d[k]\n",
    "        res=None\n",
    "        if k==key:\n",
    "            res=value\n",
    "        elif isinstance(value,dict):\n",
    "            res=findkey(value,key)\n",
    "        elif isinstance(value,list):\n",
    "            res=searchinlist(value,key)\n",
    "        if res!=None:\n",
    "            return res\n",
    "    return None\n",
    "\n",
    "def listdict(d):\n",
    "    for key in d:\n",
    "        value=d[key]\n",
    "        if isinstance(value,dict):\n",
    "            print(key+\" :\")\n",
    "            listdict(value)\n",
    "        else:\n",
    "            print(key,\" : \",value)"
   ]
  },
  {
   "cell_type": "markdown",
   "metadata": {},
   "source": [
    "We will start by scraping the used car data from Cars.com. We will study the data for Honda Civic models within 500 miles of my current zip. "
   ]
  },
  {
   "cell_type": "code",
   "execution_count": 3,
   "metadata": {},
   "outputs": [
    {
     "name": "stdout",
     "output_type": "stream",
     "text": [
      "Completed 5 of 50 pages\n",
      "Completed 10 of 50 pages\n",
      "Completed 15 of 50 pages\n",
      "Completed 20 of 50 pages\n",
      "Completed 25 of 50 pages\n",
      "Completed 30 of 50 pages\n",
      "Completed 35 of 50 pages\n",
      "Completed 40 of 50 pages\n",
      "Completed 45 of 50 pages\n",
      "Completed 50 of 50 pages\n"
     ]
    },
    {
     "data": {
      "text/html": [
       "<div>\n",
       "<style scoped>\n",
       "    .dataframe tbody tr th:only-of-type {\n",
       "        vertical-align: middle;\n",
       "    }\n",
       "\n",
       "    .dataframe tbody tr th {\n",
       "        vertical-align: top;\n",
       "    }\n",
       "\n",
       "    .dataframe thead th {\n",
       "        text-align: right;\n",
       "    }\n",
       "</style>\n",
       "<table border=\"1\" class=\"dataframe\">\n",
       "  <thead>\n",
       "    <tr style=\"text-align: right;\">\n",
       "      <th></th>\n",
       "      <th>index</th>\n",
       "      <th>listingId</th>\n",
       "      <th>stockType</th>\n",
       "      <th>make</th>\n",
       "      <th>makeId</th>\n",
       "      <th>model</th>\n",
       "      <th>modelId</th>\n",
       "      <th>year</th>\n",
       "      <th>trim</th>\n",
       "      <th>bodyStyle</th>\n",
       "      <th>...</th>\n",
       "      <th>distanceFromSearchZip</th>\n",
       "      <th>sellerDisplayLabel</th>\n",
       "      <th>streetAddress</th>\n",
       "      <th>city</th>\n",
       "      <th>state</th>\n",
       "      <th>truncatedDescription</th>\n",
       "      <th>rating</th>\n",
       "      <th>reviewCount</th>\n",
       "      <th>dealerChatProvider</th>\n",
       "      <th>hasCpoShowroomEnabled</th>\n",
       "    </tr>\n",
       "  </thead>\n",
       "  <tbody>\n",
       "    <tr>\n",
       "      <th>0</th>\n",
       "      <td>0</td>\n",
       "      <td>803074978</td>\n",
       "      <td>Used</td>\n",
       "      <td>Honda</td>\n",
       "      <td>20017</td>\n",
       "      <td>Civic</td>\n",
       "      <td>20823</td>\n",
       "      <td>2013</td>\n",
       "      <td>EX</td>\n",
       "      <td>Sedan</td>\n",
       "      <td>...</td>\n",
       "      <td>3</td>\n",
       "      <td>Dealer</td>\n",
       "      <td>100 Broadway</td>\n",
       "      <td>Everett</td>\n",
       "      <td>MA</td>\n",
       "      <td>NEW BRAKES, RECENT HONDA CARS OF BOSTON TRADE ...</td>\n",
       "      <td>4.9</td>\n",
       "      <td>878</td>\n",
       "      <td>Dealer Inspire</td>\n",
       "      <td>True</td>\n",
       "    </tr>\n",
       "    <tr>\n",
       "      <th>1</th>\n",
       "      <td>1</td>\n",
       "      <td>804957670</td>\n",
       "      <td>Used</td>\n",
       "      <td>Honda</td>\n",
       "      <td>20017</td>\n",
       "      <td>Civic</td>\n",
       "      <td>20823</td>\n",
       "      <td>2014</td>\n",
       "      <td>LX</td>\n",
       "      <td>Sedan</td>\n",
       "      <td>...</td>\n",
       "      <td>3</td>\n",
       "      <td>Individual Seller</td>\n",
       "      <td>None</td>\n",
       "      <td>Boston</td>\n",
       "      <td>MA</td>\n",
       "      <td>2014 Honda Civic. I used this car as my daily ...</td>\n",
       "      <td>0.0</td>\n",
       "      <td>0</td>\n",
       "      <td>None</td>\n",
       "      <td>False</td>\n",
       "    </tr>\n",
       "    <tr>\n",
       "      <th>2</th>\n",
       "      <td>2</td>\n",
       "      <td>806789627</td>\n",
       "      <td>Used</td>\n",
       "      <td>Honda</td>\n",
       "      <td>20017</td>\n",
       "      <td>Civic</td>\n",
       "      <td>20823</td>\n",
       "      <td>2007</td>\n",
       "      <td>EX</td>\n",
       "      <td>Sedan</td>\n",
       "      <td>...</td>\n",
       "      <td>9</td>\n",
       "      <td>Dealer</td>\n",
       "      <td>97 Andover St</td>\n",
       "      <td>Danvers</td>\n",
       "      <td>MA</td>\n",
       "      <td>Thank you for your interest in one of Ira Suba...</td>\n",
       "      <td>4.6</td>\n",
       "      <td>353</td>\n",
       "      <td>None</td>\n",
       "      <td>False</td>\n",
       "    </tr>\n",
       "    <tr>\n",
       "      <th>3</th>\n",
       "      <td>3</td>\n",
       "      <td>805150738</td>\n",
       "      <td>Used</td>\n",
       "      <td>Honda</td>\n",
       "      <td>20017</td>\n",
       "      <td>Civic</td>\n",
       "      <td>20823</td>\n",
       "      <td>2017</td>\n",
       "      <td>LX</td>\n",
       "      <td>Sedan</td>\n",
       "      <td>...</td>\n",
       "      <td>13</td>\n",
       "      <td>Dealer</td>\n",
       "      <td>1575 VFW Parkway</td>\n",
       "      <td>Boston</td>\n",
       "      <td>MA</td>\n",
       "      <td>Odometer is 9291 miles below market average! B...</td>\n",
       "      <td>3.5</td>\n",
       "      <td>124</td>\n",
       "      <td>None</td>\n",
       "      <td>True</td>\n",
       "    </tr>\n",
       "    <tr>\n",
       "      <th>4</th>\n",
       "      <td>4</td>\n",
       "      <td>807443129</td>\n",
       "      <td>Used</td>\n",
       "      <td>Honda</td>\n",
       "      <td>20017</td>\n",
       "      <td>Civic</td>\n",
       "      <td>20823</td>\n",
       "      <td>2016</td>\n",
       "      <td>EX-T</td>\n",
       "      <td>Coupe</td>\n",
       "      <td>...</td>\n",
       "      <td>23</td>\n",
       "      <td>Dealer</td>\n",
       "      <td>1150 Westford St</td>\n",
       "      <td>Lowell</td>\n",
       "      <td>MA</td>\n",
       "      <td>Clean CARFAX. Priced below KBB Fair Purchase P...</td>\n",
       "      <td>4.7</td>\n",
       "      <td>249</td>\n",
       "      <td>Dealer Inspire</td>\n",
       "      <td>False</td>\n",
       "    </tr>\n",
       "  </tbody>\n",
       "</table>\n",
       "<p>5 rows × 32 columns</p>\n",
       "</div>"
      ],
      "text/plain": [
       "   index  listingId stockType   make  makeId  model  modelId  year  trim  \\\n",
       "0      0  803074978      Used  Honda   20017  Civic    20823  2013    EX   \n",
       "1      1  804957670      Used  Honda   20017  Civic    20823  2014    LX   \n",
       "2      2  806789627      Used  Honda   20017  Civic    20823  2007    EX   \n",
       "3      3  805150738      Used  Honda   20017  Civic    20823  2017    LX   \n",
       "4      4  807443129      Used  Honda   20017  Civic    20823  2016  EX-T   \n",
       "\n",
       "  bodyStyle  ...  distanceFromSearchZip  sellerDisplayLabel     streetAddress  \\\n",
       "0     Sedan  ...                      3              Dealer      100 Broadway   \n",
       "1     Sedan  ...                      3   Individual Seller              None   \n",
       "2     Sedan  ...                      9              Dealer     97 Andover St   \n",
       "3     Sedan  ...                     13              Dealer  1575 VFW Parkway   \n",
       "4     Coupe  ...                     23              Dealer  1150 Westford St   \n",
       "\n",
       "      city state                               truncatedDescription rating  \\\n",
       "0  Everett    MA  NEW BRAKES, RECENT HONDA CARS OF BOSTON TRADE ...    4.9   \n",
       "1   Boston    MA  2014 Honda Civic. I used this car as my daily ...    0.0   \n",
       "2  Danvers    MA  Thank you for your interest in one of Ira Suba...    4.6   \n",
       "3   Boston    MA  Odometer is 9291 miles below market average! B...    3.5   \n",
       "4   Lowell    MA  Clean CARFAX. Priced below KBB Fair Purchase P...    4.7   \n",
       "\n",
       "  reviewCount dealerChatProvider hasCpoShowroomEnabled  \n",
       "0         878     Dealer Inspire                  True  \n",
       "1           0               None                 False  \n",
       "2         353               None                 False  \n",
       "3         124               None                  True  \n",
       "4         249     Dealer Inspire                 False  \n",
       "\n",
       "[5 rows x 32 columns]"
      ]
     },
     "execution_count": 3,
     "metadata": {},
     "output_type": "execute_result"
    }
   ],
   "source": [
    "#Initialize Data Frame for Honda Civic data from cars.com\n",
    "civic = pd.DataFrame()\n",
    "ps=50\n",
    "for p in range(ps):\n",
    "    #Setup the URL of the listings\n",
    "    URL = 'https://www.cars.com/for-sale/searchresults.action/?dealerType=all&mdId=20823&mkId=20017&page={}&perPage=100&rd=500&searchSource=GN_REFINEMENT&sort=relevance&stkTypId=28881&zc=02151'.format(p+1)\n",
    "    #Read page\n",
    "    page = requests.get(URL)\n",
    "    soup = BeautifulSoup(page.content)\n",
    "    with open(\".\\html\\page{}.html\".format(p), \"w\",encoding='utf-8') as file:\n",
    "        file.write(str(soup))\n",
    "    #Extract json information containing listing data\n",
    "    result = soup.find_all('script')[2].text[61:-2]\n",
    "    #Convert json data to dictionary\n",
    "    res = json.loads(result)\n",
    "    #Find vehicle information in the dictionary and store in a dataframe\n",
    "    df1 = pd.DataFrame(findkey(res,'vehicle'))\n",
    "    #Find additional vehicle information (color,transmission, etc.) in the html and store in a second Data Frame\n",
    "    cars = soup.find_all('div',class_='listing-row__details')\n",
    "    vals = []\n",
    "    for car in cars:\n",
    "        val = {}\n",
    "        val['Color Ext'] = car.find_all('li')[0].text.strip().split()[-1]\n",
    "        val['Color Int'] = car.find_all('li')[1].text.strip().split()[-1]\n",
    "        val['Transmission'] = car.find_all('li')[2].text.strip().split()[-1]\n",
    "        val['Drivetrain'] = car.find_all('li')[3].text.strip().split()[-1]\n",
    "        vals.append(val)\n",
    "    df2 = pd.DataFrame(vals)\n",
    "    #Merge the two Data Frames from json and html data sources and append to civic Data Frame\n",
    "    civic = civic.append(df1.merge(df2,left_index=True,right_index=True))\n",
    "    if (p+1)%5 ==0:\n",
    "        print('Completed {} of {} pages'.format(p+1,ps))\n",
    "    if (p+1)*100>findkey(res,'numResultsReturned'):\n",
    "        break\n",
    "civic.reset_index(inplace=True)\n",
    "\n",
    "#Extract seller information from seller column of civic.\n",
    "sellerdf=pd.DataFrame(civic['seller'].tolist())\n",
    "\n",
    "#Drop unnecessary columns from civic and sellerdfs.\n",
    "civic.drop(columns=['customerId','type','detail','seller'],inplace=True)\n",
    "sellerdf.drop(columns=['id','phoneNumber2','customerId','formattedPhoneNumber','formattedPhoneNumber2'],inplace=True)\n",
    "\n",
    "#Merge civic and sellerdf Data Frames\n",
    "civic=civic.merge(sellerdf,left_index=True,right_index=True)\n",
    "civic.drop(columns=['index','truncatedDescription'],inplace=True)\n",
    "civic.head()   \n",
    "#print(df.shape)"
   ]
  },
  {
   "cell_type": "code",
   "execution_count": 74,
   "metadata": {},
   "outputs": [],
   "source": [
    "#Save dataframe to file for future use\n",
    "#civic.to_csv('civic.csv',index=False)\n",
    "#Load dataframe from file rather than downloading from web\n",
    "civic=pd.read_csv('civic.csv')"
   ]
  },
  {
   "cell_type": "markdown",
   "metadata": {},
   "source": [
    "Scrape the description of each car listing:"
   ]
  },
  {
   "cell_type": "code",
   "execution_count": 23,
   "metadata": {},
   "outputs": [
    {
     "name": "stdout",
     "output_type": "stream",
     "text": [
      "Completed (N =4936):\n",
      "20, 40, 60, 80, 100, 120, 140, 160, 180, 200, 220, 240, 260, 280, 300, 320, 340, 360, 380, 400, 420, 440, 460, 480, 500, 520, 540, 560, 580, 600, 620, 640, 660, 680, 700, 720, 740, 760, 780, 800, 820, 840, 860, 880, 900, 920, 940, 960, 980, 1000, 1020, 1040, 1060, 1080, 1100, 1120, 1140, 1160, 1180, 1200, 1220, 1240, 1260, 1280, 1300, 1320, 1340, 1360, 1380, 1400, 1420, 1440, 1460, 1480, 1500, 1520, 1540, 1560, 1580, 1600, 1620, 1640, 1660, 1680, 1700, 1720, 1740, 1760, 1780, 1800, 1820, 1840, 1860, 1880, 1900, 1920, 1940, 1960, 1980, 2000, 2020, 2040, 2060, 2080, 2100, 2120, 2140, 2160, 2180, 2200, 2220, 2240, 2260, 2280, 2300, 2320, 2340, 2360, 2380, 2400, 2420, 2440, 2460, 2480, 2500, 2520, 2540, 2560, 2580, 2600, 2620, 2640, 2660, 2680, 2700, 2720, 2740, 2760, 2780, 2800, 2820, 2840, 2860, 2880, 2900, 2920, 2940, 2960, 2980, 3000, 3020, 3040, 3060, 3080, 3100, 3120, 3140, 3160, 3180, 3200, 3220, 3240, 3260, 3280, 3300, 3320, 3340, 3360, 3380, 3400, 3420, 3440, 3460, 3480, 3500, 3520, 3540, 3560, 3580, 3600, 3620, 3640, 3660, 3680, 3700, 3720, 3740, 3760, 3780, 3800, 3820, 3840, 3860, 3880, 3900, 3920, 3940, 3960, 3980, 4000, 4020, 4040, 4060, 4080, 4100, 4120, 4140, 4160, 4180, 4200, 4220, 4240, 4260, 4280, 4300, 4320, 4340, 4360, 4380, 4400, 4420, 4440, 4460, 4480, 4500, 4520, 4540, 4560, 4580, 4600, 4620, 4640, 4660, 4680, 4700, 4720, 4740, 4760, 4780, 4800, 4820, 4840, 4860, 4880, 4900, 4920, "
     ]
    }
   ],
   "source": [
    "descs=[]\n",
    "descriptions=[]\n",
    "nlistings=len(civic)\n",
    "print('Completed (N ={}):'.format(nlistings))\n",
    "for index,car in civic.iterrows():\n",
    "    URL = 'https://www.cars.com/vehicledetail/detail/{}/overview/'.format(car['listingId'])\n",
    "    page = requests.get(URL)\n",
    "    soup = BeautifulSoup(page.content)\n",
    "    with open(\".\\html\\{}.html\".format(car['listingId']), \"w\",encoding='utf-8') as file:\n",
    "        file.write(str(soup))\n",
    "    result = soup.find_all('script',id='listingJson')\n",
    "    try:\n",
    "        res = json.loads(result[0].text[2:-1])\n",
    "        desc = findkey(res,'sellerNotes')\n",
    "        descs.append({'listingId':car['listingId'],'description':('None' if desc==None else desc)})\n",
    "        desclist = (['None'] if desc==None else desc.translate(str.maketrans('', '', string.punctuation)).lower().split())\n",
    "        descriptions.append(desclist)\n",
    "    except:\n",
    "        descs.append({'listingId':car['listingId'],'description':'None'})\n",
    "        descriptions.append(['None'])\n",
    "    if (index+1)%20 ==0:\n",
    "        print('{}, '.format(index+1,nlistings),end='')\n",
    "        \n",
    "civicdescriptions=pd.DataFrame(descs)\n",
    "\n",
    "#Use the following for reading data from saved html files\n",
    "#with open(\".\\html\\output1.html\", \"r\",encoding='utf-8') as file:\n",
    "#    output1=file.read()\n",
    "#soup2 = BeautifulSoup(output1,\"html.parser\")"
   ]
  },
  {
   "cell_type": "code",
   "execution_count": 33,
   "metadata": {},
   "outputs": [
    {
     "data": {
      "text/html": [
       "<div>\n",
       "<style scoped>\n",
       "    .dataframe tbody tr th:only-of-type {\n",
       "        vertical-align: middle;\n",
       "    }\n",
       "\n",
       "    .dataframe tbody tr th {\n",
       "        vertical-align: top;\n",
       "    }\n",
       "\n",
       "    .dataframe thead th {\n",
       "        text-align: right;\n",
       "    }\n",
       "</style>\n",
       "<table border=\"1\" class=\"dataframe\">\n",
       "  <thead>\n",
       "    <tr style=\"text-align: right;\">\n",
       "      <th></th>\n",
       "      <th>listingId</th>\n",
       "      <th>description</th>\n",
       "    </tr>\n",
       "  </thead>\n",
       "  <tbody>\n",
       "    <tr>\n",
       "      <th>0</th>\n",
       "      <td>803074978</td>\n",
       "      <td>NEW BRAKES, RECENT HONDA CARS OF BOSTON TRADE ...</td>\n",
       "    </tr>\n",
       "    <tr>\n",
       "      <th>1</th>\n",
       "      <td>804957670</td>\n",
       "      <td>2014 Honda Civic. I used this car as my daily ...</td>\n",
       "    </tr>\n",
       "    <tr>\n",
       "      <th>2</th>\n",
       "      <td>806789627</td>\n",
       "      <td>Thank you for your interest in one of Ira Suba...</td>\n",
       "    </tr>\n",
       "    <tr>\n",
       "      <th>3</th>\n",
       "      <td>805150738</td>\n",
       "      <td>Odometer is 9291 miles below market average! B...</td>\n",
       "    </tr>\n",
       "    <tr>\n",
       "      <th>4</th>\n",
       "      <td>807443129</td>\n",
       "      <td>Clean CARFAX. Priced below KBB Fair Purchase P...</td>\n",
       "    </tr>\n",
       "  </tbody>\n",
       "</table>\n",
       "</div>"
      ],
      "text/plain": [
       "   listingId                                        description\n",
       "0  803074978  NEW BRAKES, RECENT HONDA CARS OF BOSTON TRADE ...\n",
       "1  804957670  2014 Honda Civic. I used this car as my daily ...\n",
       "2  806789627  Thank you for your interest in one of Ira Suba...\n",
       "3  805150738  Odometer is 9291 miles below market average! B...\n",
       "4  807443129  Clean CARFAX. Priced below KBB Fair Purchase P..."
      ]
     },
     "execution_count": 33,
     "metadata": {},
     "output_type": "execute_result"
    }
   ],
   "source": [
    "civicdescriptions.head()"
   ]
  },
  {
   "cell_type": "code",
   "execution_count": 41,
   "metadata": {},
   "outputs": [],
   "source": [
    "#Save dataframe to file\n",
    "#civicdescriptions.to_csv('civicdescriptions.csv',index=False)\n",
    "\n",
    "#Load dataframe from file rather than downloading from web\n",
    "civicdescriptions=pd.read_csv('civicdescriptions.csv')"
   ]
  },
  {
   "cell_type": "markdown",
   "metadata": {},
   "source": [
    "# Data Exploration:\n",
    "We will first get some summary statistics of the data."
   ]
  },
  {
   "cell_type": "code",
   "execution_count": 54,
   "metadata": {},
   "outputs": [
    {
     "data": {
      "text/plain": [
       "listingId                                                        803074978\n",
       "stockType                                                             Used\n",
       "make                                                                 Honda\n",
       "makeId                                                               20017\n",
       "model                                                                Civic\n",
       "modelId                                                              20823\n",
       "year                                                                  2013\n",
       "trim                                                                    EX\n",
       "bodyStyle                                                            Sedan\n",
       "certified                                                            False\n",
       "privateSeller                                                        False\n",
       "price                                                                11645\n",
       "mileage                                                              59606\n",
       "vin                                                      19XFB2F8XDE268905\n",
       "priceBadge                                                      Fair Price\n",
       "Color Ext                                                            White\n",
       "Color Int                                                            Beige\n",
       "Transmission                                                     Automatic\n",
       "Drivetrain                                                             FWD\n",
       "name                                                  Honda Cars of Boston\n",
       "phoneNumber                                                     6175008022\n",
       "distanceFromSearchZip                                                    3\n",
       "sellerDisplayLabel                                                  Dealer\n",
       "streetAddress                                                 100 Broadway\n",
       "city                                                               Everett\n",
       "state                                                                   MA\n",
       "truncatedDescription     NEW BRAKES, RECENT HONDA CARS OF BOSTON TRADE ...\n",
       "rating                                                                 4.9\n",
       "reviewCount                                                            878\n",
       "dealerChatProvider                                          Dealer Inspire\n",
       "hasCpoShowroomEnabled                                                 True\n",
       "Name: 0, dtype: object"
      ]
     },
     "execution_count": 54,
     "metadata": {},
     "output_type": "execute_result"
    }
   ],
   "source": [
    "civic.loc[0]"
   ]
  },
  {
   "cell_type": "code",
   "execution_count": 62,
   "metadata": {},
   "outputs": [],
   "source": [
    "cols = ['year','trim','bodyStyle','price','mileage','priceBadge','Color Ext','Color Int','Transmission','Drivetrain']\n",
    "cols_cat = ['year','trim','bodyStyle','priceBadge','Color Ext','Color Int','Transmission','Drivetrain']\n",
    "cols_num = ['year','mileage','price']"
   ]
  },
  {
   "cell_type": "code",
   "execution_count": 63,
   "metadata": {},
   "outputs": [
    {
     "data": {
      "text/html": [
       "<div>\n",
       "<style scoped>\n",
       "    .dataframe tbody tr th:only-of-type {\n",
       "        vertical-align: middle;\n",
       "    }\n",
       "\n",
       "    .dataframe tbody tr th {\n",
       "        vertical-align: top;\n",
       "    }\n",
       "\n",
       "    .dataframe thead th {\n",
       "        text-align: right;\n",
       "    }\n",
       "</style>\n",
       "<table border=\"1\" class=\"dataframe\">\n",
       "  <thead>\n",
       "    <tr style=\"text-align: right;\">\n",
       "      <th></th>\n",
       "      <th>year</th>\n",
       "      <th>mileage</th>\n",
       "      <th>price</th>\n",
       "    </tr>\n",
       "  </thead>\n",
       "  <tbody>\n",
       "    <tr>\n",
       "      <th>count</th>\n",
       "      <td>4936.000000</td>\n",
       "      <td>4936.000000</td>\n",
       "      <td>4891.000000</td>\n",
       "    </tr>\n",
       "    <tr>\n",
       "      <th>mean</th>\n",
       "      <td>2015.562196</td>\n",
       "      <td>44134.606564</td>\n",
       "      <td>14957.501125</td>\n",
       "    </tr>\n",
       "    <tr>\n",
       "      <th>std</th>\n",
       "      <td>3.443771</td>\n",
       "      <td>38796.639295</td>\n",
       "      <td>4662.960239</td>\n",
       "    </tr>\n",
       "    <tr>\n",
       "      <th>min</th>\n",
       "      <td>1992.000000</td>\n",
       "      <td>0.000000</td>\n",
       "      <td>700.000000</td>\n",
       "    </tr>\n",
       "    <tr>\n",
       "      <th>25%</th>\n",
       "      <td>2015.000000</td>\n",
       "      <td>19510.750000</td>\n",
       "      <td>12997.500000</td>\n",
       "    </tr>\n",
       "    <tr>\n",
       "      <th>50%</th>\n",
       "      <td>2017.000000</td>\n",
       "      <td>31661.000000</td>\n",
       "      <td>15900.000000</td>\n",
       "    </tr>\n",
       "    <tr>\n",
       "      <th>75%</th>\n",
       "      <td>2017.000000</td>\n",
       "      <td>53281.500000</td>\n",
       "      <td>17890.000000</td>\n",
       "    </tr>\n",
       "    <tr>\n",
       "      <th>max</th>\n",
       "      <td>2020.000000</td>\n",
       "      <td>316000.000000</td>\n",
       "      <td>37995.000000</td>\n",
       "    </tr>\n",
       "  </tbody>\n",
       "</table>\n",
       "</div>"
      ],
      "text/plain": [
       "              year        mileage         price\n",
       "count  4936.000000    4936.000000   4891.000000\n",
       "mean   2015.562196   44134.606564  14957.501125\n",
       "std       3.443771   38796.639295   4662.960239\n",
       "min    1992.000000       0.000000    700.000000\n",
       "25%    2015.000000   19510.750000  12997.500000\n",
       "50%    2017.000000   31661.000000  15900.000000\n",
       "75%    2017.000000   53281.500000  17890.000000\n",
       "max    2020.000000  316000.000000  37995.000000"
      ]
     },
     "execution_count": 63,
     "metadata": {},
     "output_type": "execute_result"
    }
   ],
   "source": [
    "civic[cols_num].describe()"
   ]
  },
  {
   "cell_type": "markdown",
   "metadata": {},
   "source": [
    "The median values for year, mileage, and price are 2017, 30K, and 16K, respectively. The cheapest car is 700 dollars and the most expensive 38K. It is important to note that some listings have zero mileage. We need to check if this is an omission or cars are nearly brand new. In addition, some listings are missing price. We should drop these entries from the data. \n",
    "\n",
    "Let's first check the cars with zero mileage:"
   ]
  },
  {
   "cell_type": "code",
   "execution_count": 64,
   "metadata": {},
   "outputs": [
    {
     "data": {
      "text/html": [
       "<div>\n",
       "<style scoped>\n",
       "    .dataframe tbody tr th:only-of-type {\n",
       "        vertical-align: middle;\n",
       "    }\n",
       "\n",
       "    .dataframe tbody tr th {\n",
       "        vertical-align: top;\n",
       "    }\n",
       "\n",
       "    .dataframe thead th {\n",
       "        text-align: right;\n",
       "    }\n",
       "</style>\n",
       "<table border=\"1\" class=\"dataframe\">\n",
       "  <thead>\n",
       "    <tr style=\"text-align: right;\">\n",
       "      <th></th>\n",
       "      <th>year</th>\n",
       "      <th>trim</th>\n",
       "      <th>bodyStyle</th>\n",
       "      <th>price</th>\n",
       "      <th>mileage</th>\n",
       "      <th>priceBadge</th>\n",
       "      <th>Color Ext</th>\n",
       "      <th>Color Int</th>\n",
       "      <th>Transmission</th>\n",
       "      <th>Drivetrain</th>\n",
       "    </tr>\n",
       "  </thead>\n",
       "  <tbody>\n",
       "    <tr>\n",
       "      <th>4786</th>\n",
       "      <td>2000</td>\n",
       "      <td>EX</td>\n",
       "      <td>Coupe</td>\n",
       "      <td>NaN</td>\n",
       "      <td>0</td>\n",
       "      <td></td>\n",
       "      <td>Other</td>\n",
       "      <td>Other</td>\n",
       "      <td>Automatic</td>\n",
       "      <td>FWD</td>\n",
       "    </tr>\n",
       "    <tr>\n",
       "      <th>4812</th>\n",
       "      <td>2004</td>\n",
       "      <td>LX</td>\n",
       "      <td>Coupe</td>\n",
       "      <td>NaN</td>\n",
       "      <td>0</td>\n",
       "      <td></td>\n",
       "      <td>Other</td>\n",
       "      <td>Other</td>\n",
       "      <td>Automatic</td>\n",
       "      <td>FWD</td>\n",
       "    </tr>\n",
       "    <tr>\n",
       "      <th>4813</th>\n",
       "      <td>2009</td>\n",
       "      <td>LX</td>\n",
       "      <td>Sedan</td>\n",
       "      <td>NaN</td>\n",
       "      <td>0</td>\n",
       "      <td></td>\n",
       "      <td>Other</td>\n",
       "      <td>Other</td>\n",
       "      <td>Automatic</td>\n",
       "      <td>FWD</td>\n",
       "    </tr>\n",
       "    <tr>\n",
       "      <th>4814</th>\n",
       "      <td>2017</td>\n",
       "      <td>LX</td>\n",
       "      <td>Sedan</td>\n",
       "      <td>NaN</td>\n",
       "      <td>0</td>\n",
       "      <td></td>\n",
       "      <td>Gray</td>\n",
       "      <td>Other</td>\n",
       "      <td>CVT</td>\n",
       "      <td>FWD</td>\n",
       "    </tr>\n",
       "  </tbody>\n",
       "</table>\n",
       "</div>"
      ],
      "text/plain": [
       "      year trim bodyStyle  price  mileage priceBadge Color Ext Color Int  \\\n",
       "4786  2000   EX     Coupe    NaN        0                Other     Other   \n",
       "4812  2004   LX     Coupe    NaN        0                Other     Other   \n",
       "4813  2009   LX     Sedan    NaN        0                Other     Other   \n",
       "4814  2017   LX     Sedan    NaN        0                 Gray     Other   \n",
       "\n",
       "     Transmission Drivetrain  \n",
       "4786    Automatic        FWD  \n",
       "4812    Automatic        FWD  \n",
       "4813    Automatic        FWD  \n",
       "4814          CVT        FWD  "
      ]
     },
     "execution_count": 64,
     "metadata": {},
     "output_type": "execute_result"
    }
   ],
   "source": [
    "civic[civic['mileage']==0][cols]"
   ]
  },
  {
   "cell_type": "markdown",
   "metadata": {},
   "source": [
    "There are only 4 cars with no mileage. They are also missing the price. So, these listings should be dropped."
   ]
  },
  {
   "cell_type": "code",
   "execution_count": 66,
   "metadata": {},
   "outputs": [
    {
     "data": {
      "text/plain": [
       "(45, 31)"
      ]
     },
     "execution_count": 66,
     "metadata": {},
     "output_type": "execute_result"
    }
   ],
   "source": [
    "civic[civic['price'].isna()].shape"
   ]
  },
  {
   "cell_type": "markdown",
   "metadata": {},
   "source": [
    "There are 45 entries (including the 0 mileage ones) with no price label. Some of these were actually not used cars. We will drop all these listings.\n",
    "\n",
    "We will check if there are any cars with mileage less that 500 miles. We will not categorize these as used cars and will also drop them from the data."
   ]
  },
  {
   "cell_type": "code",
   "execution_count": 90,
   "metadata": {},
   "outputs": [
    {
     "data": {
      "text/plain": [
       "(61, 10)"
      ]
     },
     "execution_count": 90,
     "metadata": {},
     "output_type": "execute_result"
    }
   ],
   "source": [
    "civic[(civic['mileage']<500)][cols].shape"
   ]
  },
  {
   "cell_type": "code",
   "execution_count": 91,
   "metadata": {},
   "outputs": [],
   "source": [
    "#combine civic and civicdescriptions:\n",
    "civic_clean = civic.merge(civicdescriptions,on='listingId')\n",
    "#Drop rows with no price:\n",
    "civic_clean.dropna(subset=['price'],inplace=True)\n",
    "#Drop rows with new cars\n",
    "civic_clean.drop(civic_clean[(civic_clean['mileage']<500)].index,inplace=True)"
   ]
  },
  {
   "cell_type": "code",
   "execution_count": 92,
   "metadata": {},
   "outputs": [
    {
     "data": {
      "text/html": [
       "<div>\n",
       "<style scoped>\n",
       "    .dataframe tbody tr th:only-of-type {\n",
       "        vertical-align: middle;\n",
       "    }\n",
       "\n",
       "    .dataframe tbody tr th {\n",
       "        vertical-align: top;\n",
       "    }\n",
       "\n",
       "    .dataframe thead th {\n",
       "        text-align: right;\n",
       "    }\n",
       "</style>\n",
       "<table border=\"1\" class=\"dataframe\">\n",
       "  <thead>\n",
       "    <tr style=\"text-align: right;\">\n",
       "      <th></th>\n",
       "      <th>year</th>\n",
       "      <th>mileage</th>\n",
       "      <th>price</th>\n",
       "    </tr>\n",
       "  </thead>\n",
       "  <tbody>\n",
       "    <tr>\n",
       "      <th>count</th>\n",
       "      <td>4841.000000</td>\n",
       "      <td>4841.000000</td>\n",
       "      <td>4841.000000</td>\n",
       "    </tr>\n",
       "    <tr>\n",
       "      <th>mean</th>\n",
       "      <td>2015.523652</td>\n",
       "      <td>44677.222681</td>\n",
       "      <td>14892.329684</td>\n",
       "    </tr>\n",
       "    <tr>\n",
       "      <th>std</th>\n",
       "      <td>3.426608</td>\n",
       "      <td>38788.503216</td>\n",
       "      <td>4627.847351</td>\n",
       "    </tr>\n",
       "    <tr>\n",
       "      <th>min</th>\n",
       "      <td>1992.000000</td>\n",
       "      <td>535.000000</td>\n",
       "      <td>700.000000</td>\n",
       "    </tr>\n",
       "    <tr>\n",
       "      <th>25%</th>\n",
       "      <td>2015.000000</td>\n",
       "      <td>19845.000000</td>\n",
       "      <td>12995.000000</td>\n",
       "    </tr>\n",
       "    <tr>\n",
       "      <th>50%</th>\n",
       "      <td>2017.000000</td>\n",
       "      <td>31856.000000</td>\n",
       "      <td>15888.000000</td>\n",
       "    </tr>\n",
       "    <tr>\n",
       "      <th>75%</th>\n",
       "      <td>2017.000000</td>\n",
       "      <td>54000.000000</td>\n",
       "      <td>17794.000000</td>\n",
       "    </tr>\n",
       "    <tr>\n",
       "      <th>max</th>\n",
       "      <td>2020.000000</td>\n",
       "      <td>316000.000000</td>\n",
       "      <td>37995.000000</td>\n",
       "    </tr>\n",
       "  </tbody>\n",
       "</table>\n",
       "</div>"
      ],
      "text/plain": [
       "              year        mileage         price\n",
       "count  4841.000000    4841.000000   4841.000000\n",
       "mean   2015.523652   44677.222681  14892.329684\n",
       "std       3.426608   38788.503216   4627.847351\n",
       "min    1992.000000     535.000000    700.000000\n",
       "25%    2015.000000   19845.000000  12995.000000\n",
       "50%    2017.000000   31856.000000  15888.000000\n",
       "75%    2017.000000   54000.000000  17794.000000\n",
       "max    2020.000000  316000.000000  37995.000000"
      ]
     },
     "execution_count": 92,
     "metadata": {},
     "output_type": "execute_result"
    }
   ],
   "source": [
    "civic_clean[cols_num].describe()"
   ]
  },
  {
   "cell_type": "markdown",
   "metadata": {},
   "source": [
    "### Distribution of Cars by Year, Mileage, and Price:"
   ]
  },
  {
   "cell_type": "code",
   "execution_count": null,
   "metadata": {},
   "outputs": [],
   "source": [
    "civic_clean[civic_clean['year']>2000]"
   ]
  },
  {
   "cell_type": "code",
   "execution_count": 110,
   "metadata": {},
   "outputs": [
    {
     "data": {
      "text/plain": [
       "<matplotlib.axes._subplots.AxesSubplot at 0x16715281048>"
      ]
     },
     "execution_count": 110,
     "metadata": {},
     "output_type": "execute_result"
    },
    {
     "data": {
      "image/png": "[encoded data removed]",
      "text/plain": [
       "<Figure size 432x288 with 1 Axes>"
      ]
     },
     "metadata": {
      "needs_background": "light"
     },
     "output_type": "display_data"
    }
   ],
   "source": [
    "sns.distplot(civic_clean[civic_clean['year']>2000]['year'],kde=False,bins=20)"
   ]
  },
  {
   "cell_type": "code",
   "execution_count": 119,
   "metadata": {},
   "outputs": [
    {
     "data": {
      "text/plain": [
       "<matplotlib.axes._subplots.AxesSubplot at 0x1671541c198>"
      ]
     },
     "execution_count": 119,
     "metadata": {},
     "output_type": "execute_result"
    },
    {
     "data": {
      "image/png": "[encoded data removed]",
      "text/plain": [
       "<Figure size 432x288 with 1 Axes>"
      ]
     },
     "metadata": {
      "needs_background": "light"
     },
     "output_type": "display_data"
    }
   ],
   "source": [
    "sns.distplot(civic_clean[civic_clean['mileage']<150000]['mileage'],kde=True,bins=20)"
   ]
  },
  {
   "cell_type": "code",
   "execution_count": 118,
   "metadata": {},
   "outputs": [
    {
     "data": {
      "text/plain": [
       "<matplotlib.axes._subplots.AxesSubplot at 0x16714485198>"
      ]
     },
     "execution_count": 118,
     "metadata": {},
     "output_type": "execute_result"
    },
    {
     "data": {
      "image/png": "[encoded data removed]",
      "text/plain": [
       "<Figure size 432x288 with 1 Axes>"
      ]
     },
     "metadata": {
      "needs_background": "light"
     },
     "output_type": "display_data"
    }
   ],
   "source": [
    "sns.distplot(civic_clean[civic_clean['price']<30000]['price'],kde=True,bins=20)"
   ]
  },
  {
   "cell_type": "markdown",
   "metadata": {},
   "source": [
    "Clearly, the price distribution is bimodal with peaks at around 8K and 16K. Similarly, the mileage also presents a nearly bimodal distribution with peaks at 30K and 80K. The car year is strongly centered at 2017 with a long tail. The lower price peak is probably originating from older and higher mileage cars and higher price from younger and lower mileage cars.\n",
    "\n",
    "Let's checkout the mileage and price distribution for the 2017 model cars."
   ]
  },
  {
   "cell_type": "code",
   "execution_count": 120,
   "metadata": {},
   "outputs": [
    {
     "data": {
      "text/plain": [
       "<matplotlib.axes._subplots.AxesSubplot at 0x16738ec8e48>"
      ]
     },
     "execution_count": 120,
     "metadata": {},
     "output_type": "execute_result"
    },
    {
     "data": {
      "image/png": "[encoded data removed]",
      "text/plain": [
       "<Figure size 432x288 with 1 Axes>"
      ]
     },
     "metadata": {
      "needs_background": "light"
     },
     "output_type": "display_data"
    }
   ],
   "source": [
    "sns.distplot(civic_clean[(civic_clean['year']==2017)&(civic_clean['mileage']<150000)]['mileage'],kde=True,bins=20)"
   ]
  },
  {
   "cell_type": "code",
   "execution_count": 121,
   "metadata": {},
   "outputs": [
    {
     "data": {
      "text/plain": [
       "<matplotlib.axes._subplots.AxesSubplot at 0x16738f1ff60>"
      ]
     },
     "execution_count": 121,
     "metadata": {},
     "output_type": "execute_result"
    },
    {
     "data": {
      "image/png": "[encoded data removed]",
      "text/plain": [
       "<Figure size 432x288 with 1 Axes>"
      ]
     },
     "metadata": {
      "needs_background": "light"
     },
     "output_type": "display_data"
    }
   ],
   "source": [
    "sns.distplot(civic_clean[(civic_clean['year']==2017)&(civic_clean['price']<30000)]['price'],kde=True,bins=20)"
   ]
  },
  {
   "cell_type": "markdown",
   "metadata": {},
   "source": [
    "The plots above confirm our suspicion."
   ]
  },
  {
   "cell_type": "markdown",
   "metadata": {},
   "source": [
    "### Distribution of Categorical Features:"
   ]
  },
  {
   "cell_type": "code",
   "execution_count": 145,
   "metadata": {},
   "outputs": [
    {
     "data": {
      "text/plain": [
       "LX                        2124\n",
       "EX                        1160\n",
       "EX-T                       365\n",
       "EX-L                       283\n",
       "Si                         242\n",
       "Sport                      242\n",
       "Touring                    115\n",
       "LX-P                        73\n",
       "Sport Touring               43\n",
       "EX w/Leather                33\n",
       "                            32\n",
       "EX-L w/Navi                 30\n",
       "LX-S                        16\n",
       "VP                          14\n",
       "SE                          13\n",
       "Type R Touring               9\n",
       "EX-L w/Navigation            9\n",
       "EX-L Navi                    6\n",
       "DX                           5\n",
       "EX-T w/Honda Sensing         4\n",
       "High Performance Tires       4\n",
       "EX-TL                        3\n",
       "Manual                       3\n",
       "EX-L Honda Sensing           2\n",
       "EX w/Honda Sensing           2\n",
       "LX w/Honda Sensing           2\n",
       "LX w/ Honda Sensing          2\n",
       "CX                           1\n",
       "4DR SDN SI MT                1\n",
       "ECO                          1\n",
       "HF                           1\n",
       "GX                           1\n",
       "Name: trim, dtype: int64"
      ]
     },
     "execution_count": 145,
     "metadata": {},
     "output_type": "execute_result"
    }
   ],
   "source": [
    "civic_clean['trim'].value_counts()"
   ]
  },
  {
   "cell_type": "markdown",
   "metadata": {},
   "source": [
    "Most common trims are 'LX' and 'EX' models. We might have enough statistics for the first 7 trims to make a comparison."
   ]
  },
  {
   "cell_type": "code",
   "execution_count": 291,
   "metadata": {},
   "outputs": [],
   "source": [
    "trims=['LX','EX','EX-T','EX-L','Touring']"
   ]
  },
  {
   "cell_type": "code",
   "execution_count": 125,
   "metadata": {},
   "outputs": [
    {
     "data": {
      "text/plain": [
       "Sedan          3589\n",
       "Coupe           648\n",
       "Hatchback       571\n",
       "                 32\n",
       "Convertible       1\n",
       "Name: bodyStyle, dtype: int64"
      ]
     },
     "execution_count": 125,
     "metadata": {},
     "output_type": "execute_result"
    }
   ],
   "source": [
    "civic_clean['bodyStyle'].value_counts()"
   ]
  },
  {
   "cell_type": "markdown",
   "metadata": {},
   "source": [
    "Sedan is the most popular body type."
   ]
  },
  {
   "cell_type": "code",
   "execution_count": 128,
   "metadata": {},
   "outputs": [
    {
     "data": {
      "text/plain": [
       "CVT           3502\n",
       "Automatic      861\n",
       "Manual         465\n",
       "Automanual       8\n",
       "Unknown          5\n",
       "Name: Transmission, dtype: int64"
      ]
     },
     "execution_count": 128,
     "metadata": {},
     "output_type": "execute_result"
    }
   ],
   "source": [
    "civic_clean['Transmission'].value_counts()"
   ]
  },
  {
   "cell_type": "code",
   "execution_count": 130,
   "metadata": {},
   "outputs": [
    {
     "data": {
      "text/plain": [
       "FWD        4782\n",
       "Unknown      49\n",
       "drive         6\n",
       "RWD           4\n",
       "Name: Drivetrain, dtype: int64"
      ]
     },
     "execution_count": 130,
     "metadata": {},
     "output_type": "execute_result"
    }
   ],
   "source": [
    "civic_clean['Drivetrain'].value_counts()"
   ]
  },
  {
   "cell_type": "markdown",
   "metadata": {},
   "source": [
    "Drive train of most cars are the same. So it is not a significant feature in the analysis. "
   ]
  },
  {
   "cell_type": "code",
   "execution_count": 126,
   "metadata": {},
   "outputs": [
    {
     "data": {
      "text/plain": [
       "Black     1038\n",
       "Gray      1032\n",
       "White      771\n",
       "Blue       720\n",
       "Silver     631\n",
       "Red        475\n",
       "Other       85\n",
       "Brown       31\n",
       "Green       23\n",
       "Beige       14\n",
       "Gold         9\n",
       "Orange       8\n",
       "Purple       3\n",
       "Yellow       1\n",
       "Name: Color Ext, dtype: int64"
      ]
     },
     "execution_count": 126,
     "metadata": {},
     "output_type": "execute_result"
    }
   ],
   "source": [
    "civic_clean['Color Ext'].value_counts()"
   ]
  },
  {
   "cell_type": "code",
   "execution_count": 127,
   "metadata": {},
   "outputs": [
    {
     "data": {
      "text/plain": [
       "Black     2390\n",
       "Gray      1170\n",
       "Other      723\n",
       "Beige      290\n",
       "White      255\n",
       "Blue         5\n",
       "Brown        3\n",
       "Red          3\n",
       "Silver       2\n",
       "Name: Color Int, dtype: int64"
      ]
     },
     "execution_count": 127,
     "metadata": {},
     "output_type": "execute_result"
    }
   ],
   "source": [
    "civic_clean['Color Int'].value_counts()"
   ]
  },
  {
   "cell_type": "code",
   "execution_count": null,
   "metadata": {},
   "outputs": [],
   "source": [
    "civic_clean['Color Int'].value_counts()"
   ]
  },
  {
   "cell_type": "code",
   "execution_count": null,
   "metadata": {},
   "outputs": [],
   "source": [
    "'bodyStyle','priceBadge','Color Ext','Color Int','Transmission','Drivetrain']"
   ]
  },
  {
   "cell_type": "markdown",
   "metadata": {},
   "source": [
    "## Car price vs Features:\n",
    "We will first reduce the number of features and study how the car prices are affected by each feature. During this analysis, we will initially keep other features constant to better extract functional dependence of each feature.\n",
    "We suspect that the major factors in **car pricing** are the **year, mileage, trim, bodystyle, and transmission**.\n",
    "\n",
    "\n",
    "### Mileage vs Price\n",
    "Let's first check out the price vs. the mileage. For this analysis we will pick cars with year=2017, trim='LX', bodyStyle='Sedan' and transmission='CVT'. "
   ]
  },
  {
   "cell_type": "code",
   "execution_count": 177,
   "metadata": {},
   "outputs": [
    {
     "data": {
      "text/plain": [
       "(718, 3)"
      ]
     },
     "execution_count": 177,
     "metadata": {},
     "output_type": "execute_result"
    }
   ],
   "source": [
    "civic_mileage = civic_clean[(civic_clean['year']==2017) & (civic_clean['trim']=='LX') & \n",
    "                         (civic_clean['bodyStyle']=='Sedan') & (civic_clean['Transmission']=='CVT')][['mileage','price','priceBadge']]\n",
    "civic_mileage.shape"
   ]
  },
  {
   "cell_type": "code",
   "execution_count": 141,
   "metadata": {},
   "outputs": [
    {
     "data": {
      "text/plain": [
       "<seaborn.axisgrid.FacetGrid at 0x1673917c080>"
      ]
     },
     "execution_count": 141,
     "metadata": {},
     "output_type": "execute_result"
    },
    {
     "data": {
      "image/png": "[encoded data removed]",
      "text/plain": [
       "<Figure size 810x360 with 1 Axes>"
      ]
     },
     "metadata": {
      "needs_background": "light"
     },
     "output_type": "display_data"
    }
   ],
   "source": [
    "sns.lmplot('mileage', 'price', data=civic_mileage, fit_reg=False,height=5,hue='priceBadge',aspect=2)"
   ]
  },
  {
   "cell_type": "markdown",
   "metadata": {},
   "source": [
    "The above indicates that the price and the mileage are related to each other almost linearly with a negative slope. An interesting point to note is that the price badges on the Cars.com may be misleading. Clearly the \"Great Deal\" badges are assigned to cheaper cars but \"Good Deals\" seems to be averagely priced cars and \"Fair Price\" cars are on the expensive side of the distribution. Another important thing to note is that the badge categories can not be solely extracted from this plot. There seems to be cars with very similar qualities with different badge assignments (see cars with mileage slightly above 50K and at the upper left corner). Since, all other main features are kept the same, there might be important features that are included in Cars.com analysis). In our subsequent work we will try to figure out if there are clear indicators for the lower pricing of cars other than that can be inferred from this simple analysis."
   ]
  },
  {
   "cell_type": "markdown",
   "metadata": {},
   "source": [
    "### Year vs. Price\n",
    "In this case we will check out the car prices as a function of year. We will keep the type of the cars as similar as possible."
   ]
  },
  {
   "cell_type": "code",
   "execution_count": 142,
   "metadata": {},
   "outputs": [
    {
     "data": {
      "text/plain": [
       "(1357, 4)"
      ]
     },
     "execution_count": 142,
     "metadata": {},
     "output_type": "execute_result"
    }
   ],
   "source": [
    "civic_year = civic_clean[ (civic_clean['trim']=='LX') & \n",
    "                         (civic_clean['bodyStyle']=='Sedan') & (civic_clean['Transmission']=='CVT')][['year','mileage','price','priceBadge']]\n",
    "civic_year.shape"
   ]
  },
  {
   "cell_type": "code",
   "execution_count": 144,
   "metadata": {},
   "outputs": [
    {
     "data": {
      "text/plain": [
       "<seaborn.axisgrid.FacetGrid at 0x1673940b2b0>"
      ]
     },
     "execution_count": 144,
     "metadata": {},
     "output_type": "execute_result"
    },
    {
     "data": {
      "image/png": "[encoded data removed]",
      "text/plain": [
       "<Figure size 810x360 with 1 Axes>"
      ]
     },
     "metadata": {
      "needs_background": "light"
     },
     "output_type": "display_data"
    }
   ],
   "source": [
    "sns.lmplot('year', 'price', data=civic_year, fit_reg=False,height=5,hue='priceBadge',aspect=2)"
   ]
  },
  {
   "cell_type": "markdown",
   "metadata": {},
   "source": [
    "As expected the car prices are increasing with the car year. The distribution in each year is partially accounted by the mileage dependence of the car. In our analysis, we will assume that the price is a linear function of both mileage and year. Price badges are distributed similar to the previous case but we can also make out listings labelled against our simple intuition."
   ]
  },
  {
   "cell_type": "markdown",
   "metadata": {},
   "source": [
    "### Trim vs. Price"
   ]
  },
  {
   "cell_type": "code",
   "execution_count": 165,
   "metadata": {},
   "outputs": [
    {
     "data": {
      "text/plain": [
       "(1405, 4)"
      ]
     },
     "execution_count": 165,
     "metadata": {},
     "output_type": "execute_result"
    }
   ],
   "source": [
    "civic_trim = civic_clean[(civic_clean['year']==2017) & (civic_clean['trim'].isin(trims)) &\n",
    "                         (civic_clean['bodyStyle']=='Sedan') & (civic_clean['Transmission']=='CVT')][['trim','mileage','price','priceBadge']]\n",
    "civic_trim.shape"
   ]
  },
  {
   "cell_type": "code",
   "execution_count": 157,
   "metadata": {},
   "outputs": [
    {
     "data": {
      "text/plain": [
       "<seaborn.axisgrid.FacetGrid at 0x16739433cf8>"
      ]
     },
     "execution_count": 157,
     "metadata": {},
     "output_type": "execute_result"
    },
    {
     "data": {
      "image/png": "[encoded data removed]",
      "text/plain": [
       "<Figure size 810x360 with 1 Axes>"
      ]
     },
     "metadata": {
      "needs_background": "light"
     },
     "output_type": "display_data"
    }
   ],
   "source": [
    "sns.lmplot('trim', 'price', data=civic_trim, fit_reg=False,height=5,hue='priceBadge',aspect=2)"
   ]
  },
  {
   "cell_type": "code",
   "execution_count": 160,
   "metadata": {},
   "outputs": [
    {
     "data": {
      "text/html": [
       "<div>\n",
       "<style scoped>\n",
       "    .dataframe tbody tr th:only-of-type {\n",
       "        vertical-align: middle;\n",
       "    }\n",
       "\n",
       "    .dataframe tbody tr th {\n",
       "        vertical-align: top;\n",
       "    }\n",
       "\n",
       "    .dataframe thead tr th {\n",
       "        text-align: left;\n",
       "    }\n",
       "\n",
       "    .dataframe thead tr:last-of-type th {\n",
       "        text-align: right;\n",
       "    }\n",
       "</style>\n",
       "<table border=\"1\" class=\"dataframe\">\n",
       "  <thead>\n",
       "    <tr>\n",
       "      <th></th>\n",
       "      <th colspan=\"8\" halign=\"left\">mileage</th>\n",
       "      <th colspan=\"8\" halign=\"left\">price</th>\n",
       "    </tr>\n",
       "    <tr>\n",
       "      <th></th>\n",
       "      <th>count</th>\n",
       "      <th>mean</th>\n",
       "      <th>std</th>\n",
       "      <th>min</th>\n",
       "      <th>25%</th>\n",
       "      <th>50%</th>\n",
       "      <th>75%</th>\n",
       "      <th>max</th>\n",
       "      <th>count</th>\n",
       "      <th>mean</th>\n",
       "      <th>std</th>\n",
       "      <th>min</th>\n",
       "      <th>25%</th>\n",
       "      <th>50%</th>\n",
       "      <th>75%</th>\n",
       "      <th>max</th>\n",
       "    </tr>\n",
       "    <tr>\n",
       "      <th>trim</th>\n",
       "      <th></th>\n",
       "      <th></th>\n",
       "      <th></th>\n",
       "      <th></th>\n",
       "      <th></th>\n",
       "      <th></th>\n",
       "      <th></th>\n",
       "      <th></th>\n",
       "      <th></th>\n",
       "      <th></th>\n",
       "      <th></th>\n",
       "      <th></th>\n",
       "      <th></th>\n",
       "      <th></th>\n",
       "      <th></th>\n",
       "      <th></th>\n",
       "    </tr>\n",
       "  </thead>\n",
       "  <tbody>\n",
       "    <tr>\n",
       "      <th>EX</th>\n",
       "      <td>384.0</td>\n",
       "      <td>30035.210938</td>\n",
       "      <td>11777.198598</td>\n",
       "      <td>718.0</td>\n",
       "      <td>21418.50</td>\n",
       "      <td>29789.0</td>\n",
       "      <td>37392.50</td>\n",
       "      <td>71551.0</td>\n",
       "      <td>384.0</td>\n",
       "      <td>16631.869792</td>\n",
       "      <td>1190.302045</td>\n",
       "      <td>12999.0</td>\n",
       "      <td>15900.0</td>\n",
       "      <td>16678.5</td>\n",
       "      <td>17395.00</td>\n",
       "      <td>19995.0</td>\n",
       "    </tr>\n",
       "    <tr>\n",
       "      <th>EX-L</th>\n",
       "      <td>90.0</td>\n",
       "      <td>29793.088889</td>\n",
       "      <td>12734.825284</td>\n",
       "      <td>3927.0</td>\n",
       "      <td>21010.75</td>\n",
       "      <td>30194.0</td>\n",
       "      <td>37380.50</td>\n",
       "      <td>69259.0</td>\n",
       "      <td>90.0</td>\n",
       "      <td>17800.855556</td>\n",
       "      <td>1396.925264</td>\n",
       "      <td>14950.0</td>\n",
       "      <td>16681.5</td>\n",
       "      <td>17898.5</td>\n",
       "      <td>18799.75</td>\n",
       "      <td>22995.0</td>\n",
       "    </tr>\n",
       "    <tr>\n",
       "      <th>EX-T</th>\n",
       "      <td>182.0</td>\n",
       "      <td>31275.576923</td>\n",
       "      <td>11954.850362</td>\n",
       "      <td>8354.0</td>\n",
       "      <td>23968.75</td>\n",
       "      <td>30329.0</td>\n",
       "      <td>37463.75</td>\n",
       "      <td>70654.0</td>\n",
       "      <td>182.0</td>\n",
       "      <td>17508.670330</td>\n",
       "      <td>1390.778982</td>\n",
       "      <td>12790.0</td>\n",
       "      <td>16735.0</td>\n",
       "      <td>17438.0</td>\n",
       "      <td>18480.00</td>\n",
       "      <td>23995.0</td>\n",
       "    </tr>\n",
       "    <tr>\n",
       "      <th>LX</th>\n",
       "      <td>718.0</td>\n",
       "      <td>27216.784123</td>\n",
       "      <td>11635.931182</td>\n",
       "      <td>2928.0</td>\n",
       "      <td>18205.75</td>\n",
       "      <td>27093.0</td>\n",
       "      <td>35462.50</td>\n",
       "      <td>71566.0</td>\n",
       "      <td>718.0</td>\n",
       "      <td>15401.729805</td>\n",
       "      <td>1183.799174</td>\n",
       "      <td>10595.0</td>\n",
       "      <td>14700.0</td>\n",
       "      <td>15487.5</td>\n",
       "      <td>15998.00</td>\n",
       "      <td>18995.0</td>\n",
       "    </tr>\n",
       "    <tr>\n",
       "      <th>Touring</th>\n",
       "      <td>31.0</td>\n",
       "      <td>31698.258065</td>\n",
       "      <td>20184.587199</td>\n",
       "      <td>8014.0</td>\n",
       "      <td>17155.50</td>\n",
       "      <td>30326.0</td>\n",
       "      <td>37448.00</td>\n",
       "      <td>103992.0</td>\n",
       "      <td>31.0</td>\n",
       "      <td>18895.193548</td>\n",
       "      <td>2020.724910</td>\n",
       "      <td>11988.0</td>\n",
       "      <td>17960.5</td>\n",
       "      <td>18990.0</td>\n",
       "      <td>20085.50</td>\n",
       "      <td>21999.0</td>\n",
       "    </tr>\n",
       "  </tbody>\n",
       "</table>\n",
       "</div>"
      ],
      "text/plain": [
       "        mileage                                                         \\\n",
       "          count          mean           std     min       25%      50%   \n",
       "trim                                                                     \n",
       "EX        384.0  30035.210938  11777.198598   718.0  21418.50  29789.0   \n",
       "EX-L       90.0  29793.088889  12734.825284  3927.0  21010.75  30194.0   \n",
       "EX-T      182.0  31275.576923  11954.850362  8354.0  23968.75  30329.0   \n",
       "LX        718.0  27216.784123  11635.931182  2928.0  18205.75  27093.0   \n",
       "Touring    31.0  31698.258065  20184.587199  8014.0  17155.50  30326.0   \n",
       "\n",
       "                             price                                      \\\n",
       "              75%       max  count          mean          std      min   \n",
       "trim                                                                     \n",
       "EX       37392.50   71551.0  384.0  16631.869792  1190.302045  12999.0   \n",
       "EX-L     37380.50   69259.0   90.0  17800.855556  1396.925264  14950.0   \n",
       "EX-T     37463.75   70654.0  182.0  17508.670330  1390.778982  12790.0   \n",
       "LX       35462.50   71566.0  718.0  15401.729805  1183.799174  10595.0   \n",
       "Touring  37448.00  103992.0   31.0  18895.193548  2020.724910  11988.0   \n",
       "\n",
       "                                              \n",
       "             25%      50%       75%      max  \n",
       "trim                                          \n",
       "EX       15900.0  16678.5  17395.00  19995.0  \n",
       "EX-L     16681.5  17898.5  18799.75  22995.0  \n",
       "EX-T     16735.0  17438.0  18480.00  23995.0  \n",
       "LX       14700.0  15487.5  15998.00  18995.0  \n",
       "Touring  17960.5  18990.0  20085.50  21999.0  "
      ]
     },
     "execution_count": 160,
     "metadata": {},
     "output_type": "execute_result"
    }
   ],
   "source": [
    "civic_trim.groupby('trim').describe()"
   ]
  },
  {
   "cell_type": "markdown",
   "metadata": {},
   "source": [
    "As expected the car prices depend on the trims. The prices order from lowest to highest is LX, EX, EX-T, EX-L, Touring. Since average mileage of EX models are similar, the price differences can be attributed mainly to trim options.\n",
    "\n",
    "\n",
    "LX models have significantly lower average mileage. Seems like higher end models are preferred by people who make more mileage."
   ]
  },
  {
   "cell_type": "markdown",
   "metadata": {},
   "source": [
    "### Transmission vs Price"
   ]
  },
  {
   "cell_type": "code",
   "execution_count": 199,
   "metadata": {},
   "outputs": [
    {
     "data": {
      "text/plain": [
       "(761, 4)"
      ]
     },
     "execution_count": 199,
     "metadata": {},
     "output_type": "execute_result"
    }
   ],
   "source": [
    "civic_transmission = civic_clean[(civic_clean['year']==2017) & (civic_clean['trim']=='LX') &\n",
    "                         (civic_clean['bodyStyle']=='Sedan')][['Transmission','mileage','price','priceBadge']]\n",
    "civic_transmission.shape"
   ]
  },
  {
   "cell_type": "code",
   "execution_count": 200,
   "metadata": {},
   "outputs": [
    {
     "data": {
      "text/plain": [
       "<seaborn.axisgrid.FacetGrid at 0x16746583cc0>"
      ]
     },
     "execution_count": 200,
     "metadata": {},
     "output_type": "execute_result"
    },
    {
     "data": {
      "image/png": "[encoded data removed]",
      "text/plain": [
       "<Figure size 810x360 with 1 Axes>"
      ]
     },
     "metadata": {
      "needs_background": "light"
     },
     "output_type": "display_data"
    }
   ],
   "source": [
    "sns.lmplot('Transmission', 'price', data=civic_transmission, fit_reg=False,height=5,hue='priceBadge',aspect=2)"
   ]
  },
  {
   "cell_type": "code",
   "execution_count": 201,
   "metadata": {},
   "outputs": [
    {
     "data": {
      "text/html": [
       "<div>\n",
       "<style scoped>\n",
       "    .dataframe tbody tr th:only-of-type {\n",
       "        vertical-align: middle;\n",
       "    }\n",
       "\n",
       "    .dataframe tbody tr th {\n",
       "        vertical-align: top;\n",
       "    }\n",
       "\n",
       "    .dataframe thead tr th {\n",
       "        text-align: left;\n",
       "    }\n",
       "\n",
       "    .dataframe thead tr:last-of-type th {\n",
       "        text-align: right;\n",
       "    }\n",
       "</style>\n",
       "<table border=\"1\" class=\"dataframe\">\n",
       "  <thead>\n",
       "    <tr>\n",
       "      <th></th>\n",
       "      <th colspan=\"8\" halign=\"left\">mileage</th>\n",
       "      <th colspan=\"8\" halign=\"left\">price</th>\n",
       "    </tr>\n",
       "    <tr>\n",
       "      <th></th>\n",
       "      <th>count</th>\n",
       "      <th>mean</th>\n",
       "      <th>std</th>\n",
       "      <th>min</th>\n",
       "      <th>25%</th>\n",
       "      <th>50%</th>\n",
       "      <th>75%</th>\n",
       "      <th>max</th>\n",
       "      <th>count</th>\n",
       "      <th>mean</th>\n",
       "      <th>std</th>\n",
       "      <th>min</th>\n",
       "      <th>25%</th>\n",
       "      <th>50%</th>\n",
       "      <th>75%</th>\n",
       "      <th>max</th>\n",
       "    </tr>\n",
       "    <tr>\n",
       "      <th>Transmission</th>\n",
       "      <th></th>\n",
       "      <th></th>\n",
       "      <th></th>\n",
       "      <th></th>\n",
       "      <th></th>\n",
       "      <th></th>\n",
       "      <th></th>\n",
       "      <th></th>\n",
       "      <th></th>\n",
       "      <th></th>\n",
       "      <th></th>\n",
       "      <th></th>\n",
       "      <th></th>\n",
       "      <th></th>\n",
       "      <th></th>\n",
       "      <th></th>\n",
       "    </tr>\n",
       "  </thead>\n",
       "  <tbody>\n",
       "    <tr>\n",
       "      <th>Automatic</th>\n",
       "      <td>17.0</td>\n",
       "      <td>30085.058824</td>\n",
       "      <td>19415.224617</td>\n",
       "      <td>5112.0</td>\n",
       "      <td>22025.00</td>\n",
       "      <td>25287.0</td>\n",
       "      <td>31259.00</td>\n",
       "      <td>91500.0</td>\n",
       "      <td>17.0</td>\n",
       "      <td>14735.411765</td>\n",
       "      <td>1452.852714</td>\n",
       "      <td>9990.0</td>\n",
       "      <td>14486.00</td>\n",
       "      <td>14986.0</td>\n",
       "      <td>15400.0</td>\n",
       "      <td>16680.0</td>\n",
       "    </tr>\n",
       "    <tr>\n",
       "      <th>CVT</th>\n",
       "      <td>718.0</td>\n",
       "      <td>27216.784123</td>\n",
       "      <td>11635.931182</td>\n",
       "      <td>2928.0</td>\n",
       "      <td>18205.75</td>\n",
       "      <td>27093.0</td>\n",
       "      <td>35462.50</td>\n",
       "      <td>71566.0</td>\n",
       "      <td>718.0</td>\n",
       "      <td>15401.729805</td>\n",
       "      <td>1183.799174</td>\n",
       "      <td>10595.0</td>\n",
       "      <td>14700.00</td>\n",
       "      <td>15487.5</td>\n",
       "      <td>15998.0</td>\n",
       "      <td>18995.0</td>\n",
       "    </tr>\n",
       "    <tr>\n",
       "      <th>Manual</th>\n",
       "      <td>26.0</td>\n",
       "      <td>29977.576923</td>\n",
       "      <td>13669.116689</td>\n",
       "      <td>7468.0</td>\n",
       "      <td>20902.00</td>\n",
       "      <td>30476.0</td>\n",
       "      <td>31536.75</td>\n",
       "      <td>63420.0</td>\n",
       "      <td>26.0</td>\n",
       "      <td>15251.153846</td>\n",
       "      <td>1276.019614</td>\n",
       "      <td>11995.0</td>\n",
       "      <td>14949.25</td>\n",
       "      <td>15645.0</td>\n",
       "      <td>15950.0</td>\n",
       "      <td>16995.0</td>\n",
       "    </tr>\n",
       "  </tbody>\n",
       "</table>\n",
       "</div>"
      ],
      "text/plain": [
       "             mileage                                                         \\\n",
       "               count          mean           std     min       25%      50%   \n",
       "Transmission                                                                  \n",
       "Automatic       17.0  30085.058824  19415.224617  5112.0  22025.00  25287.0   \n",
       "CVT            718.0  27216.784123  11635.931182  2928.0  18205.75  27093.0   \n",
       "Manual          26.0  29977.576923  13669.116689  7468.0  20902.00  30476.0   \n",
       "\n",
       "                                 price                                      \\\n",
       "                   75%      max  count          mean          std      min   \n",
       "Transmission                                                                 \n",
       "Automatic     31259.00  91500.0   17.0  14735.411765  1452.852714   9990.0   \n",
       "CVT           35462.50  71566.0  718.0  15401.729805  1183.799174  10595.0   \n",
       "Manual        31536.75  63420.0   26.0  15251.153846  1276.019614  11995.0   \n",
       "\n",
       "                                                   \n",
       "                   25%      50%      75%      max  \n",
       "Transmission                                       \n",
       "Automatic     14486.00  14986.0  15400.0  16680.0  \n",
       "CVT           14700.00  15487.5  15998.0  18995.0  \n",
       "Manual        14949.25  15645.0  15950.0  16995.0  "
      ]
     },
     "execution_count": 201,
     "metadata": {},
     "output_type": "execute_result"
    }
   ],
   "source": [
    "civic_transmission.groupby('Transmission').describe()"
   ]
  },
  {
   "cell_type": "markdown",
   "metadata": {},
   "source": [
    "CVT Transmission is slightly more expensive than manual. However also has lower average mileage. There are also very few Manual cars to make a reliable comparison. "
   ]
  },
  {
   "cell_type": "markdown",
   "metadata": {},
   "source": [
    "### Body Style vs Price"
   ]
  },
  {
   "cell_type": "code",
   "execution_count": 166,
   "metadata": {},
   "outputs": [
    {
     "data": {
      "text/plain": [
       "(833, 4)"
      ]
     },
     "execution_count": 166,
     "metadata": {},
     "output_type": "execute_result"
    }
   ],
   "source": [
    "civic_body = civic_clean[(civic_clean['year']==2017) & (civic_clean['trim']=='LX') &\n",
    "                         (civic_clean['Transmission']=='CVT')][['bodyStyle','mileage','price','priceBadge']]\n",
    "civic_body.shape"
   ]
  },
  {
   "cell_type": "code",
   "execution_count": 167,
   "metadata": {},
   "outputs": [
    {
     "data": {
      "text/plain": [
       "<seaborn.axisgrid.FacetGrid at 0x167398586d8>"
      ]
     },
     "execution_count": 167,
     "metadata": {},
     "output_type": "execute_result"
    },
    {
     "data": {
      "image/png": "[encoded data removed]",
      "text/plain": [
       "<Figure size 810x360 with 1 Axes>"
      ]
     },
     "metadata": {
      "needs_background": "light"
     },
     "output_type": "display_data"
    }
   ],
   "source": [
    "sns.lmplot('bodyStyle', 'price', data=civic_body, fit_reg=False,height=5,hue='priceBadge',aspect=2)"
   ]
  },
  {
   "cell_type": "code",
   "execution_count": 168,
   "metadata": {},
   "outputs": [
    {
     "data": {
      "text/html": [
       "<div>\n",
       "<style scoped>\n",
       "    .dataframe tbody tr th:only-of-type {\n",
       "        vertical-align: middle;\n",
       "    }\n",
       "\n",
       "    .dataframe tbody tr th {\n",
       "        vertical-align: top;\n",
       "    }\n",
       "\n",
       "    .dataframe thead tr th {\n",
       "        text-align: left;\n",
       "    }\n",
       "\n",
       "    .dataframe thead tr:last-of-type th {\n",
       "        text-align: right;\n",
       "    }\n",
       "</style>\n",
       "<table border=\"1\" class=\"dataframe\">\n",
       "  <thead>\n",
       "    <tr>\n",
       "      <th></th>\n",
       "      <th colspan=\"8\" halign=\"left\">mileage</th>\n",
       "      <th colspan=\"8\" halign=\"left\">price</th>\n",
       "    </tr>\n",
       "    <tr>\n",
       "      <th></th>\n",
       "      <th>count</th>\n",
       "      <th>mean</th>\n",
       "      <th>std</th>\n",
       "      <th>min</th>\n",
       "      <th>25%</th>\n",
       "      <th>50%</th>\n",
       "      <th>75%</th>\n",
       "      <th>max</th>\n",
       "      <th>count</th>\n",
       "      <th>mean</th>\n",
       "      <th>std</th>\n",
       "      <th>min</th>\n",
       "      <th>25%</th>\n",
       "      <th>50%</th>\n",
       "      <th>75%</th>\n",
       "      <th>max</th>\n",
       "    </tr>\n",
       "    <tr>\n",
       "      <th>bodyStyle</th>\n",
       "      <th></th>\n",
       "      <th></th>\n",
       "      <th></th>\n",
       "      <th></th>\n",
       "      <th></th>\n",
       "      <th></th>\n",
       "      <th></th>\n",
       "      <th></th>\n",
       "      <th></th>\n",
       "      <th></th>\n",
       "      <th></th>\n",
       "      <th></th>\n",
       "      <th></th>\n",
       "      <th></th>\n",
       "      <th></th>\n",
       "      <th></th>\n",
       "    </tr>\n",
       "  </thead>\n",
       "  <tbody>\n",
       "    <tr>\n",
       "      <th></th>\n",
       "      <td>10.0</td>\n",
       "      <td>28674.700000</td>\n",
       "      <td>15054.637174</td>\n",
       "      <td>3989.0</td>\n",
       "      <td>23057.00</td>\n",
       "      <td>28441.5</td>\n",
       "      <td>31179.25</td>\n",
       "      <td>64022.0</td>\n",
       "      <td>10.0</td>\n",
       "      <td>16159.700000</td>\n",
       "      <td>1769.129733</td>\n",
       "      <td>13917.0</td>\n",
       "      <td>14743.25</td>\n",
       "      <td>15844.5</td>\n",
       "      <td>17329.75</td>\n",
       "      <td>18997.0</td>\n",
       "    </tr>\n",
       "    <tr>\n",
       "      <th>Coupe</th>\n",
       "      <td>27.0</td>\n",
       "      <td>27638.518519</td>\n",
       "      <td>17520.232195</td>\n",
       "      <td>2440.0</td>\n",
       "      <td>19479.00</td>\n",
       "      <td>26246.0</td>\n",
       "      <td>30625.00</td>\n",
       "      <td>90454.0</td>\n",
       "      <td>27.0</td>\n",
       "      <td>15420.518519</td>\n",
       "      <td>1410.400444</td>\n",
       "      <td>12500.0</td>\n",
       "      <td>14681.00</td>\n",
       "      <td>15388.0</td>\n",
       "      <td>16049.50</td>\n",
       "      <td>18998.0</td>\n",
       "    </tr>\n",
       "    <tr>\n",
       "      <th>Hatchback</th>\n",
       "      <td>78.0</td>\n",
       "      <td>29481.371795</td>\n",
       "      <td>10869.182472</td>\n",
       "      <td>13079.0</td>\n",
       "      <td>22354.50</td>\n",
       "      <td>27940.5</td>\n",
       "      <td>33791.75</td>\n",
       "      <td>85700.0</td>\n",
       "      <td>78.0</td>\n",
       "      <td>16548.153846</td>\n",
       "      <td>1106.585893</td>\n",
       "      <td>12795.0</td>\n",
       "      <td>15991.25</td>\n",
       "      <td>16466.0</td>\n",
       "      <td>17252.50</td>\n",
       "      <td>19390.0</td>\n",
       "    </tr>\n",
       "    <tr>\n",
       "      <th>Sedan</th>\n",
       "      <td>718.0</td>\n",
       "      <td>27216.784123</td>\n",
       "      <td>11635.931182</td>\n",
       "      <td>2928.0</td>\n",
       "      <td>18205.75</td>\n",
       "      <td>27093.0</td>\n",
       "      <td>35462.50</td>\n",
       "      <td>71566.0</td>\n",
       "      <td>718.0</td>\n",
       "      <td>15401.729805</td>\n",
       "      <td>1183.799174</td>\n",
       "      <td>10595.0</td>\n",
       "      <td>14700.00</td>\n",
       "      <td>15487.5</td>\n",
       "      <td>15998.00</td>\n",
       "      <td>18995.0</td>\n",
       "    </tr>\n",
       "  </tbody>\n",
       "</table>\n",
       "</div>"
      ],
      "text/plain": [
       "          mileage                                                          \\\n",
       "            count          mean           std      min       25%      50%   \n",
       "bodyStyle                                                                   \n",
       "             10.0  28674.700000  15054.637174   3989.0  23057.00  28441.5   \n",
       "Coupe        27.0  27638.518519  17520.232195   2440.0  19479.00  26246.0   \n",
       "Hatchback    78.0  29481.371795  10869.182472  13079.0  22354.50  27940.5   \n",
       "Sedan       718.0  27216.784123  11635.931182   2928.0  18205.75  27093.0   \n",
       "\n",
       "                              price                                      \\\n",
       "                75%      max  count          mean          std      min   \n",
       "bodyStyle                                                                 \n",
       "           31179.25  64022.0   10.0  16159.700000  1769.129733  13917.0   \n",
       "Coupe      30625.00  90454.0   27.0  15420.518519  1410.400444  12500.0   \n",
       "Hatchback  33791.75  85700.0   78.0  16548.153846  1106.585893  12795.0   \n",
       "Sedan      35462.50  71566.0  718.0  15401.729805  1183.799174  10595.0   \n",
       "\n",
       "                                                 \n",
       "                25%      50%       75%      max  \n",
       "bodyStyle                                        \n",
       "           14743.25  15844.5  17329.75  18997.0  \n",
       "Coupe      14681.00  15388.0  16049.50  18998.0  \n",
       "Hatchback  15991.25  16466.0  17252.50  19390.0  \n",
       "Sedan      14700.00  15487.5  15998.00  18995.0  "
      ]
     },
     "execution_count": 168,
     "metadata": {},
     "output_type": "execute_result"
    }
   ],
   "source": [
    "civic_body.groupby('bodyStyle').describe()"
   ]
  },
  {
   "cell_type": "markdown",
   "metadata": {},
   "source": [
    "It appears that on the average Coupe and Sedan body types have very similar prices and less expensive then Hatchback Civic. In this case the number of coupe and hatchback listings are low and susceptible and likely susceptible to other parameters."
   ]
  },
  {
   "cell_type": "markdown",
   "metadata": {},
   "source": [
    "### External Color vs Price"
   ]
  },
  {
   "cell_type": "code",
   "execution_count": 169,
   "metadata": {},
   "outputs": [
    {
     "data": {
      "text/plain": [
       "(718, 4)"
      ]
     },
     "execution_count": 169,
     "metadata": {},
     "output_type": "execute_result"
    }
   ],
   "source": [
    "civic_color = civic_clean[(civic_clean['year']==2017) & (civic_clean['trim']=='LX') &\n",
    "                         (civic_clean['bodyStyle']=='Sedan') & (civic_clean['Transmission']=='CVT')][['Color Ext','mileage','price','priceBadge']]\n",
    "civic_color.shape"
   ]
  },
  {
   "cell_type": "code",
   "execution_count": 171,
   "metadata": {},
   "outputs": [
    {
     "data": {
      "text/plain": [
       "<seaborn.axisgrid.FacetGrid at 0x16739b3f6d8>"
      ]
     },
     "execution_count": 171,
     "metadata": {},
     "output_type": "execute_result"
    },
    {
     "data": {
      "image/png": "[encoded data removed]",
      "text/plain": [
       "<Figure size 810x360 with 1 Axes>"
      ]
     },
     "metadata": {
      "needs_background": "light"
     },
     "output_type": "display_data"
    }
   ],
   "source": [
    "sns.lmplot('Color Ext', 'price', data=civic_color, fit_reg=False,height=5,hue='priceBadge',aspect=2)"
   ]
  },
  {
   "cell_type": "code",
   "execution_count": 172,
   "metadata": {},
   "outputs": [
    {
     "data": {
      "text/html": [
       "<div>\n",
       "<style scoped>\n",
       "    .dataframe tbody tr th:only-of-type {\n",
       "        vertical-align: middle;\n",
       "    }\n",
       "\n",
       "    .dataframe tbody tr th {\n",
       "        vertical-align: top;\n",
       "    }\n",
       "\n",
       "    .dataframe thead tr th {\n",
       "        text-align: left;\n",
       "    }\n",
       "\n",
       "    .dataframe thead tr:last-of-type th {\n",
       "        text-align: right;\n",
       "    }\n",
       "</style>\n",
       "<table border=\"1\" class=\"dataframe\">\n",
       "  <thead>\n",
       "    <tr>\n",
       "      <th></th>\n",
       "      <th colspan=\"8\" halign=\"left\">mileage</th>\n",
       "      <th colspan=\"8\" halign=\"left\">price</th>\n",
       "    </tr>\n",
       "    <tr>\n",
       "      <th></th>\n",
       "      <th>count</th>\n",
       "      <th>mean</th>\n",
       "      <th>std</th>\n",
       "      <th>min</th>\n",
       "      <th>25%</th>\n",
       "      <th>50%</th>\n",
       "      <th>75%</th>\n",
       "      <th>max</th>\n",
       "      <th>count</th>\n",
       "      <th>mean</th>\n",
       "      <th>std</th>\n",
       "      <th>min</th>\n",
       "      <th>25%</th>\n",
       "      <th>50%</th>\n",
       "      <th>75%</th>\n",
       "      <th>max</th>\n",
       "    </tr>\n",
       "    <tr>\n",
       "      <th>Color Ext</th>\n",
       "      <th></th>\n",
       "      <th></th>\n",
       "      <th></th>\n",
       "      <th></th>\n",
       "      <th></th>\n",
       "      <th></th>\n",
       "      <th></th>\n",
       "      <th></th>\n",
       "      <th></th>\n",
       "      <th></th>\n",
       "      <th></th>\n",
       "      <th></th>\n",
       "      <th></th>\n",
       "      <th></th>\n",
       "      <th></th>\n",
       "      <th></th>\n",
       "    </tr>\n",
       "  </thead>\n",
       "  <tbody>\n",
       "    <tr>\n",
       "      <th>Black</th>\n",
       "      <td>137.0</td>\n",
       "      <td>30974.189781</td>\n",
       "      <td>11144.116302</td>\n",
       "      <td>4952.0</td>\n",
       "      <td>24358.00</td>\n",
       "      <td>30151.0</td>\n",
       "      <td>36238.00</td>\n",
       "      <td>71566.0</td>\n",
       "      <td>137.0</td>\n",
       "      <td>15259.021898</td>\n",
       "      <td>1275.823722</td>\n",
       "      <td>10995.0</td>\n",
       "      <td>14497.00</td>\n",
       "      <td>15266.0</td>\n",
       "      <td>15998.00</td>\n",
       "      <td>17998.0</td>\n",
       "    </tr>\n",
       "    <tr>\n",
       "      <th>Blue</th>\n",
       "      <td>122.0</td>\n",
       "      <td>25751.827869</td>\n",
       "      <td>11432.353531</td>\n",
       "      <td>2928.0</td>\n",
       "      <td>17315.00</td>\n",
       "      <td>24764.0</td>\n",
       "      <td>35572.25</td>\n",
       "      <td>58396.0</td>\n",
       "      <td>122.0</td>\n",
       "      <td>15624.098361</td>\n",
       "      <td>1054.581570</td>\n",
       "      <td>11290.0</td>\n",
       "      <td>15000.00</td>\n",
       "      <td>15792.0</td>\n",
       "      <td>16298.75</td>\n",
       "      <td>17999.0</td>\n",
       "    </tr>\n",
       "    <tr>\n",
       "      <th>Gray</th>\n",
       "      <td>189.0</td>\n",
       "      <td>26157.661376</td>\n",
       "      <td>11247.331753</td>\n",
       "      <td>3986.0</td>\n",
       "      <td>17191.00</td>\n",
       "      <td>24761.0</td>\n",
       "      <td>34248.00</td>\n",
       "      <td>57366.0</td>\n",
       "      <td>189.0</td>\n",
       "      <td>15347.354497</td>\n",
       "      <td>1128.010269</td>\n",
       "      <td>10595.0</td>\n",
       "      <td>14725.00</td>\n",
       "      <td>15288.0</td>\n",
       "      <td>15995.00</td>\n",
       "      <td>18995.0</td>\n",
       "    </tr>\n",
       "    <tr>\n",
       "      <th>Other</th>\n",
       "      <td>8.0</td>\n",
       "      <td>32218.000000</td>\n",
       "      <td>7498.164518</td>\n",
       "      <td>24425.0</td>\n",
       "      <td>26374.75</td>\n",
       "      <td>30725.0</td>\n",
       "      <td>36152.00</td>\n",
       "      <td>44666.0</td>\n",
       "      <td>8.0</td>\n",
       "      <td>14504.250000</td>\n",
       "      <td>826.167356</td>\n",
       "      <td>12900.0</td>\n",
       "      <td>14074.75</td>\n",
       "      <td>14748.0</td>\n",
       "      <td>14962.25</td>\n",
       "      <td>15590.0</td>\n",
       "    </tr>\n",
       "    <tr>\n",
       "      <th>Purple</th>\n",
       "      <td>2.0</td>\n",
       "      <td>18201.500000</td>\n",
       "      <td>12935.104348</td>\n",
       "      <td>9055.0</td>\n",
       "      <td>13628.25</td>\n",
       "      <td>18201.5</td>\n",
       "      <td>22774.75</td>\n",
       "      <td>27348.0</td>\n",
       "      <td>2.0</td>\n",
       "      <td>14784.000000</td>\n",
       "      <td>540.229581</td>\n",
       "      <td>14402.0</td>\n",
       "      <td>14593.00</td>\n",
       "      <td>14784.0</td>\n",
       "      <td>14975.00</td>\n",
       "      <td>15166.0</td>\n",
       "    </tr>\n",
       "    <tr>\n",
       "      <th>Red</th>\n",
       "      <td>64.0</td>\n",
       "      <td>26595.250000</td>\n",
       "      <td>12091.504885</td>\n",
       "      <td>5142.0</td>\n",
       "      <td>17412.50</td>\n",
       "      <td>26578.5</td>\n",
       "      <td>34718.50</td>\n",
       "      <td>70180.0</td>\n",
       "      <td>64.0</td>\n",
       "      <td>15544.125000</td>\n",
       "      <td>1263.372452</td>\n",
       "      <td>12500.0</td>\n",
       "      <td>14693.00</td>\n",
       "      <td>15559.0</td>\n",
       "      <td>16498.50</td>\n",
       "      <td>17999.0</td>\n",
       "    </tr>\n",
       "    <tr>\n",
       "      <th>Silver</th>\n",
       "      <td>99.0</td>\n",
       "      <td>26337.868687</td>\n",
       "      <td>12392.800080</td>\n",
       "      <td>4087.0</td>\n",
       "      <td>17673.50</td>\n",
       "      <td>25201.0</td>\n",
       "      <td>35185.50</td>\n",
       "      <td>68298.0</td>\n",
       "      <td>99.0</td>\n",
       "      <td>15382.191919</td>\n",
       "      <td>1282.315696</td>\n",
       "      <td>11144.0</td>\n",
       "      <td>14709.50</td>\n",
       "      <td>15428.0</td>\n",
       "      <td>15995.00</td>\n",
       "      <td>18995.0</td>\n",
       "    </tr>\n",
       "    <tr>\n",
       "      <th>White</th>\n",
       "      <td>97.0</td>\n",
       "      <td>26896.639175</td>\n",
       "      <td>11585.985050</td>\n",
       "      <td>3652.0</td>\n",
       "      <td>17511.00</td>\n",
       "      <td>26310.0</td>\n",
       "      <td>35119.00</td>\n",
       "      <td>53033.0</td>\n",
       "      <td>97.0</td>\n",
       "      <td>15442.298969</td>\n",
       "      <td>1140.104008</td>\n",
       "      <td>11995.0</td>\n",
       "      <td>14689.00</td>\n",
       "      <td>15588.0</td>\n",
       "      <td>15999.00</td>\n",
       "      <td>17999.0</td>\n",
       "    </tr>\n",
       "  </tbody>\n",
       "</table>\n",
       "</div>"
      ],
      "text/plain": [
       "          mileage                                                          \\\n",
       "            count          mean           std      min       25%      50%   \n",
       "Color Ext                                                                   \n",
       "Black       137.0  30974.189781  11144.116302   4952.0  24358.00  30151.0   \n",
       "Blue        122.0  25751.827869  11432.353531   2928.0  17315.00  24764.0   \n",
       "Gray        189.0  26157.661376  11247.331753   3986.0  17191.00  24761.0   \n",
       "Other         8.0  32218.000000   7498.164518  24425.0  26374.75  30725.0   \n",
       "Purple        2.0  18201.500000  12935.104348   9055.0  13628.25  18201.5   \n",
       "Red          64.0  26595.250000  12091.504885   5142.0  17412.50  26578.5   \n",
       "Silver       99.0  26337.868687  12392.800080   4087.0  17673.50  25201.0   \n",
       "White        97.0  26896.639175  11585.985050   3652.0  17511.00  26310.0   \n",
       "\n",
       "                              price                                      \\\n",
       "                75%      max  count          mean          std      min   \n",
       "Color Ext                                                                 \n",
       "Black      36238.00  71566.0  137.0  15259.021898  1275.823722  10995.0   \n",
       "Blue       35572.25  58396.0  122.0  15624.098361  1054.581570  11290.0   \n",
       "Gray       34248.00  57366.0  189.0  15347.354497  1128.010269  10595.0   \n",
       "Other      36152.00  44666.0    8.0  14504.250000   826.167356  12900.0   \n",
       "Purple     22774.75  27348.0    2.0  14784.000000   540.229581  14402.0   \n",
       "Red        34718.50  70180.0   64.0  15544.125000  1263.372452  12500.0   \n",
       "Silver     35185.50  68298.0   99.0  15382.191919  1282.315696  11144.0   \n",
       "White      35119.00  53033.0   97.0  15442.298969  1140.104008  11995.0   \n",
       "\n",
       "                                                 \n",
       "                25%      50%       75%      max  \n",
       "Color Ext                                        \n",
       "Black      14497.00  15266.0  15998.00  17998.0  \n",
       "Blue       15000.00  15792.0  16298.75  17999.0  \n",
       "Gray       14725.00  15288.0  15995.00  18995.0  \n",
       "Other      14074.75  14748.0  14962.25  15590.0  \n",
       "Purple     14593.00  14784.0  14975.00  15166.0  \n",
       "Red        14693.00  15559.0  16498.50  17999.0  \n",
       "Silver     14709.50  15428.0  15995.00  18995.0  \n",
       "White      14689.00  15588.0  15999.00  17999.0  "
      ]
     },
     "execution_count": 172,
     "metadata": {},
     "output_type": "execute_result"
    }
   ],
   "source": [
    "civic_color.groupby('Color Ext').describe()"
   ]
  },
  {
   "cell_type": "code",
   "execution_count": 301,
   "metadata": {},
   "outputs": [],
   "source": [
    "colors=['Black', 'Silver', 'Gray', 'Blue',  'White', 'Red']\n",
    "#vals: 0, 1, 1, 2, 2, 3"
   ]
  },
  {
   "cell_type": "markdown",
   "metadata": {},
   "source": [
    "Interesting Note: Black cars has significantly larger average/median mileage!!! Other cars have similar average mileage.\n",
    "Blue cars have the lowest mileage and highest average price and the Black have the highest mileage and lowest average price. Red cars seems to be valued higher despite having near average mileage indicating that they might be more desirable than other colors. It seems that a better analysis of the effect of color might require removing the effect of mileage from the car pricing. "
   ]
  },
  {
   "cell_type": "markdown",
   "metadata": {},
   "source": [
    "# Estimate Car Prices\n",
    "\n",
    "We will conduct a linear regression to estimate car prices based on year, mileage, trim, external color of the car. Since there is not enough statistical data for the transmission and body style, we will only work on 'CVT' transmission and 'Sedan' cars. We will remove privately sold cars (there are only 105 such listings). Finally, we will only include cars with year later than 2000 in our analysis."
   ]
  },
  {
   "cell_type": "code",
   "execution_count": 416,
   "metadata": {},
   "outputs": [
    {
     "data": {
      "text/html": [
       "<div>\n",
       "<style scoped>\n",
       "    .dataframe tbody tr th:only-of-type {\n",
       "        vertical-align: middle;\n",
       "    }\n",
       "\n",
       "    .dataframe tbody tr th {\n",
       "        vertical-align: top;\n",
       "    }\n",
       "\n",
       "    .dataframe thead th {\n",
       "        text-align: right;\n",
       "    }\n",
       "</style>\n",
       "<table border=\"1\" class=\"dataframe\">\n",
       "  <thead>\n",
       "    <tr style=\"text-align: right;\">\n",
       "      <th></th>\n",
       "      <th>year</th>\n",
       "      <th>mileage</th>\n",
       "      <th>trim</th>\n",
       "      <th>Color Ext</th>\n",
       "      <th>price</th>\n",
       "      <th>priceBadge</th>\n",
       "      <th>description</th>\n",
       "    </tr>\n",
       "  </thead>\n",
       "  <tbody>\n",
       "    <tr>\n",
       "      <th>3</th>\n",
       "      <td>2017</td>\n",
       "      <td>16625</td>\n",
       "      <td>LX</td>\n",
       "      <td>Gray</td>\n",
       "      <td>14900.0</td>\n",
       "      <td>Good Deal</td>\n",
       "      <td>Odometer is 9291 miles below market average! B...</td>\n",
       "    </tr>\n",
       "    <tr>\n",
       "      <th>5</th>\n",
       "      <td>2016</td>\n",
       "      <td>51080</td>\n",
       "      <td>EX-T</td>\n",
       "      <td>Red</td>\n",
       "      <td>13590.0</td>\n",
       "      <td></td>\n",
       "      <td>Great MPG: 42 MPG Hwy!!! SPECIAL ONLINE PRICIN...</td>\n",
       "    </tr>\n",
       "    <tr>\n",
       "      <th>9</th>\n",
       "      <td>2017</td>\n",
       "      <td>9754</td>\n",
       "      <td>LX</td>\n",
       "      <td>Gray</td>\n",
       "      <td>13999.0</td>\n",
       "      <td>Good Deal</td>\n",
       "      <td>Gray 2017 Honda Civic LX FWD CVT 2.0L I4 DOHC ...</td>\n",
       "    </tr>\n",
       "    <tr>\n",
       "      <th>13</th>\n",
       "      <td>2018</td>\n",
       "      <td>11134</td>\n",
       "      <td>EX-T</td>\n",
       "      <td>Blue</td>\n",
       "      <td>15995.0</td>\n",
       "      <td>Good Deal</td>\n",
       "      <td>ATTENTION! ! !!GENERAL PUBLIC!!! PLEASE READ!!...</td>\n",
       "    </tr>\n",
       "    <tr>\n",
       "      <th>15</th>\n",
       "      <td>2017</td>\n",
       "      <td>52549</td>\n",
       "      <td>LX</td>\n",
       "      <td>White</td>\n",
       "      <td>13788.0</td>\n",
       "      <td>Fair Price</td>\n",
       "      <td>CARFAX 1-Owner. Taffeta White exterior and Ivo...</td>\n",
       "    </tr>\n",
       "  </tbody>\n",
       "</table>\n",
       "</div>"
      ],
      "text/plain": [
       "    year  mileage  trim Color Ext    price  priceBadge  \\\n",
       "3   2017    16625    LX      Gray  14900.0   Good Deal   \n",
       "5   2016    51080  EX-T       Red  13590.0               \n",
       "9   2017     9754    LX      Gray  13999.0   Good Deal   \n",
       "13  2018    11134  EX-T      Blue  15995.0   Good Deal   \n",
       "15  2017    52549    LX     White  13788.0  Fair Price   \n",
       "\n",
       "                                          description  \n",
       "3   Odometer is 9291 miles below market average! B...  \n",
       "5   Great MPG: 42 MPG Hwy!!! SPECIAL ONLINE PRICIN...  \n",
       "9   Gray 2017 Honda Civic LX FWD CVT 2.0L I4 DOHC ...  \n",
       "13  ATTENTION! ! !!GENERAL PUBLIC!!! PLEASE READ!!...  \n",
       "15  CARFAX 1-Owner. Taffeta White exterior and Ivo...  "
      ]
     },
     "execution_count": 416,
     "metadata": {},
     "output_type": "execute_result"
    }
   ],
   "source": [
    "civic_price = civic_clean[(civic_clean['year']>2000) & (civic_clean['trim'].isin(trims)) & (civic_clean['privateSeller']==False) &\n",
    "                         (civic_clean['bodyStyle']=='Sedan') & (civic_clean['Transmission']=='CVT') &\n",
    "                         (civic_clean['Color Ext'].isin(colors))][['year', 'mileage','trim','Color Ext','price','priceBadge','description']]\n",
    "civic_price.head()"
   ]
  },
  {
   "cell_type": "code",
   "execution_count": 417,
   "metadata": {
    "scrolled": true
   },
   "outputs": [
    {
     "data": {
      "text/plain": [
       "(2474, 7)"
      ]
     },
     "execution_count": 417,
     "metadata": {},
     "output_type": "execute_result"
    }
   ],
   "source": [
    "civic_price.shape"
   ]
  },
  {
   "cell_type": "markdown",
   "metadata": {},
   "source": [
    "In order to include trim in our linear regression analysis, we will convert the categorical values into numerical values. We will assign values in line with our previous data exploration."
   ]
  },
  {
   "cell_type": "code",
   "execution_count": 418,
   "metadata": {},
   "outputs": [
    {
     "data": {
      "text/html": [
       "<div>\n",
       "<style scoped>\n",
       "    .dataframe tbody tr th:only-of-type {\n",
       "        vertical-align: middle;\n",
       "    }\n",
       "\n",
       "    .dataframe tbody tr th {\n",
       "        vertical-align: top;\n",
       "    }\n",
       "\n",
       "    .dataframe thead th {\n",
       "        text-align: right;\n",
       "    }\n",
       "</style>\n",
       "<table border=\"1\" class=\"dataframe\">\n",
       "  <thead>\n",
       "    <tr style=\"text-align: right;\">\n",
       "      <th></th>\n",
       "      <th>year</th>\n",
       "      <th>mileage</th>\n",
       "      <th>trim</th>\n",
       "      <th>Color Ext</th>\n",
       "      <th>price</th>\n",
       "      <th>priceBadge</th>\n",
       "      <th>description</th>\n",
       "    </tr>\n",
       "  </thead>\n",
       "  <tbody>\n",
       "    <tr>\n",
       "      <th>3</th>\n",
       "      <td>2017</td>\n",
       "      <td>16625</td>\n",
       "      <td>0</td>\n",
       "      <td>1</td>\n",
       "      <td>14900.0</td>\n",
       "      <td>Good Deal</td>\n",
       "      <td>Odometer is 9291 miles below market average! B...</td>\n",
       "    </tr>\n",
       "    <tr>\n",
       "      <th>5</th>\n",
       "      <td>2016</td>\n",
       "      <td>51080</td>\n",
       "      <td>2</td>\n",
       "      <td>3</td>\n",
       "      <td>13590.0</td>\n",
       "      <td></td>\n",
       "      <td>Great MPG: 42 MPG Hwy!!! SPECIAL ONLINE PRICIN...</td>\n",
       "    </tr>\n",
       "    <tr>\n",
       "      <th>9</th>\n",
       "      <td>2017</td>\n",
       "      <td>9754</td>\n",
       "      <td>0</td>\n",
       "      <td>1</td>\n",
       "      <td>13999.0</td>\n",
       "      <td>Good Deal</td>\n",
       "      <td>Gray 2017 Honda Civic LX FWD CVT 2.0L I4 DOHC ...</td>\n",
       "    </tr>\n",
       "    <tr>\n",
       "      <th>13</th>\n",
       "      <td>2018</td>\n",
       "      <td>11134</td>\n",
       "      <td>2</td>\n",
       "      <td>2</td>\n",
       "      <td>15995.0</td>\n",
       "      <td>Good Deal</td>\n",
       "      <td>ATTENTION! ! !!GENERAL PUBLIC!!! PLEASE READ!!...</td>\n",
       "    </tr>\n",
       "    <tr>\n",
       "      <th>15</th>\n",
       "      <td>2017</td>\n",
       "      <td>52549</td>\n",
       "      <td>0</td>\n",
       "      <td>2</td>\n",
       "      <td>13788.0</td>\n",
       "      <td>Fair Price</td>\n",
       "      <td>CARFAX 1-Owner. Taffeta White exterior and Ivo...</td>\n",
       "    </tr>\n",
       "  </tbody>\n",
       "</table>\n",
       "</div>"
      ],
      "text/plain": [
       "    year  mileage  trim  Color Ext    price  priceBadge  \\\n",
       "3   2017    16625     0          1  14900.0   Good Deal   \n",
       "5   2016    51080     2          3  13590.0               \n",
       "9   2017     9754     0          1  13999.0   Good Deal   \n",
       "13  2018    11134     2          2  15995.0   Good Deal   \n",
       "15  2017    52549     0          2  13788.0  Fair Price   \n",
       "\n",
       "                                          description  \n",
       "3   Odometer is 9291 miles below market average! B...  \n",
       "5   Great MPG: 42 MPG Hwy!!! SPECIAL ONLINE PRICIN...  \n",
       "9   Gray 2017 Honda Civic LX FWD CVT 2.0L I4 DOHC ...  \n",
       "13  ATTENTION! ! !!GENERAL PUBLIC!!! PLEASE READ!!...  \n",
       "15  CARFAX 1-Owner. Taffeta White exterior and Ivo...  "
      ]
     },
     "execution_count": 418,
     "metadata": {},
     "output_type": "execute_result"
    }
   ],
   "source": [
    "cattonum = {'trim': {'LX':0,\"EX\": 1, 'EX-T':2,'EX-L':2, 'Touring':3},\n",
    "            'Color Ext': {'Black': 0, 'Silver':1, 'Gray':1, 'Blue':2,  'White':2, 'Red':3} }\n",
    "civic_price.replace(cattonum, inplace=True)\n",
    "civic_price.head()"
   ]
  },
  {
   "cell_type": "code",
   "execution_count": null,
   "metadata": {},
   "outputs": [],
   "source": [
    "from sklearn.linear_model import LinearRegression\n",
    "from sklearn.model_selection import train_test_split"
   ]
  },
  {
   "cell_type": "markdown",
   "metadata": {},
   "source": [
    "Let's first work with a train and validation set to see how well the model works."
   ]
  },
  {
   "cell_type": "code",
   "execution_count": 419,
   "metadata": {},
   "outputs": [
    {
     "name": "stdout",
     "output_type": "stream",
     "text": [
      "Validation MAE for Linear Regression Model: 919\n"
     ]
    }
   ],
   "source": [
    "features = ['year', 'mileage','trim','Color Ext']\n",
    "y = civic_price.price\n",
    "X = civic_price[features]\n",
    "\n",
    "# Split into validation and training data\n",
    "train_X, val_X, train_y, val_y = train_test_split(X, y)\n",
    "\n",
    "model = LinearRegression(fit_intercept=True)\n",
    "model.fit(train_X,train_y)\n",
    "\n",
    "#xfit = np.linspace(0, 10, 1000)\n",
    "lr_val_predictions = model.predict(val_X)\n",
    "lr_val_mae = mean_absolute_error(lr_val_predictions, val_y)\n",
    "\n",
    "print(\"Validation MAE for Linear Regression Model: {:,.0f}\".format(lr_val_mae))"
   ]
  },
  {
   "cell_type": "code",
   "execution_count": 420,
   "metadata": {},
   "outputs": [
    {
     "data": {
      "text/plain": [
       "942.9199784677353"
      ]
     },
     "execution_count": 420,
     "metadata": {},
     "output_type": "execute_result"
    }
   ],
   "source": [
    "val_ynp=val_y.to_numpy()\n",
    "mean_val=val_ynp.mean()\n",
    "err=np.abs(mean_val*(val_ynp-lr_val_predictions)/val_ynp)\n",
    "err.mean()"
   ]
  },
  {
   "cell_type": "markdown",
   "metadata": {},
   "source": [
    "For an average car price of about 15K, the model makes a mean error of ~900. Since our model is not taking all possible features into account, and variation in car pricing among different sellers is expected, this is a pretty good estimate. However, there are also car prices which is grossly different from model estimation. We will further explore these later.\n",
    "\n",
    "Below is the same model applied to complete data set. The results are similar."
   ]
  },
  {
   "cell_type": "code",
   "execution_count": 421,
   "metadata": {},
   "outputs": [
    {
     "name": "stdout",
     "output_type": "stream",
     "text": [
      "Validation MAE for Linear Regression Model: 911\n"
     ]
    }
   ],
   "source": [
    "model = LinearRegression(fit_intercept=True)\n",
    "model.fit(X,y)\n",
    "\n",
    "#xfit = np.linspace(0, 10, 1000)\n",
    "lr_predictions = model.predict(X)\n",
    "lr_mae = mean_absolute_error(lr_predictions, y)\n",
    "\n",
    "print(\"Validation MAE for Linear Regression Model: {:,.0f}\".format(lr_mae))"
   ]
  },
  {
   "cell_type": "code",
   "execution_count": 422,
   "metadata": {},
   "outputs": [
    {
     "data": {
      "text/plain": [
       "3947.3127957301813"
      ]
     },
     "execution_count": 422,
     "metadata": {},
     "output_type": "execute_result"
    }
   ],
   "source": [
    "ynp=y.to_numpy()\n",
    "mean_y=ynp.mean()\n",
    "normerr=mean_y*(ynp-lr_predictions)/ynp\n",
    "normerr.max()"
   ]
  },
  {
   "cell_type": "markdown",
   "metadata": {},
   "source": [
    "We will now label the original listings based on the model prediction similar to the Cars.com priceBadges. Cars with prices within a certain range of the model estimation will be labeled as 'Good Deal', cars with higher prices will be labeled as 'Fair Price' and cars with less price will be labeled as 'Great Deal'. Then we will compare our labels with that of Cars.com to see how well they agree."
   ]
  },
  {
   "cell_type": "code",
   "execution_count": 423,
   "metadata": {},
   "outputs": [
    {
     "data": {
      "text/html": [
       "<div>\n",
       "<style scoped>\n",
       "    .dataframe tbody tr th:only-of-type {\n",
       "        vertical-align: middle;\n",
       "    }\n",
       "\n",
       "    .dataframe tbody tr th {\n",
       "        vertical-align: top;\n",
       "    }\n",
       "\n",
       "    .dataframe thead th {\n",
       "        text-align: right;\n",
       "    }\n",
       "</style>\n",
       "<table border=\"1\" class=\"dataframe\">\n",
       "  <thead>\n",
       "    <tr style=\"text-align: right;\">\n",
       "      <th></th>\n",
       "      <th>year</th>\n",
       "      <th>mileage</th>\n",
       "      <th>trim</th>\n",
       "      <th>Color Ext</th>\n",
       "      <th>price</th>\n",
       "      <th>priceBadge</th>\n",
       "      <th>description</th>\n",
       "      <th>pricePrediction</th>\n",
       "    </tr>\n",
       "  </thead>\n",
       "  <tbody>\n",
       "    <tr>\n",
       "      <th>3</th>\n",
       "      <td>2017</td>\n",
       "      <td>16625</td>\n",
       "      <td>0</td>\n",
       "      <td>1</td>\n",
       "      <td>14900.0</td>\n",
       "      <td>Good Deal</td>\n",
       "      <td>Odometer is 9291 miles below market average! B...</td>\n",
       "      <td>16032.281761</td>\n",
       "    </tr>\n",
       "    <tr>\n",
       "      <th>5</th>\n",
       "      <td>2016</td>\n",
       "      <td>51080</td>\n",
       "      <td>2</td>\n",
       "      <td>3</td>\n",
       "      <td>13590.0</td>\n",
       "      <td></td>\n",
       "      <td>Great MPG: 42 MPG Hwy!!! SPECIAL ONLINE PRICIN...</td>\n",
       "      <td>15788.591665</td>\n",
       "    </tr>\n",
       "    <tr>\n",
       "      <th>9</th>\n",
       "      <td>2017</td>\n",
       "      <td>9754</td>\n",
       "      <td>0</td>\n",
       "      <td>1</td>\n",
       "      <td>13999.0</td>\n",
       "      <td>Good Deal</td>\n",
       "      <td>Gray 2017 Honda Civic LX FWD CVT 2.0L I4 DOHC ...</td>\n",
       "      <td>16403.752851</td>\n",
       "    </tr>\n",
       "    <tr>\n",
       "      <th>13</th>\n",
       "      <td>2018</td>\n",
       "      <td>11134</td>\n",
       "      <td>2</td>\n",
       "      <td>2</td>\n",
       "      <td>15995.0</td>\n",
       "      <td>Good Deal</td>\n",
       "      <td>ATTENTION! ! !!GENERAL PUBLIC!!! PLEASE READ!!...</td>\n",
       "      <td>19615.115195</td>\n",
       "    </tr>\n",
       "    <tr>\n",
       "      <th>15</th>\n",
       "      <td>2017</td>\n",
       "      <td>52549</td>\n",
       "      <td>0</td>\n",
       "      <td>2</td>\n",
       "      <td>13788.0</td>\n",
       "      <td>Fair Price</td>\n",
       "      <td>CARFAX 1-Owner. Taffeta White exterior and Ivo...</td>\n",
       "      <td>14135.921137</td>\n",
       "    </tr>\n",
       "  </tbody>\n",
       "</table>\n",
       "</div>"
      ],
      "text/plain": [
       "    year  mileage  trim  Color Ext    price  priceBadge  \\\n",
       "3   2017    16625     0          1  14900.0   Good Deal   \n",
       "5   2016    51080     2          3  13590.0               \n",
       "9   2017     9754     0          1  13999.0   Good Deal   \n",
       "13  2018    11134     2          2  15995.0   Good Deal   \n",
       "15  2017    52549     0          2  13788.0  Fair Price   \n",
       "\n",
       "                                          description  pricePrediction  \n",
       "3   Odometer is 9291 miles below market average! B...     16032.281761  \n",
       "5   Great MPG: 42 MPG Hwy!!! SPECIAL ONLINE PRICIN...     15788.591665  \n",
       "9   Gray 2017 Honda Civic LX FWD CVT 2.0L I4 DOHC ...     16403.752851  \n",
       "13  ATTENTION! ! !!GENERAL PUBLIC!!! PLEASE READ!!...     19615.115195  \n",
       "15  CARFAX 1-Owner. Taffeta White exterior and Ivo...     14135.921137  "
      ]
     },
     "execution_count": 423,
     "metadata": {},
     "output_type": "execute_result"
    }
   ],
   "source": [
    "#Add the model predictions to the data_frame\n",
    "civic_price['pricePrediction']=lr_predictions\n",
    "civic_price.head()"
   ]
  },
  {
   "cell_type": "code",
   "execution_count": 424,
   "metadata": {},
   "outputs": [
    {
     "data": {
      "text/plain": [
       "-1    1455\n",
       " 1     548\n",
       " 0     471\n",
       "Name: myBadge, dtype: int64"
      ]
     },
     "execution_count": 424,
     "metadata": {},
     "output_type": "execute_result"
    }
   ],
   "source": [
    "dev = 900\n",
    "#We will label expensive cars as 0 and cheap cars as 1. Average valued cars will be labeled as -1.\n",
    "civic_price['myBadge']=-1\n",
    "civic_price.loc[(normerr>dev),'myBadge']=0\n",
    "civic_price.loc[(normerr<-dev),'myBadge']=1\n",
    "civic_price['myBadge'].value_counts()"
   ]
  },
  {
   "cell_type": "markdown",
   "metadata": {},
   "source": [
    "Let's plot car prices again in a similar manner to the way we plotted the mileage analysis earlier."
   ]
  },
  {
   "cell_type": "code",
   "execution_count": 425,
   "metadata": {},
   "outputs": [
    {
     "data": {
      "text/plain": [
       "<matplotlib.collections.PathCollection at 0x16747c5c048>"
      ]
     },
     "execution_count": 425,
     "metadata": {},
     "output_type": "execute_result"
    },
    {
     "data": {
      "image/png": "[encoded data removed]",
      "text/plain": [
       "<Figure size 775.375x360 with 1 Axes>"
      ]
     },
     "metadata": {
      "needs_background": "light"
     },
     "output_type": "display_data"
    }
   ],
   "source": [
    "civic_price_m = civic_price[(civic_price['year']==2017) & (civic_price['trim']==0)]\n",
    "sns.lmplot('mileage', 'price', data=civic_price_m, fit_reg=False,height=5,hue='myBadge',aspect=2)\n",
    "plt.scatter(civic_price_m['mileage'],civic_price_m['pricePrediction'],c='r')"
   ]
  },
  {
   "cell_type": "code",
   "execution_count": 395,
   "metadata": {},
   "outputs": [
    {
     "data": {
      "text/plain": [
       "Good Deal     234\n",
       "Fair Price    123\n",
       "              113\n",
       "Great Deal      1\n",
       "Name: priceBadge, dtype: int64"
      ]
     },
     "execution_count": 395,
     "metadata": {},
     "output_type": "execute_result"
    }
   ],
   "source": [
    "#Expensive 'Fair Price' cars according to our analysis\n",
    "civic_price[normerr>dev]['priceBadge'].value_counts()"
   ]
  },
  {
   "cell_type": "code",
   "execution_count": 396,
   "metadata": {},
   "outputs": [
    {
     "data": {
      "text/plain": [
       "Good Deal     356\n",
       "Great Deal    128\n",
       "               60\n",
       "Fair Price      4\n",
       "Name: priceBadge, dtype: int64"
      ]
     },
     "execution_count": 396,
     "metadata": {},
     "output_type": "execute_result"
    }
   ],
   "source": [
    "#Cheap 'Great Deal' cars according to our analysis\n",
    "civic_price[normerr<-dev]['priceBadge'].value_counts()"
   ]
  },
  {
   "cell_type": "code",
   "execution_count": 397,
   "metadata": {},
   "outputs": [
    {
     "data": {
      "text/plain": [
       "Good Deal     1081\n",
       "               257\n",
       "Fair Price      69\n",
       "Great Deal      48\n",
       "Name: priceBadge, dtype: int64"
      ]
     },
     "execution_count": 397,
     "metadata": {},
     "output_type": "execute_result"
    }
   ],
   "source": [
    "#Fair priced 'Good Deal' cars according to our analysis\n",
    "civic_price[np.abs(normerr)<dev]['priceBadge'].value_counts()"
   ]
  },
  {
   "cell_type": "markdown",
   "metadata": {},
   "source": [
    "As can be seen from the summaries above, many cars fall into categories that they shoud not be in. The inconsistencies can not be resolved by increasing 'dev'. We might be missing some very important features that are included in Cars.com analysis OR their labeling algorithm is not working very well.\n",
    "For now, we will assume that we are missing some features in our analysis."
   ]
  },
  {
   "cell_type": "markdown",
   "metadata": {},
   "source": [
    "## Analyze Descriptions for Price Indicators:\n",
    "\n",
    "In this part we will try to figure out if the descriptions of the listings have any key words that might explain price irregularities relative to our linear regression model. "
   ]
  },
  {
   "cell_type": "code",
   "execution_count": 415,
   "metadata": {},
   "outputs": [],
   "source": [
    "import sklearn as sk\n",
    "from sklearn import preprocessing\n",
    "from sklearn.linear_model import LogisticRegression\n",
    "from sklearn import metrics\n",
    "from sklearn.feature_extraction.text import CountVectorizer"
   ]
  },
  {
   "cell_type": "code",
   "execution_count": 532,
   "metadata": {},
   "outputs": [],
   "source": [
    "#Drop rows with no description\n",
    "civic_price_d=civic_price.drop(civic_price[civic_price['description']=='None'].index)"
   ]
  },
  {
   "cell_type": "markdown",
   "metadata": {},
   "source": [
    "### Simple Test:\n",
    "As an initial test, we will label cars with above average price as expensive and cars with below average price as cheap."
   ]
  },
  {
   "cell_type": "code",
   "execution_count": 533,
   "metadata": {},
   "outputs": [],
   "source": [
    "#Training Labels\n",
    "avgprice=civic_price_d['price'].mean()\n",
    "cheap=(civic_price_d['price']<avgprice)\n",
    "pricelabels=(cheap*1).to_numpy()"
   ]
  },
  {
   "cell_type": "markdown",
   "metadata": {},
   "source": [
    "Form a word vector."
   ]
  },
  {
   "cell_type": "code",
   "execution_count": 534,
   "metadata": {},
   "outputs": [],
   "source": [
    "vectorizer = CountVectorizer(analyzer='word',max_features=4000)\n",
    "vector = vectorizer.fit_transform(civic_price_d['description'].values)\n",
    "#print(len(vectorizer.get_feature_names()))\n",
    "#vector.toarray()[0]"
   ]
  },
  {
   "cell_type": "markdown",
   "metadata": {},
   "source": [
    "Let's check out the most common words:"
   ]
  },
  {
   "cell_type": "code",
   "execution_count": 535,
   "metadata": {},
   "outputs": [
    {
     "data": {
      "text/plain": [
       "[('the', 9315),\n",
       " ('and', 8331),\n",
       " ('to', 6800),\n",
       " ('of', 6012),\n",
       " ('honda', 5350),\n",
       " ('for', 4856),\n",
       " ('with', 4081),\n",
       " ('vehicle', 3834),\n",
       " ('warranty', 3816),\n",
       " ('we', 3728)]"
      ]
     },
     "execution_count": 535,
     "metadata": {},
     "output_type": "execute_result"
    }
   ],
   "source": [
    "sum_words = vector.sum(axis=0)\n",
    "words_freq = [(word, sum_words[0, idx]) for word, idx in vectorizer.vocabulary_.items()]\n",
    "words_freq = sorted(words_freq, key = lambda x: x[1], reverse=True)\n",
    "words_freq[:10]"
   ]
  },
  {
   "cell_type": "markdown",
   "metadata": {},
   "source": [
    "Many of these words (the, and, to, of, for, with, we) are irrelevant to the task and should be dropped from the data set. We will do this clean up at a later time."
   ]
  },
  {
   "cell_type": "code",
   "execution_count": 528,
   "metadata": {},
   "outputs": [],
   "source": [
    "#words_freq[-20:]"
   ]
  },
  {
   "cell_type": "code",
   "execution_count": 446,
   "metadata": {},
   "outputs": [],
   "source": [
    "countList = vector.toarray()\n",
    "#Rescale the countlist for better performance\n",
    "countList_scaled = preprocessing.scale(countList)"
   ]
  },
  {
   "cell_type": "code",
   "execution_count": 448,
   "metadata": {
    "scrolled": true
   },
   "outputs": [
    {
     "data": {
      "text/plain": [
       "LogisticRegression(C=0.1, class_weight=None, dual=False, fit_intercept=True,\n",
       "                   intercept_scaling=1, l1_ratio=None, max_iter=100,\n",
       "                   multi_class='warn', n_jobs=None, penalty='l1',\n",
       "                   random_state=None, solver='liblinear', tol=0.0001, verbose=0,\n",
       "                   warm_start=False)"
      ]
     },
     "execution_count": 448,
     "metadata": {},
     "output_type": "execute_result"
    }
   ],
   "source": [
    "# Logistic regression\n",
    "logisticRegr = LogisticRegression(penalty='l1', C=0.1, solver='liblinear')\n",
    "logisticRegr.fit(countList_scaled, pricelabels)"
   ]
  },
  {
   "cell_type": "code",
   "execution_count": 477,
   "metadata": {},
   "outputs": [],
   "source": [
    "#Get the regression coefficients of each word\n",
    "invertedDict = {value: key for key, value in vectorizer.vocabulary_.items()}\n",
    "wordCoef = [(invertedDict[i],logisticRegr.coef_[0,i]) for i in range(len(logisticRegr.coef_[0,:]))]\n",
    "sortedWordCoef = sorted(wordCoef,key=lambda x:x[1],reverse=True)"
   ]
  },
  {
   "cell_type": "code",
   "execution_count": 478,
   "metadata": {},
   "outputs": [
    {
     "name": "stdout",
     "output_type": "stream",
     "text": [
      "Top 20 words related to cheap cars:\n"
     ]
    },
    {
     "data": {
      "text/plain": [
       "[('lx', 0.718039897946154),\n",
       " ('2015', 0.7154759452040848),\n",
       " ('2016', 0.4745779408874929),\n",
       " ('2014', 0.46894876250196893),\n",
       " ('39', 0.35613432314348786),\n",
       " ('rating', 0.21866857925712993),\n",
       " ('bags', 0.2051434248662977),\n",
       " ('http', 0.19441455763898371),\n",
       " ('want', 0.17979258894819347),\n",
       " ('credit', 0.17831320701970818),\n",
       " ('priced', 0.17660007277336906),\n",
       " ('see', 0.1758330084048264),\n",
       " ('pick', 0.17386301785573974),\n",
       " ('inside', 0.15302679554588763),\n",
       " ('dch', 0.1529557126909461),\n",
       " ('satisfying', 0.15081751419456388),\n",
       " ('15', 0.14993747160628323),\n",
       " ('trade', 0.14923698205092703),\n",
       " ('41', 0.14703735112725808),\n",
       " ('46', 0.13483668863317613)]"
      ]
     },
     "execution_count": 478,
     "metadata": {},
     "output_type": "execute_result"
    }
   ],
   "source": [
    "print(\"Top 20 words related to cheap cars:\")\n",
    "sortedWordCoef[:20]"
   ]
  },
  {
   "cell_type": "markdown",
   "metadata": {},
   "source": [
    "In this simple case, where we labeled car prices relative to the median, the top word is 'lx' which is clear indication that 'lx' models are cheaper than other trims. The next three keywords 2015, 2016 and 2014 are also cheap car indicators. This is probably the year of the car and since most cars are 2017, probably the average car price falls into the 2017 car range. Therefore, these years car cheap car indicator. Other, key words like 'bags' might be part of 'air bags' and included in the description due to lack of features in the cheaper model. 'priced' is also a low price indicator in this list."
   ]
  },
  {
   "cell_type": "code",
   "execution_count": 479,
   "metadata": {},
   "outputs": [
    {
     "name": "stdout",
     "output_type": "stream",
     "text": [
      "Top 20 words related to expensive cars:\n"
     ]
    },
    {
     "data": {
      "text/plain": [
       "[('odometer', -0.528331097396113),\n",
       " ('38', -0.3427949481128265),\n",
       " ('781', -0.2703324510817523),\n",
       " ('2018', -0.2666538707256362),\n",
       " ('2019', -0.2490545432533281),\n",
       " ('sunroof', -0.24010770120223743),\n",
       " ('follow', -0.22489777826154825),\n",
       " ('moonroof', -0.2132295105925823),\n",
       " ('nation', -0.21012954466761635),\n",
       " ('866', -0.19799467903356957),\n",
       " ('turbocharged', -0.19649030565099337),\n",
       " ('mile', -0.1671583098906452),\n",
       " ('ex', -0.15903518122530932),\n",
       " ('winner', -0.15856671109949305),\n",
       " ('extras', -0.15420423867380023),\n",
       " ('automobile', -0.15146838584150588),\n",
       " ('42', -0.1461330373260682),\n",
       " ('lane', -0.14437731372278254),\n",
       " ('android', -0.13173505414846515)]"
      ]
     },
     "execution_count": 479,
     "metadata": {},
     "output_type": "execute_result"
    }
   ],
   "source": [
    "print(\"Top 20 words related to expensive cars:\")\n",
    "sortedWordCoef[:-20:-1]"
   ]
  },
  {
   "cell_type": "markdown",
   "metadata": {},
   "source": [
    "In this simple case, we see that car years 2018 and 2019 are expensive car indicators. In addition, 'odometer' might be an indicator for low mileage. Also 'mile' is in this list. Sellers probably want to advertise the low mileage of the car. 'sunroof' and 'moonroof' are two words that is not considered in our models at all. 'extras' is also a high price indicator. Finally, 'android'  might be related to some electronic options available in the car and shows up in more expensive listings."
   ]
  },
  {
   "cell_type": "markdown",
   "metadata": {},
   "source": [
    "### Use linear regression labels:"
   ]
  },
  {
   "cell_type": "markdown",
   "metadata": {},
   "source": [
    "We will now use the result of the linear regression fit for the price estimation. We will assume that cars priced within the MAE of the linear regression are fairly priced. In the logistic regression, we will only compare highly priced cars to cheap cars. In the future we might attempt to do a multi class classification. "
   ]
  },
  {
   "cell_type": "code",
   "execution_count": 562,
   "metadata": {},
   "outputs": [
    {
     "data": {
      "text/plain": [
       "-1    1455\n",
       " 1     548\n",
       " 0     471\n",
       "Name: myBadge, dtype: int64"
      ]
     },
     "execution_count": 562,
     "metadata": {},
     "output_type": "execute_result"
    }
   ],
   "source": [
    "dev = 900\n",
    "#We will label expensive cars as 0 and cheap cars as 1. Average valued cars will be labeled as -1.\n",
    "civic_price['myBadge']=-1\n",
    "civic_price.loc[(normerr>dev),'myBadge']=0\n",
    "civic_price.loc[(normerr<-dev),'myBadge']=1\n",
    "civic_price['myBadge'].value_counts()\n"
   ]
  },
  {
   "cell_type": "code",
   "execution_count": 563,
   "metadata": {},
   "outputs": [],
   "source": [
    "#Drop rows with no description\n",
    "civic_price_d = civic_price.drop(civic_price[civic_price['description']=='None'].index)\n",
    "civic_price_d = civic_price_d[civic_price_d['myBadge']>=0]\n",
    "pricelabels = civic_price_d['myBadge'].to_numpy()"
   ]
  },
  {
   "cell_type": "code",
   "execution_count": 564,
   "metadata": {},
   "outputs": [
    {
     "name": "stdout",
     "output_type": "stream",
     "text": [
      "2500\n"
     ]
    }
   ],
   "source": [
    "vectorizer = CountVectorizer(analyzer='word',max_features=2500)\n",
    "vector = vectorizer.fit_transform(civic_price_d['description'].values)\n",
    "print(len(vectorizer.get_feature_names()))\n",
    "#vector.toarray()[0]"
   ]
  },
  {
   "cell_type": "code",
   "execution_count": 565,
   "metadata": {},
   "outputs": [],
   "source": [
    "sum_words = vector.sum(axis=0)\n",
    "words_freq = [(word, sum_words[0, idx]) for word, idx in vectorizer.vocabulary_.items()]\n",
    "words_freq = sorted(words_freq, key = lambda x: x[1], reverse=True)\n",
    "#words_freq[-20:]"
   ]
  },
  {
   "cell_type": "code",
   "execution_count": 518,
   "metadata": {},
   "outputs": [],
   "source": [
    "#Generate the training data\n",
    "countList = vector.toarray()\n",
    "#Rescale the countlist for better performance\n",
    "countList_scaled = preprocessing.scale(countList)"
   ]
  },
  {
   "cell_type": "code",
   "execution_count": 519,
   "metadata": {},
   "outputs": [
    {
     "data": {
      "text/plain": [
       "LogisticRegression(C=0.1, class_weight=None, dual=False, fit_intercept=True,\n",
       "                   intercept_scaling=1, l1_ratio=None, max_iter=100,\n",
       "                   multi_class='warn', n_jobs=None, penalty='l1',\n",
       "                   random_state=None, solver='liblinear', tol=0.0001, verbose=0,\n",
       "                   warm_start=False)"
      ]
     },
     "execution_count": 519,
     "metadata": {},
     "output_type": "execute_result"
    }
   ],
   "source": [
    "# Logistic regression\n",
    "logisticRegr = LogisticRegression(penalty='l1', C=0.1, solver='liblinear')\n",
    "logisticRegr.fit(countList_scaled, pricelabels)"
   ]
  },
  {
   "cell_type": "code",
   "execution_count": 520,
   "metadata": {},
   "outputs": [],
   "source": [
    "#Get the regression coefficients of each word\n",
    "invertedDict = {value: key for key, value in vectorizer.vocabulary_.items()}\n",
    "wordCoef = [(invertedDict[i],logisticRegr.coef_[0,i]) for i in range(len(logisticRegr.coef_[0,:]))]\n",
    "sortedWordCoef = sorted(wordCoef,key=lambda x:x[1],reverse=True)"
   ]
  },
  {
   "cell_type": "code",
   "execution_count": 526,
   "metadata": {},
   "outputs": [
    {
     "name": "stdout",
     "output_type": "stream",
     "text": [
      "Top 20 words related to cheap cars:\n"
     ]
    },
    {
     "data": {
      "text/plain": [
       "[('below', 0.3510256841574345),\n",
       " ('sale', 0.3441466325423583),\n",
       " ('so', 0.2916148290314003),\n",
       " ('price', 0.2872919727696088),\n",
       " ('registration', 0.2775619625399668),\n",
       " ('located', 0.209668719477975),\n",
       " ('thank', 0.20508760896345796),\n",
       " ('jersey', 0.2003636796904007),\n",
       " ('is', 0.18761595242831441),\n",
       " ('drives', 0.18637081658134114),\n",
       " ('advertised', 0.18311188812898482),\n",
       " ('past', 0.17418630836813995),\n",
       " ('talk', 0.17216429672290673),\n",
       " ('llc', 0.16186575307297976),\n",
       " ('like', 0.1468086751914159),\n",
       " ('spot', 0.14274158724841818),\n",
       " ('reverse', 0.1423566044285284),\n",
       " ('aux', 0.13505365813918163),\n",
       " ('good', 0.1293695530786608),\n",
       " ('trade', 0.1262352410061725)]"
      ]
     },
     "execution_count": 526,
     "metadata": {},
     "output_type": "execute_result"
    }
   ],
   "source": [
    "print(\"Top 20 words related to cheap cars:\")\n",
    "sortedWordCoef[:20]"
   ]
  },
  {
   "cell_type": "markdown",
   "metadata": {},
   "source": [
    "Cheap price indicators such as 'below', 'sale', 'price', 'advertised' might point to a reduced price for the car to sell it quickly. 'jersey' might be car location (New Jersey?). 'drives *good*' 'like *new*' could be terms used most often for cheaper, poorer condition cars. Words that needs to be looked more closely are 'registration', 'located', 'thank', 'past', 'talk', 'llc', 'spot', 'reverse', 'trade'.\n",
    "\n",
    "* \"All advertised are only after $1995 down payment and finance\" !!! \n",
    "* \"past negative credit history\"\n",
    "* \"blind spot detection\"\n",
    "* \"reverse camera\""
   ]
  },
  {
   "cell_type": "code",
   "execution_count": 524,
   "metadata": {},
   "outputs": [
    {
     "name": "stdout",
     "output_type": "stream",
     "text": [
      "Top 20 words related to expensive cars:\n"
     ]
    },
    {
     "data": {
      "text/plain": [
       "[('law', -0.4881923414727516),\n",
       " ('learn', -0.45285694193120163),\n",
       " ('automotive', -0.34633753422735314),\n",
       " ('000', -0.32955290098755824),\n",
       " ('courteous', -0.2766374772612237),\n",
       " ('haggle', -0.27039044103972754),\n",
       " ('carvana', -0.21545728463919306),\n",
       " ('charging', -0.19052390424438595),\n",
       " ('hondacare', -0.18679016802195883),\n",
       " ('car', -0.186696471412142),\n",
       " ('art', -0.16718268056908492),\n",
       " ('nation', -0.1632922779355101),\n",
       " ('hondas', -0.14283972156056315),\n",
       " ('virginia', -0.1427997039892348),\n",
       " ('if', -0.13966908652776358),\n",
       " ('extra', -0.13344624008652628),\n",
       " ('lifetime', -0.13193099884126055),\n",
       " ('ten', -0.12417024290249062),\n",
       " ('hundreds', -0.1087226136445354)]"
      ]
     },
     "execution_count": 524,
     "metadata": {},
     "output_type": "execute_result"
    }
   ],
   "source": [
    "print(\"Top 20 words related to expensive cars:\")\n",
    "sortedWordCoef[:-20:-1]"
   ]
  },
  {
   "cell_type": "markdown",
   "metadata": {},
   "source": [
    "The words like 'hondas', 'hondacare', 'lifetime' might indicate some sort of warranty offered by the car. \n",
    "'virginia' points to Virginia. \n",
    "\n",
    "'extra' probably points to some additional features of the car explaining the higher price. \n",
    "\n",
    "'charging': USB charging and price match.\n",
    "\n",
    "The following three words appears to be used commonly be certain car listers. The higher price is not associated with the features of the car but rather with the listing dealer.\n",
    "\n",
    "* 'law' : \"not required by law\" the context is usually dealer processing fees...\n",
    "* 'learn': \"learn if this vehicle has a ...\" \n",
    "* 'automotive'\n",
    "* 'courteous'\n",
    "* 'haggle': \"no-haggle price\"\n",
    "* 'Carvana'\n",
    "* 'hundreds'\n",
    "* 'art': 'state or the art showroom/facility\" - a clear sign of high price tag based on the dealer brand value!\n",
    "* 'ten': 'ten-car show room'"
   ]
  },
  {
   "cell_type": "code",
   "execution_count": 602,
   "metadata": {},
   "outputs": [
    {
     "name": "stdout",
     "output_type": "stream",
     "text": [
      "Civic Touring, 4D Sedan, CVT, Clean Autocheck, Bluetooth, Hands-Free Cellphone, Navigation, Sunroof / Moonroof, Ipod Adapter, Clean Vehicle History Report!, Diagnostic Alerts, USB charging ports, Streaming Music, Honda Sensing Safety, Lane Keep Assist, Road Departure Mitigation, Blind Spot Camera, Android Auto, Apple CarPlay, Backup Camera, Bluetooth, Hands-Free, Heated Seats, Keyless Entry, Leather Seats. Certified. Modern Steel Metallic 2017 Honda Civic Touring FWD CVT 1.5L I-4 DI DOHC Turbocharged 1-Owner vehicle with only 13k Miles. Fully serviced and Honda Certified for 7 years or 100,000 miles. Market Based Pricing- compare- won't last! Nicely equipped with features such as * Recent Arrival! Odometer is 14942 miles below market average! 32/42 City/Highway MPG HondaTrue Certified Details: * Roadside Assistance for the duration of the Certified Pre-Owned Limited Warranty. Up to two complimentary oil changes within the first year of ownership. SiriusXM 90-Day Trial * Limited Warranty: 12 Month/12,000 Mile (whichever comes first) after new car warranty expires or from certified purchase date * Transferable Warranty * Powertrain Limited Warranty: 84 Month/100,000 Mile (whichever comes first) from original in-service date * Vehicle History * Warranty Deductible: $0 * 182 Point Inspection * Roadside Assistance Awards: * 2017 IIHS Top Safety Pick (When equipped with Honda Sensing) * 2017 KBB.com 10 Most Awarded Brands * 2017 KBB.com Brand Image Awards Kelley Blue Book Brand Image Awards are based on the Brand Watch(tm) study from Kelley Blue Book Market Intelligence. Award calculated among non-luxury shoppers. For more information, visit www.kbb.com. Kelley Blue Book is a registered trademark of Kelley Blue Book Co., Inc. FREE LIFETIME PA STATE INSPECTIONS, LIKE-NEW RECONDITIONING, CERTIFIED EXTENDED WARRANTY! Huge selection of Certified Pre-Owned vehicles. Financing as low as 2.9% on our Pre-Owned Hondas! 100,000 mile powertrain warranty on all certified vehicles.\n",
      "**********************\n",
      "Civic EX, 4D Sedan, Clean Autocheck, Bluetooth, Hands-Free Cellphone, Sunroof / Moonroof, Ipod Adapter, Clean Vehicle History Report!, Diagnostic Alerts, USB charging ports, Streaming Music, Honda Sensing Safety, Blind Spot Camera, Android Auto, Apple CarPlay, Backup Camera, Bluetooth, Hands-Free, Heated Seats, Keyless Entry. Certified. Aegean Blue Metallic 2016 Honda Civic EX FWD CVT 2.0L I4 DOHC 16V i-VTEC 1-Owner vehicle with only 22k Miles. Fully serviced and Honda Certified for 7 years or 100,000 miles. Market Based Pricing- compare- won't last! Nicely equipped with features such as * Recent Arrival! Odometer is 10388 miles below market average! 31/41 City/Highway MPG Honda Details: * Roadside Assistance * Vehicle History * Warranty Deductible: $0 * Limited Warranty: 12 Month/12,000 Mile (whichever comes first) after new car warranty expires or from certified purchase date (for HondaTrue Certified program), 60 Month/86,000 Mile (whichever comes first) beginning at the expiration of new vehicle Limited Warranty, if purchased within new vehicle limited warranty period (for HondaTrue Certified+ program) * Transferable Warranty * 182 Point Inspection * Roadside Assistance for the duration of the Certified Pre-Owned Limited Warranty. Up to two complimentary oil changes within the first year of ownership. SiriusXM 90-Day Trial * Powertrain Limited Warranty: 84 Month/100,000 Mile (whichever comes first) from original in-service date Awards: * 2016 IIHS Top Safety Pick+ (When equipped with honda sensing) * NACTOY 2016 North American Car of the Year * 2016 KBB.com Brand Image Awards 2016 Kelley Blue Book Brand Image Awards are based on the Brand Watch(tm) study from Kelley Blue Book Market Intelligence. Award calculated among non-luxury shoppers. For more information, visit www.kbb.com. Kelley Blue Book is a registered trademark of Kelley Blue Book Co., Inc. FREE LIFETIME PA STATE INSPECTIONS, LIKE-NEW RECONDITIONING, CERTIFIED EXTENDED WARRAN Huge selection of Certified Pre-Owned vehicles. Financing as low as 2.9% on our Pre-Owned Hondas! 100,000 mile powertrain warranty on all certified vehicles.\n",
      "**********************\n",
      "Civic LX, 4D Sedan, CVT, Clean Autocheck, Bluetooth, Hands-Free Cellphone, Ipod Adapter, Clean Vehicle History Report!, Diagnostic Alerts, USB charging ports, Backup Camera, Bluetooth, Hands-Free. Certified. Modern Steel Metallic 2017 Honda Civic LX FWD CVT 2.0L I4 DOHC 16V i-VTEC 1-Owner vehicle with only 39k Miles. Fully serviced and Honda Certified for 7 years or 100,000 miles. Market Based Pricing- compare- won't last! Nicely equipped with features such as * Recent Arrival! 31/40 City/Highway MPG HondaTrue Certified Details: * Vehicle History * Warranty Deductible: $0 * Roadside Assistance * Limited Warranty: 12 Month/12,000 Mile (whichever comes first) after new car warranty expires or from certified purchase date * 182 Point Inspection * Roadside Assistance for the duration of the Certified Pre-Owned Limited Warranty. Up to two complimentary oil changes within the first year of ownership. SiriusXM 90-Day Trial * Powertrain Limited Warranty: 84 Month/100,000 Mile (whichever comes first) from original in-service date * Transferable Warranty Awards: * 2017 IIHS Top Safety Pick (When equipped with Honda Sensing) * 2017 KBB.com Brand Image Awards * 2017 KBB.com 10 Most Awarded Brands 2016 Kelley Blue Book Brand Image Awards are based on the Brand Watch(tm) study from Kelley Blue Book Market Intelligence. Award calculated among non-luxury shoppers. For more information, visit www.kbb.com. Kelley Blue Book is a registered trademark of Kelley Blue Book Co., Inc. FREE LIFETIME PA STATE INSPECTIONS, LIKE-NEW RECONDITIONING, CERTIFIED EXTENDED WARRANTY! Huge selection of Certified Pre-Owned vehicles. Financing as low as 2.9% on our Pre-Owned Hondas! 100,000 mile powertrain warranty on all certified vehicles.\n",
      "**********************\n",
      "Civic LX, 4D Sedan, CVT, Clean Autocheck, Bluetooth, Hands-Free Cellphone, Ipod Adapter, Clean Vehicle History Report!, Diagnostic Alerts, USB charging ports, Streaming Music, Backup Camera, Bluetooth, Hands-Free. Certified. Lunar Silver Metallic 2016 Honda Civic LX FWD CVT 2.0L I4 DOHC 16V i-VTEC 1-Owner vehicle with only 34k Miles. Fully serviced and Honda Certified for 7 years or 100,000 miles. Market Based Pricing- compare- won't last! Nicely equipped with features such as * Recent Arrival! 31/41 City/Highway MPG HondaTrue Certified Details: * Powertrain Limited Warranty: 84 Month/100,000 Mile (whichever comes first) from original in-service date * Warranty Deductible: $0 * Roadside Assistance * Limited Warranty: 12 Month/12,000 Mile (whichever comes first) after new car warranty expires or from certified purchase date * Vehicle History * Transferable Warranty * Roadside Assistance for the duration of the Certified Pre-Owned Limited Warranty. Up to two complimentary oil changes within the first year of ownership. SiriusXM 90-Day Trial * 182 Point Inspection Awards: * 2016 IIHS Top Safety Pick+ (When equipped with honda sensing) * NACTOY 2016 North American Car of the Year * 2016 KBB.com Brand Image Awards 2016 Kelley Blue Book Brand Image Awards are based on the Brand Watch(tm) study from Kelley Blue Book Market Intelligence. Award calculated among non-luxury shoppers. For more information, visit www.kbb.com. Kelley Blue Book is a registered trademark of Kelley Blue Book Co., Inc. FREE LIFETIME PA STATE INSPECTIONS, LIKE-NEW RECONDITIONING, CERTIFIED EXTENDED WARRANTY! Huge selection of Certified Pre-Owned vehicles. Financing as low as 2.9% on our Pre-Owned Hondas! 100,000 mile powertrain warranty on all certified vehicles.\n",
      "**********************\n",
      "Civic EX, 4D Sedan, CVT, Clean Autocheck, Bluetooth, Hands-Free Cellphone, Sunroof / Moonroof, Ipod Adapter, Clean Vehicle History Report!, Diagnostic Alerts, USB charging ports, Streaming Music, Blind Spot Camera, Android Auto, Apple CarPlay, Backup Camera, Bluetooth, Hands-Free, Heated Seats, Keyless Entry. Certified. Rallye Red 2017 Honda Civic EX FWD CVT 2.0L I4 DOHC 16V i-VTEC 1-Owner vehicle with only 40k Miles. Fully serviced and Honda Certified for 7 years or 100,000 miles. Market Based Pricing- compare- won't last! Nicely equipped with features such as * Recent Arrival! 31/40 City/Highway MPG HondaTrue Certified Details: * Roadside Assistance for the duration of the Certified Pre-Owned Limited Warranty. Up to two complimentary oil changes within the first year of ownership. SiriusXM 90-Day Trial * Warranty Deductible: $0 * Vehicle History * Limited Warranty: 12 Month/12,000 Mile (whichever comes first) after new car warranty expires or from certified purchase date * 182 Point Inspection * Transferable Warranty * Powertrain Limited Warranty: 84 Month/100,000 Mile (whichever comes first) from original in-service date * Roadside Assistance Awards: * 2017 IIHS Top Safety Pick (When equipped with Honda Sensing) * 2017 KBB.com Brand Image Awards * 2017 KBB.com 10 Most Awarded Brands Kelley Blue Book Brand Image Awards are based on the Brand Watch(tm) study from Kelley Blue Book Market Intelligence. Award calculated among non-luxury shoppers. For more information, visit www.kbb.com. Kelley Blue Book is a registered trademark of Kelley Blue Book Co., Inc. FREE LIFETIME PA STATE INSPECTIONS, LIKE-NEW RECONDITIONING, CERTIFIED EXTENDED WARRANTY! Huge selection of Certified Pre-Owned vehicles. Financing as low as 2.9% on our Pre-Owned Hondas! 100,000 mile powertrain warranty on all certified vehicles.\n",
      "**********************\n",
      "Say you see a great deal in another new car dealer's ad - same car we sell.   Bring it in; we'll beat it. Pretty simple, huh?   Same goes if you have a written offer or work sheet.   You see, it doesn't matter what they're charging at any other dealer, we're going to beat it. And you can't beat that!\n",
      "**********************\n",
      "Say you see a great deal in another new car dealer's ad - same car we sell.   Bring it in; we'll beat it. Pretty simple, huh?   Same goes if you have a written offer or work sheet.   You see, it doesn't matter what they're charging at any other dealer, we're going to beat it. And you can't beat that!\n",
      "**********************\n",
      "Say you see a great deal in another new car dealer's ad - same car we sell.   Bring it in; we'll beat it. Pretty simple, huh?   Same goes if you have a written offer or work sheet.   You see, it doesn't matter what they're charging at any other dealer, we're going to beat it. And you can't beat that!\n",
      "**********************\n",
      "Say you see a great deal in another new car dealer's ad - same car we sell.   Bring it in; we'll beat it. Pretty simple, huh?   Same goes if you have a written offer or work sheet.   You see, it doesn't matter what they're charging at any other dealer, we're going to beat it. And you can't beat that!\n",
      "**********************\n",
      "Say you see a great deal in another new car dealer's ad - same car we sell.   Bring it in; we'll beat it. Pretty simple, huh?   Same goes if you have a written offer or work sheet.   You see, it doesn't matter what they're charging at any other dealer, we're going to beat it. And you can't beat that!\n",
      "**********************\n",
      "Say you see a great deal in another new car dealer's ad - same car we sell.   Bring it in; we'll beat it. Pretty simple, huh?   Same goes if you have a written offer or work sheet.   You see, it doesn't matter what they're charging at any other dealer, we're going to beat it. And you can't beat that!\n",
      "**********************\n",
      "Say you see a great deal in another new car dealer's ad - same car we sell.   Bring it in; we'll beat it. Pretty simple, huh?   Same goes if you have a written offer or work sheet.   You see, it doesn't matter what they're charging at any other dealer, we're going to beat it. And you can't beat that!\n",
      "**********************\n",
      "Say you see a great deal in another new car dealer's ad - same car we sell.   Bring it in; we'll beat it. Pretty simple, huh?   Same goes if you have a written offer or work sheet.   You see, it doesn't matter what they're charging at any other dealer, we're going to beat it. And you can't beat that!\n",
      "**********************\n",
      "Say you see a great deal in another new car dealer's ad - same car we sell.   Bring it in; we'll beat it. Pretty simple, huh?   Same goes if you have a written offer or work sheet.   You see, it doesn't matter what they're charging at any other dealer, we're going to beat it. And you can't beat that!\n",
      "**********************\n",
      "Say you see a great deal in another new car dealer's ad - same car we sell.   Bring it in; we'll beat it. Pretty simple, huh?   Same goes if you have a written offer or work sheet.   You see, it doesn't matter what they're charging at any other dealer, we're going to beat it. And you can't beat that!\n",
      "**********************\n"
     ]
    }
   ],
   "source": [
    "index=civic_price_d['description'].str.contains('charging',case=False)\n",
    "for desc in civic_price_d[index & (civic_price_d['myBadge']==0)]['description']:\n",
    "    print(desc)\n",
    "    print(\"**********************\")"
   ]
  },
  {
   "cell_type": "markdown",
   "metadata": {},
   "source": [
    "Clearly many descriptions does not contain car specific information but rather a description of the dealer itself and the fine print regarding car sales. This is not very helpful in identifying car specific features that affect its price. However, the analysis also indicates that the variation in pricing is also strongly connected with the pricing policies of individual dealers. Some put a higher price tag on their stock than others.\n",
    "\n",
    "Another important aspect that came out of this analysis is many car prices does not reflect the full cost of that item. In particular, there is a wide range of dealer processing fees (~100 to 1000 dollars) that is not included in the price. In judging whether a car is cheap or not, similar additional fees must be takin into account. There are also cases whith a down-payment clause. This might be a mistake in connection with leased cars. But should be looked into. \n",
    "\n",
    "It might be the case that some dealers are using a \"bait and switch\" strategy by advertising cars at a below market value when in fact the car is no longer the part of their inventory or by misrepresenting the features of the car. This must too be investigated more carefully.\n",
    "\n",
    "Finally, we should identify other car specific features presented in the listings that affect the price (sunroof, moonroof, etc.)."
   ]
  },
  {
   "cell_type": "markdown",
   "metadata": {},
   "source": [
    "---"
   ]
  },
  {
   "cell_type": "markdown",
   "metadata": {},
   "source": [
    "Below is an another exercise for the Turkish website Sahibinden.com. In this case \"requests\" package failed to download information from the website so I used selenium for web scraping:"
   ]
  },
  {
   "cell_type": "code",
   "execution_count": 2,
   "metadata": {},
   "outputs": [],
   "source": [
    "chromepath='C:\\\\chromedriver\\\\chromedriver.exe'\n",
    "driver=webdriver.Chrome(chromepath)\n",
    "#driver=webdriver.Firefox(executable_path=r'C:\\chromedriver\\geckodriver.exe')"
   ]
  },
  {
   "cell_type": "code",
   "execution_count": 7,
   "metadata": {},
   "outputs": [],
   "source": [
    "#Close driver.\n",
    "driver.close()"
   ]
  },
  {
   "cell_type": "markdown",
   "metadata": {},
   "source": [
    "The following function will scrape data from the \"Sahibinden.com\" website and store values in a pandas data object."
   ]
  },
  {
   "cell_type": "code",
   "execution_count": 4,
   "metadata": {},
   "outputs": [],
   "source": [
    "#This function scrapes data from sahibinden.com while keeping track of car transmission and seller type info.\n",
    "def getdata2(carmodel,pages=1):\n",
    "    #Root of the website\n",
    "    site = 'https://www.sahibinden.com'\n",
    "    #A dictionary of months for translation into english.\n",
    "    months = {'Ocak'  : 'January',  'Şubat'   : 'February', 'Mart'   : 'March',  'Nisan'    : 'April',\n",
    "              'Mayıs' : 'May',      'Haziran' : 'June',     'Temmuz' : 'July',    'Ağustos' : 'August',\n",
    "              'Eylül' : 'September', 'Ekim'   : 'October',  'Kasım' : 'November', 'Aralık'  : 'December'}\n",
    "    #Column names in the data \n",
    "    cols = ['id', 'model', 'title','link', 'modelyear', 'mileage', \n",
    "            'color', 'price', 'day', 'month', 'year', 'province', 'district','transmission','seller']\n",
    "    rowsperpage = 50\n",
    "    transmissions = ['manuel','yari-otomatik','otomatik'] #trasmission type (manual, semi-automatic, or automatic)\n",
    "    sellers = ['sahibinden', 'galeriden'] #who is the seller (owner or dealer)\n",
    "    \n",
    "    data = pd.DataFrame(columns=cols)\n",
    "    nposts = 1\n",
    "    for transmission in transmissions:\n",
    "        for seller in sellers:\n",
    "            for i in range(pages):\n",
    "                URL = site + carmodel + '/' + transmission + '/' + seller +'?pagingOffset={}&pagingSize={}'.format(i*rowsperpage,rowsperpage)\n",
    "                driver.get(URL)\n",
    "                content = driver.page_source\n",
    "                soup = BeautifulSoup(content)\n",
    "                if i==0:\n",
    "                    nposts = soup.find('div',class_=\"result-text\").find('span',title=None).text.split()[0]\n",
    "                    if '.' in nposts:\n",
    "                        nposts=int(float(nposts)*1E3)\n",
    "                    else:\n",
    "                        nposts=int(nposts)\n",
    "                nposts=nposts-rowsperpage\n",
    "                results = soup.find('tbody',class_=\"searchResultsRowClass\")\n",
    "                results2 = results.find_all('tr')\n",
    "                for result in results2:\n",
    "                    row = {}\n",
    "                    if result.find('td',class_ = \"searchResultsTagAttributeValue\") == None:\n",
    "                        continue\n",
    "                    row['id'] = result['data-id']\n",
    "                    row['model'] = \" \".join(result.find('td',class_=\"searchResultsTagAttributeValue\").text.strip().split()[3:])\n",
    "                    if row['model'] == '':\n",
    "                        row['model'] = 'none'\n",
    "                    row['title'] = result.find('a',class_=\"classifiedTitle\").text.strip()\n",
    "                    row['link'] = site+result.find('a',class_=\"classifiedTitle\")['href']\n",
    "                    [row['modelyear'], row['mileage'], row['color']] = [val.text.strip() for val in result.find_all('td', class_=\"searchResultsAttributeValue\")]\n",
    "                    if '.' in row['mileage']:\n",
    "                        row['mileage'] = int(float(row['mileage'])*1E3)\n",
    "                    else:\n",
    "                        row['mileage'] = int(row['mileage'])\n",
    "                    row['price'] = result.find('td', class_=\"searchResultsPriceValue\").text.strip()\n",
    "                    row['price'] = int(float(row['price'].split()[0])*1E3)\n",
    "                    [row['day'], row['year']] = [val.text.strip() for val in result.find('td', class_=\"searchResultsDateValue\").find_all('span')]\n",
    "                    [row['day'],row['month']] = row['day'].split()\n",
    "                    row['month'] = months[row['month']]\n",
    "                    [row['province'], row['district']] = result.find('td', class_=\"searchResultsLocationValue\").get_text(separator=\" \").split()\n",
    "                    row['transmission'] = transmission\n",
    "                    row['seller'] = seller\n",
    "                    data = data.append(row,ignore_index=True)\n",
    "                print(nposts)\n",
    "                if nposts<0:\n",
    "                    break\n",
    "    col_types = {'id':int,'modelyear':int, 'mileage':int, 'price':int, 'day':int, 'year':int}\n",
    "    data = data.astype(col_types)\n",
    "    return data"
   ]
  },
  {
   "cell_type": "code",
   "execution_count": 4,
   "metadata": {},
   "outputs": [],
   "source": [
    "def getdescription(link):\n",
    "    driver.get(link)\n",
    "    content = driver.page_source\n",
    "    soup = BeautifulSoup(content)\n",
    "    result = soup.find('div',class_=\"uiBoxContainer\")\n",
    "    description=''\n",
    "    for string in result.strings:\n",
    "        description=description+\" \"+string.strip()\n",
    "    description=description.replace(',',' ').replace('.',' ').strip()\n",
    "    print(description)"
   ]
  },
  {
   "cell_type": "code",
   "execution_count": 198,
   "metadata": {
    "scrolled": true
   },
   "outputs": [],
   "source": [
    "#This code is written to extract data from sahibinden com.\n",
    "def getdata(carmodel,pages=1):\n",
    "    #Root of the website\n",
    "    site = 'https://www.sahibinden.com'\n",
    "    #A dictionary of months for translation into english.\n",
    "    months = {'Ocak'  : 'January',  'Şubat'   : 'February', 'Mart'   : 'March',  'Nisan'    : 'April',\n",
    "              'Mayıs' : 'May',      'Haziran' : 'June',     'Temmuz' : 'July',    'Ağustos' : 'August',\n",
    "              'Eylül' : 'September', 'Ekim'   : 'October',  'Kasım' : 'November', 'Aralık'  : 'December'}\n",
    "    #Column names in the data \n",
    "    cols = ['id', 'model', 'title','link', 'modelyear', 'mileage', \n",
    "            'color', 'price', 'day', 'month', 'year', 'province', 'district','transmission','seller']\n",
    "    rowsperpage = 50\n",
    "    transmission = ['manuel','yari-otomatik','otomatik'] #trasmission type (manual, semi-automatic, or automatic)\n",
    "    seller = ['sahibinden', 'galeriden'] #who is the seller (owner or dealer)\n",
    "    \n",
    "    data = pd.DataFrame(columns=cols)\n",
    "    for i in range(pages):\n",
    "        URL = site + carmodel + '?pagingOffset={}&pagingSize={}'.format(i*rowsperpage,rowsperpage)\n",
    "        driver.get(URL)\n",
    "        content = driver.page_source\n",
    "        soup = BeautifulSoup(content)\n",
    "        results = soup.find('tbody',class_=\"searchResultsRowClass\")\n",
    "        results2 = results.find_all('tr')\n",
    "        for result in results2:\n",
    "            row = {}\n",
    "            if result.find('td',class_ = \"searchResultsTagAttributeValue\") == None:\n",
    "                continue\n",
    "            row['id'] = result['data-id']\n",
    "            row['model'] = \" \".join(result.find('td',class_=\"searchResultsTagAttributeValue\").text.strip().split()[3:])\n",
    "            if row['model'] == '':\n",
    "                row['model'] = 'none'\n",
    "            row['title'] = result.find('a',class_=\"classifiedTitle\").text.strip()\n",
    "            row['link'] = site+result.find('a',class_=\"classifiedTitle\")['href']\n",
    "            [row['modelyear'], row['mileage'], row['color']] = [val.text.strip() for val in result.find_all('td', class_=\"searchResultsAttributeValue\")]\n",
    "            if '.' in row['mileage']:\n",
    "                row['mileage'] = int(float(row['mileage'])*1E3)\n",
    "            else:\n",
    "                row['mileage'] = int(row['mileage'])\n",
    "            row['price'] = result.find('td', class_=\"searchResultsPriceValue\").text.strip()\n",
    "            row['price'] = int(float(row['price'].split()[0])*1E3)\n",
    "            [row['day'], row['year']] = [val.text.strip() for val in result.find('td', class_=\"searchResultsDateValue\").find_all('span')]\n",
    "            [row['day'],row['month']] = row['day'].split()\n",
    "            row['month'] = months[row['month']]\n",
    "            [row['province'], row['district']] = result.find('td', class_=\"searchResultsLocationValue\").get_text(separator=\" \").split()\n",
    "            data = data.append(row,ignore_index=True)\n",
    "    col_types = {'id':int,'modelyear':int, 'mileage':int, 'price':int, 'day':int, 'year':int}\n",
    "    data = data.astype(col_types)\n",
    "    return data"
   ]
  },
  {
   "cell_type": "markdown",
   "metadata": {},
   "source": [
    "Scrape data and take a look at the first few rows of the data:"
   ]
  },
  {
   "cell_type": "code",
   "execution_count": 131,
   "metadata": {
    "scrolled": false
   },
   "outputs": [
    {
     "data": {
      "text/html": [
       "<div>\n",
       "<style scoped>\n",
       "    .dataframe tbody tr th:only-of-type {\n",
       "        vertical-align: middle;\n",
       "    }\n",
       "\n",
       "    .dataframe tbody tr th {\n",
       "        vertical-align: top;\n",
       "    }\n",
       "\n",
       "    .dataframe thead th {\n",
       "        text-align: right;\n",
       "    }\n",
       "</style>\n",
       "<table border=\"1\" class=\"dataframe\">\n",
       "  <thead>\n",
       "    <tr style=\"text-align: right;\">\n",
       "      <th></th>\n",
       "      <th>id</th>\n",
       "      <th>model</th>\n",
       "      <th>title</th>\n",
       "      <th>link</th>\n",
       "      <th>modelyear</th>\n",
       "      <th>mileage</th>\n",
       "      <th>color</th>\n",
       "      <th>price</th>\n",
       "      <th>day</th>\n",
       "      <th>month</th>\n",
       "      <th>year</th>\n",
       "      <th>province</th>\n",
       "      <th>district</th>\n",
       "    </tr>\n",
       "  </thead>\n",
       "  <tbody>\n",
       "    <tr>\n",
       "      <th>0</th>\n",
       "      <td>789669728</td>\n",
       "      <td>Highline</td>\n",
       "      <td>AYDIN VİNÇ'TEN 2016 MODEL 1.6 TDI DSG HINGLİNE...</td>\n",
       "      <td>https://www.sahibinden.com/ilan/vasita-otomobi...</td>\n",
       "      <td>2016</td>\n",
       "      <td>82656</td>\n",
       "      <td>Gri</td>\n",
       "      <td>194750</td>\n",
       "      <td>23</td>\n",
       "      <td>February</td>\n",
       "      <td>2020</td>\n",
       "      <td>İstanbul</td>\n",
       "      <td>Üsküdar</td>\n",
       "    </tr>\n",
       "    <tr>\n",
       "      <th>1</th>\n",
       "      <td>793574908</td>\n",
       "      <td>Highline</td>\n",
       "      <td>WOLFSBURG EDİTİON TAM DOLU HAYALET CAM TAVAN E...</td>\n",
       "      <td>https://www.sahibinden.com/ilan/vasita-otomobi...</td>\n",
       "      <td>2015</td>\n",
       "      <td>108000</td>\n",
       "      <td>Gri</td>\n",
       "      <td>228750</td>\n",
       "      <td>23</td>\n",
       "      <td>February</td>\n",
       "      <td>2020</td>\n",
       "      <td>İstanbul</td>\n",
       "      <td>Güngören</td>\n",
       "    </tr>\n",
       "    <tr>\n",
       "      <th>2</th>\n",
       "      <td>793904185</td>\n",
       "      <td>Comfortline</td>\n",
       "      <td>acilll 2017 ÇIKIŞLI 1.6 TDI BLUEMOTİON COMFORT...</td>\n",
       "      <td>https://www.sahibinden.com/ilan/vasita-otomobi...</td>\n",
       "      <td>2016</td>\n",
       "      <td>127000</td>\n",
       "      <td>Beyaz</td>\n",
       "      <td>159500</td>\n",
       "      <td>23</td>\n",
       "      <td>February</td>\n",
       "      <td>2020</td>\n",
       "      <td>İstanbul</td>\n",
       "      <td>Kartal</td>\n",
       "    </tr>\n",
       "    <tr>\n",
       "      <th>3</th>\n",
       "      <td>792656711</td>\n",
       "      <td>Comfortline</td>\n",
       "      <td>2013*OTOMATİK DSG F1*ORJINAL*FULL BAKIMLI*EMSA...</td>\n",
       "      <td>https://www.sahibinden.com/ilan/vasita-otomobi...</td>\n",
       "      <td>2013</td>\n",
       "      <td>130000</td>\n",
       "      <td>Beyaz</td>\n",
       "      <td>135750</td>\n",
       "      <td>23</td>\n",
       "      <td>February</td>\n",
       "      <td>2020</td>\n",
       "      <td>Osmaniye</td>\n",
       "      <td>Merkez</td>\n",
       "    </tr>\n",
       "    <tr>\n",
       "      <th>4</th>\n",
       "      <td>793773998</td>\n",
       "      <td>Highline</td>\n",
       "      <td>BLUE OTOMOTİV-2018 VOLKSWAGEN PASSAT 1.6 DİZEL...</td>\n",
       "      <td>https://www.sahibinden.com/ilan/vasita-otomobi...</td>\n",
       "      <td>2018</td>\n",
       "      <td>200</td>\n",
       "      <td>Mavi</td>\n",
       "      <td>329900</td>\n",
       "      <td>23</td>\n",
       "      <td>February</td>\n",
       "      <td>2020</td>\n",
       "      <td>İstanbul</td>\n",
       "      <td>Eyüpsultan</td>\n",
       "    </tr>\n",
       "  </tbody>\n",
       "</table>\n",
       "</div>"
      ],
      "text/plain": [
       "          id        model                                              title  \\\n",
       "0  789669728     Highline  AYDIN VİNÇ'TEN 2016 MODEL 1.6 TDI DSG HINGLİNE...   \n",
       "1  793574908     Highline  WOLFSBURG EDİTİON TAM DOLU HAYALET CAM TAVAN E...   \n",
       "2  793904185  Comfortline  acilll 2017 ÇIKIŞLI 1.6 TDI BLUEMOTİON COMFORT...   \n",
       "3  792656711  Comfortline  2013*OTOMATİK DSG F1*ORJINAL*FULL BAKIMLI*EMSA...   \n",
       "4  793773998     Highline  BLUE OTOMOTİV-2018 VOLKSWAGEN PASSAT 1.6 DİZEL...   \n",
       "\n",
       "                                                link  modelyear  mileage  \\\n",
       "0  https://www.sahibinden.com/ilan/vasita-otomobi...       2016    82656   \n",
       "1  https://www.sahibinden.com/ilan/vasita-otomobi...       2015   108000   \n",
       "2  https://www.sahibinden.com/ilan/vasita-otomobi...       2016   127000   \n",
       "3  https://www.sahibinden.com/ilan/vasita-otomobi...       2013   130000   \n",
       "4  https://www.sahibinden.com/ilan/vasita-otomobi...       2018      200   \n",
       "\n",
       "   color   price  day     month  year  province    district  \n",
       "0    Gri  194750   23  February  2020  İstanbul     Üsküdar  \n",
       "1    Gri  228750   23  February  2020  İstanbul    Güngören  \n",
       "2  Beyaz  159500   23  February  2020  İstanbul      Kartal  \n",
       "3  Beyaz  135750   23  February  2020  Osmaniye      Merkez  \n",
       "4   Mavi  329900   23  February  2020  İstanbul  Eyüpsultan  "
      ]
     },
     "execution_count": 131,
     "metadata": {},
     "output_type": "execute_result"
    }
   ],
   "source": [
    "carmodel = '/volkswagen-passat-1.6-tdi-bluemotion'\n",
    "data = getdata(carmodel,40)\n",
    "data.head()"
   ]
  },
  {
   "cell_type": "markdown",
   "metadata": {},
   "source": [
    "Save data into a csv file for future reference."
   ]
  },
  {
   "cell_type": "code",
   "execution_count": 114,
   "metadata": {},
   "outputs": [],
   "source": [
    "#data.to_csv('cardata.csv')"
   ]
  },
  {
   "cell_type": "code",
   "execution_count": 133,
   "metadata": {},
   "outputs": [
    {
     "data": {
      "text/html": [
       "<div>\n",
       "<style scoped>\n",
       "    .dataframe tbody tr th:only-of-type {\n",
       "        vertical-align: middle;\n",
       "    }\n",
       "\n",
       "    .dataframe tbody tr th {\n",
       "        vertical-align: top;\n",
       "    }\n",
       "\n",
       "    .dataframe thead th {\n",
       "        text-align: right;\n",
       "    }\n",
       "</style>\n",
       "<table border=\"1\" class=\"dataframe\">\n",
       "  <thead>\n",
       "    <tr style=\"text-align: right;\">\n",
       "      <th></th>\n",
       "      <th>id</th>\n",
       "      <th>modelyear</th>\n",
       "      <th>mileage</th>\n",
       "      <th>price</th>\n",
       "      <th>day</th>\n",
       "      <th>year</th>\n",
       "    </tr>\n",
       "  </thead>\n",
       "  <tbody>\n",
       "    <tr>\n",
       "      <th>count</th>\n",
       "      <td>1.187000e+03</td>\n",
       "      <td>1187.000000</td>\n",
       "      <td>1187.000000</td>\n",
       "      <td>1187.000000</td>\n",
       "      <td>1187.000000</td>\n",
       "      <td>1187.0</td>\n",
       "    </tr>\n",
       "    <tr>\n",
       "      <th>mean</th>\n",
       "      <td>7.913045e+08</td>\n",
       "      <td>2014.604044</td>\n",
       "      <td>118111.682393</td>\n",
       "      <td>168279.078349</td>\n",
       "      <td>21.192081</td>\n",
       "      <td>2020.0</td>\n",
       "    </tr>\n",
       "    <tr>\n",
       "      <th>std</th>\n",
       "      <td>1.378849e+07</td>\n",
       "      <td>1.598877</td>\n",
       "      <td>54846.495497</td>\n",
       "      <td>32965.857320</td>\n",
       "      <td>2.088313</td>\n",
       "      <td>0.0</td>\n",
       "    </tr>\n",
       "    <tr>\n",
       "      <th>min</th>\n",
       "      <td>5.011544e+08</td>\n",
       "      <td>2010.000000</td>\n",
       "      <td>109.000000</td>\n",
       "      <td>75000.000000</td>\n",
       "      <td>2.000000</td>\n",
       "      <td>2020.0</td>\n",
       "    </tr>\n",
       "    <tr>\n",
       "      <th>25%</th>\n",
       "      <td>7.929736e+08</td>\n",
       "      <td>2013.000000</td>\n",
       "      <td>83000.000000</td>\n",
       "      <td>141750.000000</td>\n",
       "      <td>20.000000</td>\n",
       "      <td>2020.0</td>\n",
       "    </tr>\n",
       "    <tr>\n",
       "      <th>50%</th>\n",
       "      <td>7.933087e+08</td>\n",
       "      <td>2015.000000</td>\n",
       "      <td>115000.000000</td>\n",
       "      <td>173000.000000</td>\n",
       "      <td>22.000000</td>\n",
       "      <td>2020.0</td>\n",
       "    </tr>\n",
       "    <tr>\n",
       "      <th>75%</th>\n",
       "      <td>7.936426e+08</td>\n",
       "      <td>2016.000000</td>\n",
       "      <td>156500.000000</td>\n",
       "      <td>185125.000000</td>\n",
       "      <td>22.000000</td>\n",
       "      <td>2020.0</td>\n",
       "    </tr>\n",
       "    <tr>\n",
       "      <th>max</th>\n",
       "      <td>7.940439e+08</td>\n",
       "      <td>2019.000000</td>\n",
       "      <td>293000.000000</td>\n",
       "      <td>278000.000000</td>\n",
       "      <td>30.000000</td>\n",
       "      <td>2020.0</td>\n",
       "    </tr>\n",
       "  </tbody>\n",
       "</table>\n",
       "</div>"
      ],
      "text/plain": [
       "                 id    modelyear        mileage          price          day  \\\n",
       "count  1.187000e+03  1187.000000    1187.000000    1187.000000  1187.000000   \n",
       "mean   7.913045e+08  2014.604044  118111.682393  168279.078349    21.192081   \n",
       "std    1.378849e+07     1.598877   54846.495497   32965.857320     2.088313   \n",
       "min    5.011544e+08  2010.000000     109.000000   75000.000000     2.000000   \n",
       "25%    7.929736e+08  2013.000000   83000.000000  141750.000000    20.000000   \n",
       "50%    7.933087e+08  2015.000000  115000.000000  173000.000000    22.000000   \n",
       "75%    7.936426e+08  2016.000000  156500.000000  185125.000000    22.000000   \n",
       "max    7.940439e+08  2019.000000  293000.000000  278000.000000    30.000000   \n",
       "\n",
       "         year  \n",
       "count  1187.0  \n",
       "mean   2020.0  \n",
       "std       0.0  \n",
       "min    2020.0  \n",
       "25%    2020.0  \n",
       "50%    2020.0  \n",
       "75%    2020.0  \n",
       "max    2020.0  "
      ]
     },
     "execution_count": 133,
     "metadata": {},
     "output_type": "execute_result"
    }
   ],
   "source": [
    "#Pick only the 'Comfortline' option for analysis and checkout summary statistics.\n",
    "cdata = data[data['model']=='Comfortline'].copy()\n",
    "cdata.describe()"
   ]
  },
  {
   "cell_type": "code",
   "execution_count": 134,
   "metadata": {},
   "outputs": [
    {
     "data": {
      "text/html": [
       "<div>\n",
       "<style scoped>\n",
       "    .dataframe tbody tr th:only-of-type {\n",
       "        vertical-align: middle;\n",
       "    }\n",
       "\n",
       "    .dataframe tbody tr th {\n",
       "        vertical-align: top;\n",
       "    }\n",
       "\n",
       "    .dataframe thead th {\n",
       "        text-align: right;\n",
       "    }\n",
       "</style>\n",
       "<table border=\"1\" class=\"dataframe\">\n",
       "  <thead>\n",
       "    <tr style=\"text-align: right;\">\n",
       "      <th></th>\n",
       "      <th>count</th>\n",
       "      <th>mean</th>\n",
       "      <th>std</th>\n",
       "      <th>min</th>\n",
       "      <th>25%</th>\n",
       "      <th>50%</th>\n",
       "      <th>75%</th>\n",
       "      <th>max</th>\n",
       "    </tr>\n",
       "    <tr>\n",
       "      <th>color</th>\n",
       "      <th></th>\n",
       "      <th></th>\n",
       "      <th></th>\n",
       "      <th></th>\n",
       "      <th></th>\n",
       "      <th></th>\n",
       "      <th></th>\n",
       "      <th></th>\n",
       "    </tr>\n",
       "  </thead>\n",
       "  <tbody>\n",
       "    <tr>\n",
       "      <th>Bej</th>\n",
       "      <td>6.0</td>\n",
       "      <td>172166.666667</td>\n",
       "      <td>24326.254678</td>\n",
       "      <td>128500.0</td>\n",
       "      <td>166875.0</td>\n",
       "      <td>178000.0</td>\n",
       "      <td>184250.0</td>\n",
       "      <td>199000.0</td>\n",
       "    </tr>\n",
       "    <tr>\n",
       "      <th>Beyaz</th>\n",
       "      <td>551.0</td>\n",
       "      <td>169889.925590</td>\n",
       "      <td>32690.487673</td>\n",
       "      <td>92900.0</td>\n",
       "      <td>144125.0</td>\n",
       "      <td>173000.0</td>\n",
       "      <td>190750.0</td>\n",
       "      <td>264900.0</td>\n",
       "    </tr>\n",
       "    <tr>\n",
       "      <th>Füme</th>\n",
       "      <td>38.0</td>\n",
       "      <td>198626.315789</td>\n",
       "      <td>42314.775607</td>\n",
       "      <td>95000.0</td>\n",
       "      <td>166875.0</td>\n",
       "      <td>232000.0</td>\n",
       "      <td>232000.0</td>\n",
       "      <td>232000.0</td>\n",
       "    </tr>\n",
       "    <tr>\n",
       "      <th>Gri</th>\n",
       "      <td>192.0</td>\n",
       "      <td>177528.333333</td>\n",
       "      <td>24864.008500</td>\n",
       "      <td>75000.0</td>\n",
       "      <td>165000.0</td>\n",
       "      <td>178500.0</td>\n",
       "      <td>183500.0</td>\n",
       "      <td>262000.0</td>\n",
       "    </tr>\n",
       "    <tr>\n",
       "      <th>Gümüş Gri</th>\n",
       "      <td>106.0</td>\n",
       "      <td>167636.216981</td>\n",
       "      <td>36404.878109</td>\n",
       "      <td>114750.0</td>\n",
       "      <td>126187.5</td>\n",
       "      <td>180000.0</td>\n",
       "      <td>197750.0</td>\n",
       "      <td>278000.0</td>\n",
       "    </tr>\n",
       "    <tr>\n",
       "      <th>Kahverengi</th>\n",
       "      <td>8.0</td>\n",
       "      <td>171237.500000</td>\n",
       "      <td>27669.048592</td>\n",
       "      <td>116000.0</td>\n",
       "      <td>160925.0</td>\n",
       "      <td>176875.0</td>\n",
       "      <td>184062.5</td>\n",
       "      <td>205000.0</td>\n",
       "    </tr>\n",
       "    <tr>\n",
       "      <th>Lacivert</th>\n",
       "      <td>9.0</td>\n",
       "      <td>184994.444444</td>\n",
       "      <td>40758.438117</td>\n",
       "      <td>117500.0</td>\n",
       "      <td>173500.0</td>\n",
       "      <td>176500.0</td>\n",
       "      <td>204950.0</td>\n",
       "      <td>245000.0</td>\n",
       "    </tr>\n",
       "    <tr>\n",
       "      <th>Mavi</th>\n",
       "      <td>13.0</td>\n",
       "      <td>184346.153846</td>\n",
       "      <td>36082.327516</td>\n",
       "      <td>106500.0</td>\n",
       "      <td>165900.0</td>\n",
       "      <td>193000.0</td>\n",
       "      <td>208000.0</td>\n",
       "      <td>231500.0</td>\n",
       "    </tr>\n",
       "    <tr>\n",
       "      <th>Siyah</th>\n",
       "      <td>263.0</td>\n",
       "      <td>152239.117871</td>\n",
       "      <td>28294.045948</td>\n",
       "      <td>75000.0</td>\n",
       "      <td>132000.0</td>\n",
       "      <td>144950.0</td>\n",
       "      <td>173900.0</td>\n",
       "      <td>237000.0</td>\n",
       "    </tr>\n",
       "    <tr>\n",
       "      <th>Şampanya</th>\n",
       "      <td>1.0</td>\n",
       "      <td>232000.000000</td>\n",
       "      <td>NaN</td>\n",
       "      <td>232000.0</td>\n",
       "      <td>232000.0</td>\n",
       "      <td>232000.0</td>\n",
       "      <td>232000.0</td>\n",
       "      <td>232000.0</td>\n",
       "    </tr>\n",
       "  </tbody>\n",
       "</table>\n",
       "</div>"
      ],
      "text/plain": [
       "            count           mean           std       min       25%       50%  \\\n",
       "color                                                                          \n",
       "Bej           6.0  172166.666667  24326.254678  128500.0  166875.0  178000.0   \n",
       "Beyaz       551.0  169889.925590  32690.487673   92900.0  144125.0  173000.0   \n",
       "Füme         38.0  198626.315789  42314.775607   95000.0  166875.0  232000.0   \n",
       "Gri         192.0  177528.333333  24864.008500   75000.0  165000.0  178500.0   \n",
       "Gümüş Gri   106.0  167636.216981  36404.878109  114750.0  126187.5  180000.0   \n",
       "Kahverengi    8.0  171237.500000  27669.048592  116000.0  160925.0  176875.0   \n",
       "Lacivert      9.0  184994.444444  40758.438117  117500.0  173500.0  176500.0   \n",
       "Mavi         13.0  184346.153846  36082.327516  106500.0  165900.0  193000.0   \n",
       "Siyah       263.0  152239.117871  28294.045948   75000.0  132000.0  144950.0   \n",
       "Şampanya      1.0  232000.000000           NaN  232000.0  232000.0  232000.0   \n",
       "\n",
       "                 75%       max  \n",
       "color                           \n",
       "Bej         184250.0  199000.0  \n",
       "Beyaz       190750.0  264900.0  \n",
       "Füme        232000.0  232000.0  \n",
       "Gri         183500.0  262000.0  \n",
       "Gümüş Gri   197750.0  278000.0  \n",
       "Kahverengi  184062.5  205000.0  \n",
       "Lacivert    204950.0  245000.0  \n",
       "Mavi        208000.0  231500.0  \n",
       "Siyah       173900.0  237000.0  \n",
       "Şampanya    232000.0  232000.0  "
      ]
     },
     "execution_count": 134,
     "metadata": {},
     "output_type": "execute_result"
    }
   ],
   "source": [
    "#Check out the summary statistics of the price after grouping by color.\n",
    "cdata.groupby('color')['price'].describe()"
   ]
  },
  {
   "cell_type": "code",
   "execution_count": 201,
   "metadata": {},
   "outputs": [
    {
     "data": {
      "text/plain": [
       "<matplotlib.axes._subplots.AxesSubplot at 0x2009f3a6dd8>"
      ]
     },
     "execution_count": 201,
     "metadata": {},
     "output_type": "execute_result"
    },
    {
     "data": {
      "image/png": "[encoded data removed]",
      "text/plain": [
       "<Figure size 432x288 with 1 Axes>"
      ]
     },
     "metadata": {
      "needs_background": "light"
     },
     "output_type": "display_data"
    }
   ],
   "source": [
    "sns.distplot(cdata['modelyear'],kde=False,bins=9)"
   ]
  },
  {
   "cell_type": "code",
   "execution_count": 120,
   "metadata": {},
   "outputs": [
    {
     "data": {
      "text/plain": [
       "<matplotlib.axes._subplots.AxesSubplot at 0x200996f3ac8>"
      ]
     },
     "execution_count": 120,
     "metadata": {},
     "output_type": "execute_result"
    },
    {
     "data": {
      "image/png": "[encoded data removed]",
      "text/plain": [
       "<Figure size 432x288 with 1 Axes>"
      ]
     },
     "metadata": {
      "needs_background": "light"
     },
     "output_type": "display_data"
    }
   ],
   "source": [
    "cdata['price'].hist(bins=10)"
   ]
  },
  {
   "cell_type": "code",
   "execution_count": 140,
   "metadata": {},
   "outputs": [
    {
     "data": {
      "image/png": "[encoded data removed]",
      "text/plain": [
       "<Figure size 432x432 with 3 Axes>"
      ]
     },
     "metadata": {
      "needs_background": "light"
     },
     "output_type": "display_data"
    }
   ],
   "source": [
    "sns.jointplot(x=\"price\", y=\"mileage\", data=cdata, kind=\"kde\");"
   ]
  },
  {
   "cell_type": "code",
   "execution_count": 144,
   "metadata": {},
   "outputs": [
    {
     "data": {
      "image/png": "[encoded data removed]",
      "text/plain": [
       "<Figure size 632.875x540 with 12 Axes>"
      ]
     },
     "metadata": {
      "needs_background": "light"
     },
     "output_type": "display_data"
    }
   ],
   "source": [
    "sns.pairplot(cdata[['modelyear','mileage','price','color']], hue=\"color\");"
   ]
  },
  {
   "cell_type": "code",
   "execution_count": 147,
   "metadata": {},
   "outputs": [
    {
     "data": {
      "text/plain": [
       "<seaborn.axisgrid.FacetGrid at 0x2009cfb2320>"
      ]
     },
     "execution_count": 147,
     "metadata": {},
     "output_type": "execute_result"
    },
    {
     "data": {
      "image/png": "[encoded data removed]",
      "text/plain": [
       "<Figure size 720x360 with 1 Axes>"
      ]
     },
     "metadata": {
      "needs_background": "light"
     },
     "output_type": "display_data"
    }
   ],
   "source": [
    "sns.catplot(x=\"color\", y=\"price\", data=cdata,height=5,aspect=2)"
   ]
  },
  {
   "cell_type": "code",
   "execution_count": 124,
   "metadata": {},
   "outputs": [
    {
     "data": {
      "text/plain": [
       "<seaborn.axisgrid.FacetGrid at 0x20098afeb00>"
      ]
     },
     "execution_count": 124,
     "metadata": {},
     "output_type": "execute_result"
    },
    {
     "data": {
      "image/png": "[encoded data removed]",
      "text/plain": [
       "<Figure size 720x360 with 1 Axes>"
      ]
     },
     "metadata": {
      "needs_background": "light"
     },
     "output_type": "display_data"
    }
   ],
   "source": [
    "sns.lmplot('modelyear', 'price', data=data, fit_reg=True,height=5,aspect=2)"
   ]
  },
  {
   "cell_type": "code",
   "execution_count": 125,
   "metadata": {},
   "outputs": [
    {
     "data": {
      "text/plain": [
       "<seaborn.axisgrid.FacetGrid at 0x20098d5ca90>"
      ]
     },
     "execution_count": 125,
     "metadata": {},
     "output_type": "execute_result"
    },
    {
     "data": {
      "image/png": "[encoded data removed]",
      "text/plain": [
       "<Figure size 720x360 with 1 Axes>"
      ]
     },
     "metadata": {
      "needs_background": "light"
     },
     "output_type": "display_data"
    }
   ],
   "source": [
    "sns.lmplot('mileage', 'price', data=data[(data['mileage']>1000)], fit_reg=True,height=5,aspect=2)"
   ]
  },
  {
   "cell_type": "code",
   "execution_count": 107,
   "metadata": {},
   "outputs": [
    {
     "data": {
      "text/html": [
       "<div>\n",
       "<style scoped>\n",
       "    .dataframe tbody tr th:only-of-type {\n",
       "        vertical-align: middle;\n",
       "    }\n",
       "\n",
       "    .dataframe tbody tr th {\n",
       "        vertical-align: top;\n",
       "    }\n",
       "\n",
       "    .dataframe thead th {\n",
       "        text-align: right;\n",
       "    }\n",
       "</style>\n",
       "<table border=\"1\" class=\"dataframe\">\n",
       "  <thead>\n",
       "    <tr style=\"text-align: right;\">\n",
       "      <th></th>\n",
       "      <th>id</th>\n",
       "      <th>model</th>\n",
       "      <th>title</th>\n",
       "      <th>link</th>\n",
       "      <th>modelyear</th>\n",
       "      <th>mileage</th>\n",
       "      <th>color</th>\n",
       "      <th>price</th>\n",
       "      <th>day</th>\n",
       "      <th>month</th>\n",
       "      <th>year</th>\n",
       "      <th>province</th>\n",
       "      <th>district</th>\n",
       "    </tr>\n",
       "  </thead>\n",
       "  <tbody>\n",
       "    <tr>\n",
       "      <th>166</th>\n",
       "      <td>793908414</td>\n",
       "      <td>Comfortline</td>\n",
       "      <td>Satılık Passat</td>\n",
       "      <td>https://www.sahibinden.com/ilan/vasita-otomobi...</td>\n",
       "      <td>2012</td>\n",
       "      <td>86000</td>\n",
       "      <td>Siyah</td>\n",
       "      <td>122000</td>\n",
       "      <td>23</td>\n",
       "      <td>February</td>\n",
       "      <td>2020</td>\n",
       "      <td>İstanbul</td>\n",
       "      <td>Gaziosmanpaşa</td>\n",
       "    </tr>\n",
       "    <tr>\n",
       "      <th>229</th>\n",
       "      <td>793917209</td>\n",
       "      <td>Comfortline</td>\n",
       "      <td>2014 MODEL 100 BİN KM DSG</td>\n",
       "      <td>https://www.sahibinden.com/ilan/vasita-otomobi...</td>\n",
       "      <td>2014</td>\n",
       "      <td>98000</td>\n",
       "      <td>Siyah</td>\n",
       "      <td>122500</td>\n",
       "      <td>23</td>\n",
       "      <td>February</td>\n",
       "      <td>2020</td>\n",
       "      <td>Gaziantep</td>\n",
       "      <td>Nurdağı</td>\n",
       "    </tr>\n",
       "    <tr>\n",
       "      <th>405</th>\n",
       "      <td>793558808</td>\n",
       "      <td>Comfortline</td>\n",
       "      <td>2014 model passat comfortline 84.000 de</td>\n",
       "      <td>https://www.sahibinden.com/ilan/vasita-otomobi...</td>\n",
       "      <td>2014</td>\n",
       "      <td>84000</td>\n",
       "      <td>Beyaz</td>\n",
       "      <td>112000</td>\n",
       "      <td>22</td>\n",
       "      <td>February</td>\n",
       "      <td>2020</td>\n",
       "      <td>Şanlıurfa</td>\n",
       "      <td>Haliliye</td>\n",
       "    </tr>\n",
       "    <tr>\n",
       "      <th>508</th>\n",
       "      <td>794022084</td>\n",
       "      <td>Comfortline</td>\n",
       "      <td>2013 model PASSAT otomatik</td>\n",
       "      <td>https://www.sahibinden.com/ilan/vasita-otomobi...</td>\n",
       "      <td>2013</td>\n",
       "      <td>196</td>\n",
       "      <td>Siyah</td>\n",
       "      <td>115000</td>\n",
       "      <td>23</td>\n",
       "      <td>February</td>\n",
       "      <td>2020</td>\n",
       "      <td>Hatay</td>\n",
       "      <td>Dörtyol</td>\n",
       "    </tr>\n",
       "    <tr>\n",
       "      <th>530</th>\n",
       "      <td>792821912</td>\n",
       "      <td>Comfortline</td>\n",
       "      <td>ACİL SAHİBİDEN 2012</td>\n",
       "      <td>https://www.sahibinden.com/ilan/vasita-otomobi...</td>\n",
       "      <td>2012</td>\n",
       "      <td>310</td>\n",
       "      <td>Siyah</td>\n",
       "      <td>89999</td>\n",
       "      <td>21</td>\n",
       "      <td>February</td>\n",
       "      <td>2020</td>\n",
       "      <td>İstanbul</td>\n",
       "      <td>Bahçelievler</td>\n",
       "    </tr>\n",
       "  </tbody>\n",
       "</table>\n",
       "</div>"
      ],
      "text/plain": [
       "            id        model                                    title  \\\n",
       "166  793908414  Comfortline                           Satılık Passat   \n",
       "229  793917209  Comfortline                2014 MODEL 100 BİN KM DSG   \n",
       "405  793558808  Comfortline  2014 model passat comfortline 84.000 de   \n",
       "508  794022084  Comfortline               2013 model PASSAT otomatik   \n",
       "530  792821912  Comfortline                      ACİL SAHİBİDEN 2012   \n",
       "\n",
       "                                                  link  modelyear  mileage  \\\n",
       "166  https://www.sahibinden.com/ilan/vasita-otomobi...       2012    86000   \n",
       "229  https://www.sahibinden.com/ilan/vasita-otomobi...       2014    98000   \n",
       "405  https://www.sahibinden.com/ilan/vasita-otomobi...       2014    84000   \n",
       "508  https://www.sahibinden.com/ilan/vasita-otomobi...       2013      196   \n",
       "530  https://www.sahibinden.com/ilan/vasita-otomobi...       2012      310   \n",
       "\n",
       "     color   price  day     month  year   province       district  \n",
       "166  Siyah  122000   23  February  2020   İstanbul  Gaziosmanpaşa  \n",
       "229  Siyah  122500   23  February  2020  Gaziantep        Nurdağı  \n",
       "405  Beyaz  112000   22  February  2020  Şanlıurfa       Haliliye  \n",
       "508  Siyah  115000   23  February  2020      Hatay        Dörtyol  \n",
       "530  Siyah   89999   21  February  2020   İstanbul   Bahçelievler  "
      ]
     },
     "execution_count": 107,
     "metadata": {},
     "output_type": "execute_result"
    }
   ],
   "source": [
    "data[(data['mileage']<100000) & (data['price']<125000) & (data['model']=='Comfortline')]"
   ]
  },
  {
   "cell_type": "code",
   "execution_count": 100,
   "metadata": {},
   "outputs": [
    {
     "name": "stdout",
     "output_type": "stream",
     "text": [
      "https://www.sahibinden.com/ilan/vasita-otomobil-volkswagen-2014-model-100-bin-km-dsg-793917209/detay\n"
     ]
    }
   ],
   "source": [
    "print(data.loc[217,'link'])"
   ]
  },
  {
   "cell_type": "markdown",
   "metadata": {},
   "source": [
    "### Question: What is the average mileage per year? Does it depend on the model year? Does it depend on the car options?\n",
    "\n",
    "In this analysis we will not include cars with model year 2019 and greater. We will also not include cars with mileage less than 1000 km. We will assume that a car with modelyear 2018 has been driven since mid 2018. So, the age of the car is 1.5 years."
   ]
  },
  {
   "cell_type": "code",
   "execution_count": 150,
   "metadata": {},
   "outputs": [],
   "source": [
    "mdata=data[(data['modelyear']<2019) & (data['mileage']>1000)].copy()"
   ]
  },
  {
   "cell_type": "code",
   "execution_count": 197,
   "metadata": {},
   "outputs": [
    {
     "data": {
      "text/plain": [
       "<matplotlib.axes._subplots.AxesSubplot at 0x2009d0104e0>"
      ]
     },
     "execution_count": 197,
     "metadata": {},
     "output_type": "execute_result"
    },
    {
     "data": {
      "image/png": "[encoded data removed]",
      "text/plain": [
       "<Figure size 432x288 with 1 Axes>"
      ]
     },
     "metadata": {
      "needs_background": "light"
     },
     "output_type": "display_data"
    }
   ],
   "source": [
    "#calculate the average mileage in (km):\n",
    "mdata['av_mileage']=data['mileage']/(2019.5-data['modelyear'])\n",
    "sns.distplot(mdata['av_mileage'],kde=False)"
   ]
  },
  {
   "cell_type": "markdown",
   "metadata": {},
   "source": [
    "Average mileage per year for all cars is (the unit is km/year)"
   ]
  },
  {
   "cell_type": "code",
   "execution_count": 156,
   "metadata": {},
   "outputs": [
    {
     "data": {
      "text/plain": [
       "25505.29185145215"
      ]
     },
     "execution_count": 156,
     "metadata": {},
     "output_type": "execute_result"
    }
   ],
   "source": [
    "mdata['av_mileage'].mean()"
   ]
  },
  {
   "cell_type": "markdown",
   "metadata": {},
   "source": [
    "Average mileage per year for cars with different options:"
   ]
  },
  {
   "cell_type": "code",
   "execution_count": 158,
   "metadata": {},
   "outputs": [
    {
     "data": {
      "text/html": [
       "<div>\n",
       "<style scoped>\n",
       "    .dataframe tbody tr th:only-of-type {\n",
       "        vertical-align: middle;\n",
       "    }\n",
       "\n",
       "    .dataframe tbody tr th {\n",
       "        vertical-align: top;\n",
       "    }\n",
       "\n",
       "    .dataframe thead th {\n",
       "        text-align: right;\n",
       "    }\n",
       "</style>\n",
       "<table border=\"1\" class=\"dataframe\">\n",
       "  <thead>\n",
       "    <tr style=\"text-align: right;\">\n",
       "      <th></th>\n",
       "      <th>count</th>\n",
       "      <th>mean</th>\n",
       "      <th>std</th>\n",
       "      <th>min</th>\n",
       "      <th>25%</th>\n",
       "      <th>50%</th>\n",
       "      <th>75%</th>\n",
       "      <th>max</th>\n",
       "    </tr>\n",
       "    <tr>\n",
       "      <th>model</th>\n",
       "      <th></th>\n",
       "      <th></th>\n",
       "      <th></th>\n",
       "      <th></th>\n",
       "      <th></th>\n",
       "      <th></th>\n",
       "      <th></th>\n",
       "      <th></th>\n",
       "    </tr>\n",
       "  </thead>\n",
       "  <tbody>\n",
       "    <tr>\n",
       "      <th>Comfortline</th>\n",
       "      <td>1180.0</td>\n",
       "      <td>24837.612741</td>\n",
       "      <td>10318.819539</td>\n",
       "      <td>3428.571429</td>\n",
       "      <td>17714.285714</td>\n",
       "      <td>25000.000000</td>\n",
       "      <td>31777.777778</td>\n",
       "      <td>90800.000000</td>\n",
       "    </tr>\n",
       "    <tr>\n",
       "      <th>Exclusive</th>\n",
       "      <td>59.0</td>\n",
       "      <td>20265.468769</td>\n",
       "      <td>2689.354409</td>\n",
       "      <td>9446.153846</td>\n",
       "      <td>18909.090909</td>\n",
       "      <td>20307.692308</td>\n",
       "      <td>20307.692308</td>\n",
       "      <td>28615.384615</td>\n",
       "    </tr>\n",
       "    <tr>\n",
       "      <th>Highline</th>\n",
       "      <td>311.0</td>\n",
       "      <td>27451.532570</td>\n",
       "      <td>9571.455497</td>\n",
       "      <td>2666.666667</td>\n",
       "      <td>21483.516484</td>\n",
       "      <td>26666.666667</td>\n",
       "      <td>33818.181818</td>\n",
       "      <td>56666.666667</td>\n",
       "    </tr>\n",
       "    <tr>\n",
       "      <th>Impression</th>\n",
       "      <td>95.0</td>\n",
       "      <td>27145.922807</td>\n",
       "      <td>12073.230950</td>\n",
       "      <td>3133.333333</td>\n",
       "      <td>15833.333333</td>\n",
       "      <td>23948.666667</td>\n",
       "      <td>38800.000000</td>\n",
       "      <td>64000.000000</td>\n",
       "    </tr>\n",
       "    <tr>\n",
       "      <th>R Line</th>\n",
       "      <td>36.0</td>\n",
       "      <td>22848.280423</td>\n",
       "      <td>6794.306211</td>\n",
       "      <td>3200.000000</td>\n",
       "      <td>23494.047619</td>\n",
       "      <td>25428.571429</td>\n",
       "      <td>25428.571429</td>\n",
       "      <td>32000.000000</td>\n",
       "    </tr>\n",
       "    <tr>\n",
       "      <th>Trendline</th>\n",
       "      <td>164.0</td>\n",
       "      <td>28255.005024</td>\n",
       "      <td>8417.475623</td>\n",
       "      <td>4888.888889</td>\n",
       "      <td>26152.941176</td>\n",
       "      <td>28000.000000</td>\n",
       "      <td>33333.333333</td>\n",
       "      <td>63600.000000</td>\n",
       "    </tr>\n",
       "    <tr>\n",
       "      <th>none</th>\n",
       "      <td>45.0</td>\n",
       "      <td>25073.504274</td>\n",
       "      <td>5538.314770</td>\n",
       "      <td>13846.153846</td>\n",
       "      <td>20000.000000</td>\n",
       "      <td>24000.000000</td>\n",
       "      <td>30769.230769</td>\n",
       "      <td>30769.230769</td>\n",
       "    </tr>\n",
       "  </tbody>\n",
       "</table>\n",
       "</div>"
      ],
      "text/plain": [
       "              count          mean           std           min           25%  \\\n",
       "model                                                                         \n",
       "Comfortline  1180.0  24837.612741  10318.819539   3428.571429  17714.285714   \n",
       "Exclusive      59.0  20265.468769   2689.354409   9446.153846  18909.090909   \n",
       "Highline      311.0  27451.532570   9571.455497   2666.666667  21483.516484   \n",
       "Impression     95.0  27145.922807  12073.230950   3133.333333  15833.333333   \n",
       "R Line         36.0  22848.280423   6794.306211   3200.000000  23494.047619   \n",
       "Trendline     164.0  28255.005024   8417.475623   4888.888889  26152.941176   \n",
       "none           45.0  25073.504274   5538.314770  13846.153846  20000.000000   \n",
       "\n",
       "                      50%           75%           max  \n",
       "model                                                  \n",
       "Comfortline  25000.000000  31777.777778  90800.000000  \n",
       "Exclusive    20307.692308  20307.692308  28615.384615  \n",
       "Highline     26666.666667  33818.181818  56666.666667  \n",
       "Impression   23948.666667  38800.000000  64000.000000  \n",
       "R Line       25428.571429  25428.571429  32000.000000  \n",
       "Trendline    28000.000000  33333.333333  63600.000000  \n",
       "none         24000.000000  30769.230769  30769.230769  "
      ]
     },
     "execution_count": 158,
     "metadata": {},
     "output_type": "execute_result"
    }
   ],
   "source": [
    "mdata.groupby('model')['av_mileage'].describe()"
   ]
  },
  {
   "cell_type": "markdown",
   "metadata": {},
   "source": [
    "It appears that cars with \"Exclusive\" option are on the average driven significantly less than cars with other options whereas \"Trendline\" option appears to be driven more than the other options. \"Comfortline\" is the most popular option and its average mileage per year is about 25000 km per year."
   ]
  },
  {
   "cell_type": "markdown",
   "metadata": {},
   "source": [
    "Below is the average price of each option for 4 model years."
   ]
  },
  {
   "cell_type": "code",
   "execution_count": 169,
   "metadata": {},
   "outputs": [
    {
     "data": {
      "text/html": [
       "<div>\n",
       "<style scoped>\n",
       "    .dataframe tbody tr th:only-of-type {\n",
       "        vertical-align: middle;\n",
       "    }\n",
       "\n",
       "    .dataframe tbody tr th {\n",
       "        vertical-align: top;\n",
       "    }\n",
       "\n",
       "    .dataframe thead th {\n",
       "        text-align: right;\n",
       "    }\n",
       "</style>\n",
       "<table border=\"1\" class=\"dataframe\">\n",
       "  <thead>\n",
       "    <tr style=\"text-align: right;\">\n",
       "      <th></th>\n",
       "      <th></th>\n",
       "      <th>price</th>\n",
       "      <th>av_mileage</th>\n",
       "    </tr>\n",
       "    <tr>\n",
       "      <th>modelyear</th>\n",
       "      <th>model</th>\n",
       "      <th></th>\n",
       "      <th></th>\n",
       "    </tr>\n",
       "  </thead>\n",
       "  <tbody>\n",
       "    <tr>\n",
       "      <th rowspan=\"5\" valign=\"top\">2013</th>\n",
       "      <th>Comfortline</th>\n",
       "      <td>141462.895161</td>\n",
       "      <td>22561.544665</td>\n",
       "    </tr>\n",
       "    <tr>\n",
       "      <th>Exclusive</th>\n",
       "      <td>148866.176471</td>\n",
       "      <td>20947.511312</td>\n",
       "    </tr>\n",
       "    <tr>\n",
       "      <th>Highline</th>\n",
       "      <td>144966.216216</td>\n",
       "      <td>24543.243243</td>\n",
       "    </tr>\n",
       "    <tr>\n",
       "      <th>Trendline</th>\n",
       "      <td>125877.777778</td>\n",
       "      <td>25803.418803</td>\n",
       "    </tr>\n",
       "    <tr>\n",
       "      <th>none</th>\n",
       "      <td>126347.826087</td>\n",
       "      <td>29752.508361</td>\n",
       "    </tr>\n",
       "    <tr>\n",
       "      <th rowspan=\"4\" valign=\"top\">2014</th>\n",
       "      <th>Comfortline</th>\n",
       "      <td>145223.105960</td>\n",
       "      <td>26711.070439</td>\n",
       "    </tr>\n",
       "    <tr>\n",
       "      <th>Exclusive</th>\n",
       "      <td>140086.000000</td>\n",
       "      <td>19337.890909</td>\n",
       "    </tr>\n",
       "    <tr>\n",
       "      <th>Highline</th>\n",
       "      <td>169118.918919</td>\n",
       "      <td>22772.742015</td>\n",
       "    </tr>\n",
       "    <tr>\n",
       "      <th>Trendline</th>\n",
       "      <td>136250.000000</td>\n",
       "      <td>27665.734266</td>\n",
       "    </tr>\n",
       "    <tr>\n",
       "      <th rowspan=\"3\" valign=\"top\">2015</th>\n",
       "      <th>Comfortline</th>\n",
       "      <td>177396.498801</td>\n",
       "      <td>27088.427391</td>\n",
       "    </tr>\n",
       "    <tr>\n",
       "      <th>Highline</th>\n",
       "      <td>207907.272727</td>\n",
       "      <td>23781.688889</td>\n",
       "    </tr>\n",
       "    <tr>\n",
       "      <th>Trendline</th>\n",
       "      <td>158238.755102</td>\n",
       "      <td>31276.870748</td>\n",
       "    </tr>\n",
       "    <tr>\n",
       "      <th rowspan=\"4\" valign=\"top\">2016</th>\n",
       "      <th>Comfortline</th>\n",
       "      <td>196011.239234</td>\n",
       "      <td>24441.406699</td>\n",
       "    </tr>\n",
       "    <tr>\n",
       "      <th>Highline</th>\n",
       "      <td>228881.683168</td>\n",
       "      <td>28902.280057</td>\n",
       "    </tr>\n",
       "    <tr>\n",
       "      <th>R Line</th>\n",
       "      <td>245363.461538</td>\n",
       "      <td>24845.054945</td>\n",
       "    </tr>\n",
       "    <tr>\n",
       "      <th>Trendline</th>\n",
       "      <td>173633.333333</td>\n",
       "      <td>29945.238095</td>\n",
       "    </tr>\n",
       "  </tbody>\n",
       "</table>\n",
       "</div>"
      ],
      "text/plain": [
       "                               price    av_mileage\n",
       "modelyear model                                   \n",
       "2013      Comfortline  141462.895161  22561.544665\n",
       "          Exclusive    148866.176471  20947.511312\n",
       "          Highline     144966.216216  24543.243243\n",
       "          Trendline    125877.777778  25803.418803\n",
       "          none         126347.826087  29752.508361\n",
       "2014      Comfortline  145223.105960  26711.070439\n",
       "          Exclusive    140086.000000  19337.890909\n",
       "          Highline     169118.918919  22772.742015\n",
       "          Trendline    136250.000000  27665.734266\n",
       "2015      Comfortline  177396.498801  27088.427391\n",
       "          Highline     207907.272727  23781.688889\n",
       "          Trendline    158238.755102  31276.870748\n",
       "2016      Comfortline  196011.239234  24441.406699\n",
       "          Highline     228881.683168  28902.280057\n",
       "          R Line       245363.461538  24845.054945\n",
       "          Trendline    173633.333333  29945.238095"
      ]
     },
     "execution_count": 169,
     "metadata": {},
     "output_type": "execute_result"
    }
   ],
   "source": [
    "mdata[(mdata['modelyear'].isin([2013,2014,2015,2016]))].groupby(['modelyear','model'])[['price','av_mileage']].mean()"
   ]
  },
  {
   "cell_type": "markdown",
   "metadata": {},
   "source": [
    "Clearly, 'Trendline' is the lowest priced option and has the larges average mileage. 'Highline' is the most expensive and its av_mileage is less than the 'Comfortline'. The most popular 'Comfortline' option is more expansive than 'Trendline' and has less mileage. Interestingly '2013 - Exlusive' models are more expensive than 'Highline' of the same year but the '2014 - Exclusive' is less expensive than even 'Comfortline'. They are even cheaper than the previous years same option cars. This might indicate an issue with the '2014 - Exclusive options!!!\n",
    "\n",
    "The cheaper option models having higher average mileage is partially connected to the higher mileage of these cars but also indicates that on the average cars with more expensive options were driven less!!!"
   ]
  },
  {
   "cell_type": "markdown",
   "metadata": {},
   "source": [
    "**Model Year:**"
   ]
  },
  {
   "cell_type": "code",
   "execution_count": 196,
   "metadata": {},
   "outputs": [
    {
     "data": {
      "text/plain": [
       "<matplotlib.axes._subplots.AxesSubplot at 0x20096acdc50>"
      ]
     },
     "execution_count": 196,
     "metadata": {},
     "output_type": "execute_result"
    },
    {
     "data": {
      "image/png": "[encoded data removed]",
      "text/plain": [
       "<Figure size 432x288 with 1 Axes>"
      ]
     },
     "metadata": {
      "needs_background": "light"
     },
     "output_type": "display_data"
    }
   ],
   "source": [
    "mdata[mdata['modelyear']>2010].groupby(['modelyear']).mean().reset_index().plot.scatter(x='modelyear',y='av_mileage')"
   ]
  },
  {
   "cell_type": "markdown",
   "metadata": {},
   "source": [
    "There is a slight increase in the average mileage with model year of the car. This might be due to owners of cars with lower mileage selling them at a later date."
   ]
  },
  {
   "cell_type": "markdown",
   "metadata": {},
   "source": [
    "### Question: Is 2013 - Exclusive more expensive than 2014 - Exclusive:\n",
    "\n",
    "Below we will download data for the Exclusive option only and compare the car pricing for 2013 and 2014 models."
   ]
  },
  {
   "cell_type": "code",
   "execution_count": 179,
   "metadata": {},
   "outputs": [
    {
     "data": {
      "text/html": [
       "<div>\n",
       "<style scoped>\n",
       "    .dataframe tbody tr th:only-of-type {\n",
       "        vertical-align: middle;\n",
       "    }\n",
       "\n",
       "    .dataframe tbody tr th {\n",
       "        vertical-align: top;\n",
       "    }\n",
       "\n",
       "    .dataframe thead th {\n",
       "        text-align: right;\n",
       "    }\n",
       "</style>\n",
       "<table border=\"1\" class=\"dataframe\">\n",
       "  <thead>\n",
       "    <tr style=\"text-align: right;\">\n",
       "      <th></th>\n",
       "      <th>id</th>\n",
       "      <th>model</th>\n",
       "      <th>title</th>\n",
       "      <th>link</th>\n",
       "      <th>modelyear</th>\n",
       "      <th>mileage</th>\n",
       "      <th>color</th>\n",
       "      <th>price</th>\n",
       "      <th>day</th>\n",
       "      <th>month</th>\n",
       "      <th>year</th>\n",
       "      <th>province</th>\n",
       "      <th>district</th>\n",
       "    </tr>\n",
       "  </thead>\n",
       "  <tbody>\n",
       "    <tr>\n",
       "      <th>0</th>\n",
       "      <td>791331801</td>\n",
       "      <td>none</td>\n",
       "      <td>ERMAT LINE 2014 VOLKSWAGEN PASSAT 1.6 TDI BMT ...</td>\n",
       "      <td>https://www.sahibinden.com/ilan/vasita-otomobi...</td>\n",
       "      <td>2014</td>\n",
       "      <td>138960</td>\n",
       "      <td>Gri</td>\n",
       "      <td>163900</td>\n",
       "      <td>15</td>\n",
       "      <td>February</td>\n",
       "      <td>2020</td>\n",
       "      <td>İzmir</td>\n",
       "      <td>Gaziemir</td>\n",
       "    </tr>\n",
       "    <tr>\n",
       "      <th>1</th>\n",
       "      <td>793986792</td>\n",
       "      <td>none</td>\n",
       "      <td>Sahibinden acil satılık passat</td>\n",
       "      <td>https://www.sahibinden.com/ilan/vasita-otomobi...</td>\n",
       "      <td>2014</td>\n",
       "      <td>133000</td>\n",
       "      <td>Siyah</td>\n",
       "      <td>119000</td>\n",
       "      <td>23</td>\n",
       "      <td>February</td>\n",
       "      <td>2020</td>\n",
       "      <td>İstanbul</td>\n",
       "      <td>Büyükçekmece</td>\n",
       "    </tr>\n",
       "    <tr>\n",
       "      <th>2</th>\n",
       "      <td>788901242</td>\n",
       "      <td>none</td>\n",
       "      <td>2014 MODEL PASSAT 1.6 TDİ EXCLUSİVE DSG 116.00...</td>\n",
       "      <td>https://www.sahibinden.com/ilan/vasita-otomobi...</td>\n",
       "      <td>2014</td>\n",
       "      <td>116000</td>\n",
       "      <td>Beyaz</td>\n",
       "      <td>147000</td>\n",
       "      <td>23</td>\n",
       "      <td>February</td>\n",
       "      <td>2020</td>\n",
       "      <td>İzmir</td>\n",
       "      <td>Bornova</td>\n",
       "    </tr>\n",
       "    <tr>\n",
       "      <th>3</th>\n",
       "      <td>793897425</td>\n",
       "      <td>none</td>\n",
       "      <td>2013 hatasız boyasız otomatik dizel exclusive</td>\n",
       "      <td>https://www.sahibinden.com/ilan/vasita-otomobi...</td>\n",
       "      <td>2013</td>\n",
       "      <td>148000</td>\n",
       "      <td>Beyaz</td>\n",
       "      <td>146750</td>\n",
       "      <td>23</td>\n",
       "      <td>February</td>\n",
       "      <td>2020</td>\n",
       "      <td>Şanlıurfa</td>\n",
       "      <td>Haliliye</td>\n",
       "    </tr>\n",
       "    <tr>\n",
       "      <th>4</th>\n",
       "      <td>793897142</td>\n",
       "      <td>none</td>\n",
       "      <td>SİTENİN EN YAKIŞIKLISINI SATIYORUZ FABRİKASYON...</td>\n",
       "      <td>https://www.sahibinden.com/ilan/vasita-otomobi...</td>\n",
       "      <td>2013</td>\n",
       "      <td>170000</td>\n",
       "      <td>Siyah</td>\n",
       "      <td>145000</td>\n",
       "      <td>23</td>\n",
       "      <td>February</td>\n",
       "      <td>2020</td>\n",
       "      <td>Ağrı</td>\n",
       "      <td>Patnos</td>\n",
       "    </tr>\n",
       "    <tr>\n",
       "      <th>...</th>\n",
       "      <td>...</td>\n",
       "      <td>...</td>\n",
       "      <td>...</td>\n",
       "      <td>...</td>\n",
       "      <td>...</td>\n",
       "      <td>...</td>\n",
       "      <td>...</td>\n",
       "      <td>...</td>\n",
       "      <td>...</td>\n",
       "      <td>...</td>\n",
       "      <td>...</td>\n",
       "      <td>...</td>\n",
       "      <td>...</td>\n",
       "    </tr>\n",
       "    <tr>\n",
       "      <th>90</th>\n",
       "      <td>653073830</td>\n",
       "      <td>none</td>\n",
       "      <td>2013 VOLKSWAGEN PASSAT 1.6 TDİ BLUEMOTİON EXCL...</td>\n",
       "      <td>https://www.sahibinden.com/ilan/vasita-otomobi...</td>\n",
       "      <td>2013</td>\n",
       "      <td>147000</td>\n",
       "      <td>Gümüş Gri</td>\n",
       "      <td>145000</td>\n",
       "      <td>25</td>\n",
       "      <td>January</td>\n",
       "      <td>2020</td>\n",
       "      <td>Hatay</td>\n",
       "      <td>Antakya</td>\n",
       "    </tr>\n",
       "    <tr>\n",
       "      <th>91</th>\n",
       "      <td>783862242</td>\n",
       "      <td>none</td>\n",
       "      <td>SEVİM AUTO FARKIYLA HATASIZ BOYASIZ VW PASSAT ...</td>\n",
       "      <td>https://www.sahibinden.com/ilan/vasita-otomobi...</td>\n",
       "      <td>2013</td>\n",
       "      <td>139000</td>\n",
       "      <td>Beyaz</td>\n",
       "      <td>148000</td>\n",
       "      <td>25</td>\n",
       "      <td>January</td>\n",
       "      <td>2020</td>\n",
       "      <td>Yozgat</td>\n",
       "      <td>Sorgun</td>\n",
       "    </tr>\n",
       "    <tr>\n",
       "      <th>92</th>\n",
       "      <td>785555944</td>\n",
       "      <td>none</td>\n",
       "      <td>SEDA HN. OPSİYONLUDUR. VOLKSWAGEN Passat 1.6 T...</td>\n",
       "      <td>https://www.sahibinden.com/ilan/vasita-otomobi...</td>\n",
       "      <td>2013</td>\n",
       "      <td>107500</td>\n",
       "      <td>Siyah</td>\n",
       "      <td>135000</td>\n",
       "      <td>30</td>\n",
       "      <td>January</td>\n",
       "      <td>2020</td>\n",
       "      <td>Çankırı</td>\n",
       "      <td>Merkez</td>\n",
       "    </tr>\n",
       "    <tr>\n",
       "      <th>93</th>\n",
       "      <td>778212738</td>\n",
       "      <td>none</td>\n",
       "      <td>SAHİBİNDEN ÇOK TEMİZ PASSAT</td>\n",
       "      <td>https://www.sahibinden.com/ilan/vasita-otomobi...</td>\n",
       "      <td>2014</td>\n",
       "      <td>86600</td>\n",
       "      <td>Beyaz</td>\n",
       "      <td>153000</td>\n",
       "      <td>10</td>\n",
       "      <td>January</td>\n",
       "      <td>2020</td>\n",
       "      <td>Gaziantep</td>\n",
       "      <td>Şehitkamil</td>\n",
       "    </tr>\n",
       "    <tr>\n",
       "      <th>94</th>\n",
       "      <td>714106975</td>\n",
       "      <td>none</td>\n",
       "      <td>İLK SAHİBİNDEN HATASIZ</td>\n",
       "      <td>https://www.sahibinden.com/ilan/vasita-otomobi...</td>\n",
       "      <td>2013</td>\n",
       "      <td>215000</td>\n",
       "      <td>Siyah</td>\n",
       "      <td>119500</td>\n",
       "      <td>24</td>\n",
       "      <td>July</td>\n",
       "      <td>2019</td>\n",
       "      <td>Çanakkale</td>\n",
       "      <td>Merkez</td>\n",
       "    </tr>\n",
       "  </tbody>\n",
       "</table>\n",
       "<p>95 rows × 13 columns</p>\n",
       "</div>"
      ],
      "text/plain": [
       "           id model                                              title  \\\n",
       "0   791331801  none  ERMAT LINE 2014 VOLKSWAGEN PASSAT 1.6 TDI BMT ...   \n",
       "1   793986792  none                     Sahibinden acil satılık passat   \n",
       "2   788901242  none  2014 MODEL PASSAT 1.6 TDİ EXCLUSİVE DSG 116.00...   \n",
       "3   793897425  none      2013 hatasız boyasız otomatik dizel exclusive   \n",
       "4   793897142  none  SİTENİN EN YAKIŞIKLISINI SATIYORUZ FABRİKASYON...   \n",
       "..        ...   ...                                                ...   \n",
       "90  653073830  none  2013 VOLKSWAGEN PASSAT 1.6 TDİ BLUEMOTİON EXCL...   \n",
       "91  783862242  none  SEVİM AUTO FARKIYLA HATASIZ BOYASIZ VW PASSAT ...   \n",
       "92  785555944  none  SEDA HN. OPSİYONLUDUR. VOLKSWAGEN Passat 1.6 T...   \n",
       "93  778212738  none                        SAHİBİNDEN ÇOK TEMİZ PASSAT   \n",
       "94  714106975  none                             İLK SAHİBİNDEN HATASIZ   \n",
       "\n",
       "                                                 link  modelyear  mileage  \\\n",
       "0   https://www.sahibinden.com/ilan/vasita-otomobi...       2014   138960   \n",
       "1   https://www.sahibinden.com/ilan/vasita-otomobi...       2014   133000   \n",
       "2   https://www.sahibinden.com/ilan/vasita-otomobi...       2014   116000   \n",
       "3   https://www.sahibinden.com/ilan/vasita-otomobi...       2013   148000   \n",
       "4   https://www.sahibinden.com/ilan/vasita-otomobi...       2013   170000   \n",
       "..                                                ...        ...      ...   \n",
       "90  https://www.sahibinden.com/ilan/vasita-otomobi...       2013   147000   \n",
       "91  https://www.sahibinden.com/ilan/vasita-otomobi...       2013   139000   \n",
       "92  https://www.sahibinden.com/ilan/vasita-otomobi...       2013   107500   \n",
       "93  https://www.sahibinden.com/ilan/vasita-otomobi...       2014    86600   \n",
       "94  https://www.sahibinden.com/ilan/vasita-otomobi...       2013   215000   \n",
       "\n",
       "        color   price  day     month  year   province      district  \n",
       "0         Gri  163900   15  February  2020      İzmir      Gaziemir  \n",
       "1       Siyah  119000   23  February  2020   İstanbul  Büyükçekmece  \n",
       "2       Beyaz  147000   23  February  2020      İzmir       Bornova  \n",
       "3       Beyaz  146750   23  February  2020  Şanlıurfa      Haliliye  \n",
       "4       Siyah  145000   23  February  2020       Ağrı        Patnos  \n",
       "..        ...     ...  ...       ...   ...        ...           ...  \n",
       "90  Gümüş Gri  145000   25   January  2020      Hatay       Antakya  \n",
       "91      Beyaz  148000   25   January  2020     Yozgat        Sorgun  \n",
       "92      Siyah  135000   30   January  2020    Çankırı        Merkez  \n",
       "93      Beyaz  153000   10   January  2020  Gaziantep    Şehitkamil  \n",
       "94      Siyah  119500   24      July  2019  Çanakkale        Merkez  \n",
       "\n",
       "[95 rows x 13 columns]"
      ]
     },
     "execution_count": 179,
     "metadata": {},
     "output_type": "execute_result"
    }
   ],
   "source": [
    "carmodel = '/volkswagen-passat-1.6-tdi-bluemotion-exclusive'\n",
    "excdata=getdata(carmodel,pages=2)\n",
    "excdata"
   ]
  },
  {
   "cell_type": "code",
   "execution_count": 180,
   "metadata": {},
   "outputs": [
    {
     "data": {
      "text/plain": [
       "<seaborn.axisgrid.FacetGrid at 0x2009dac5160>"
      ]
     },
     "execution_count": 180,
     "metadata": {},
     "output_type": "execute_result"
    },
    {
     "data": {
      "image/png": "[encoded data removed]",
      "text/plain": [
       "<Figure size 720x360 with 1 Axes>"
      ]
     },
     "metadata": {
      "needs_background": "light"
     },
     "output_type": "display_data"
    }
   ],
   "source": [
    "sns.lmplot('modelyear', 'price', data=excdata, fit_reg=True,height=5,aspect=2)"
   ]
  },
  {
   "cell_type": "code",
   "execution_count": 185,
   "metadata": {},
   "outputs": [
    {
     "data": {
      "text/html": [
       "<div>\n",
       "<style scoped>\n",
       "    .dataframe tbody tr th:only-of-type {\n",
       "        vertical-align: middle;\n",
       "    }\n",
       "\n",
       "    .dataframe tbody tr th {\n",
       "        vertical-align: top;\n",
       "    }\n",
       "\n",
       "    .dataframe thead th {\n",
       "        text-align: right;\n",
       "    }\n",
       "</style>\n",
       "<table border=\"1\" class=\"dataframe\">\n",
       "  <thead>\n",
       "    <tr style=\"text-align: right;\">\n",
       "      <th></th>\n",
       "      <th>id</th>\n",
       "      <th>mileage</th>\n",
       "      <th>price</th>\n",
       "      <th>day</th>\n",
       "      <th>year</th>\n",
       "      <th>av_mileage</th>\n",
       "    </tr>\n",
       "    <tr>\n",
       "      <th>modelyear</th>\n",
       "      <th></th>\n",
       "      <th></th>\n",
       "      <th></th>\n",
       "      <th></th>\n",
       "      <th></th>\n",
       "      <th></th>\n",
       "    </tr>\n",
       "  </thead>\n",
       "  <tbody>\n",
       "    <tr>\n",
       "      <th>2013</th>\n",
       "      <td>7.844658e+08</td>\n",
       "      <td>144746.290909</td>\n",
       "      <td>138905.781818</td>\n",
       "      <td>17.290909</td>\n",
       "      <td>2019.981818</td>\n",
       "      <td>22268.660140</td>\n",
       "    </tr>\n",
       "    <tr>\n",
       "      <th>2014</th>\n",
       "      <td>7.847736e+08</td>\n",
       "      <td>121174.975000</td>\n",
       "      <td>151073.725000</td>\n",
       "      <td>14.625000</td>\n",
       "      <td>2020.000000</td>\n",
       "      <td>22031.813636</td>\n",
       "    </tr>\n",
       "  </tbody>\n",
       "</table>\n",
       "</div>"
      ],
      "text/plain": [
       "                     id        mileage          price        day         year  \\\n",
       "modelyear                                                                       \n",
       "2013       7.844658e+08  144746.290909  138905.781818  17.290909  2019.981818   \n",
       "2014       7.847736e+08  121174.975000  151073.725000  14.625000  2020.000000   \n",
       "\n",
       "             av_mileage  \n",
       "modelyear                \n",
       "2013       22268.660140  \n",
       "2014       22031.813636  "
      ]
     },
     "execution_count": 185,
     "metadata": {},
     "output_type": "execute_result"
    }
   ],
   "source": [
    "excdata['av_mileage']=excdata['mileage']/(2019.5-excdata['modelyear'])\n",
    "excdata.groupby('modelyear').mean()"
   ]
  },
  {
   "cell_type": "markdown",
   "metadata": {},
   "source": [
    "The data above shows that our interpretation in the previous section is not correct due to low number of data points. 2014 model is indeed more expensive than the 2013 model. It is similarly priced to 'Comfortline' but with 'av_mileage' similar to 'Highline' models. This option is not as popular as the other options which might indicate slightly lower price."
   ]
  },
  {
   "cell_type": "code",
   "execution_count": null,
   "metadata": {},
   "outputs": [],
   "source": []
  }
 ],
 "metadata": {
  "kernelspec": {
   "display_name": "Python 3",
   "language": "python",
   "name": "python3"
  },
  "language_info": {
   "codemirror_mode": {
    "name": "ipython",
    "version": 3
   },
   "file_extension": ".py",
   "mimetype": "text/x-python",
   "name": "python",
   "nbconvert_exporter": "python",
   "pygments_lexer": "ipython3",
   "version": "3.7.1"
  }
 },
 "nbformat": 4,
 "nbformat_minor": 2
}
